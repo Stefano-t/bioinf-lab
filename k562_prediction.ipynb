{
  "nbformat": 4,
  "nbformat_minor": 0,
  "metadata": {
    "colab": {
      "name": "k562-prediction.ipynb",
      "provenance": [],
      "collapsed_sections": []
    },
    "kernelspec": {
      "display_name": "Python 3",
      "language": "python",
      "name": "python3"
    },
    "language_info": {
      "codemirror_mode": {
        "name": "ipython",
        "version": 3
      },
      "file_extension": ".py",
      "mimetype": "text/x-python",
      "name": "python",
      "nbconvert_exporter": "python",
      "pygments_lexer": "ipython3",
      "version": "3.8.8"
    },
    "widgets": {
      "application/vnd.jupyter.widget-state+json": {
        "6b64854e93ca4c379df3e4f993805ae5": {
          "model_module": "@jupyter-widgets/controls",
          "model_name": "HBoxModel",
          "state": {
            "_view_name": "HBoxView",
            "_dom_classes": [],
            "_model_name": "HBoxModel",
            "_view_module": "@jupyter-widgets/controls",
            "_model_module_version": "1.5.0",
            "_view_count": null,
            "_view_module_version": "1.5.0",
            "box_style": "",
            "layout": "IPY_MODEL_e3c519d0c4124cfda3d8efa77038c832",
            "_model_module": "@jupyter-widgets/controls",
            "children": [
              "IPY_MODEL_d8260237ca4d440694a27fcff26f124b",
              "IPY_MODEL_c9173781c5474ca6a032d704a7aa8f84"
            ]
          }
        },
        "e3c519d0c4124cfda3d8efa77038c832": {
          "model_module": "@jupyter-widgets/base",
          "model_name": "LayoutModel",
          "state": {
            "_view_name": "LayoutView",
            "grid_template_rows": null,
            "right": null,
            "justify_content": null,
            "_view_module": "@jupyter-widgets/base",
            "overflow": null,
            "_model_module_version": "1.2.0",
            "_view_count": null,
            "flex_flow": "row wrap",
            "width": "100%",
            "min_width": null,
            "border": null,
            "align_items": null,
            "bottom": null,
            "_model_module": "@jupyter-widgets/base",
            "top": null,
            "grid_column": null,
            "overflow_y": null,
            "overflow_x": null,
            "grid_auto_flow": null,
            "grid_area": null,
            "grid_template_columns": null,
            "flex": null,
            "_model_name": "LayoutModel",
            "justify_items": null,
            "grid_row": null,
            "max_height": null,
            "align_content": null,
            "visibility": null,
            "align_self": null,
            "height": null,
            "min_height": null,
            "padding": null,
            "grid_auto_rows": null,
            "grid_gap": null,
            "max_width": null,
            "order": null,
            "_view_module_version": "1.2.0",
            "grid_template_areas": null,
            "object_position": null,
            "object_fit": null,
            "grid_auto_columns": null,
            "margin": null,
            "display": "inline-flex",
            "left": null
          }
        },
        "d8260237ca4d440694a27fcff26f124b": {
          "model_module": "@jupyter-widgets/controls",
          "model_name": "FloatProgressModel",
          "state": {
            "_view_name": "ProgressView",
            "style": "IPY_MODEL_28b581647a8d426b98aa2d902c11d307",
            "_dom_classes": [],
            "description": "Loading chromosomes for genome hg38: 100%",
            "_model_name": "FloatProgressModel",
            "bar_style": "",
            "max": 25,
            "_view_module": "@jupyter-widgets/controls",
            "_model_module_version": "1.5.0",
            "value": 25,
            "_view_count": null,
            "_view_module_version": "1.5.0",
            "orientation": "horizontal",
            "min": 0,
            "description_tooltip": null,
            "_model_module": "@jupyter-widgets/controls",
            "layout": "IPY_MODEL_47c16dd267a34ad8a7effb83b2454db2"
          }
        },
        "c9173781c5474ca6a032d704a7aa8f84": {
          "model_module": "@jupyter-widgets/controls",
          "model_name": "HTMLModel",
          "state": {
            "_view_name": "HTMLView",
            "style": "IPY_MODEL_2ac070e30a104bbf8a101fc91290b6d5",
            "_dom_classes": [],
            "description": "",
            "_model_name": "HTMLModel",
            "placeholder": "​",
            "_view_module": "@jupyter-widgets/controls",
            "_model_module_version": "1.5.0",
            "value": " 25/25 [01:29&lt;00:00,  5.75s/it]",
            "_view_count": null,
            "_view_module_version": "1.5.0",
            "description_tooltip": null,
            "_model_module": "@jupyter-widgets/controls",
            "layout": "IPY_MODEL_fe720951f17241afa5d9a10908df81a7"
          }
        },
        "28b581647a8d426b98aa2d902c11d307": {
          "model_module": "@jupyter-widgets/controls",
          "model_name": "ProgressStyleModel",
          "state": {
            "_view_name": "StyleView",
            "_model_name": "ProgressStyleModel",
            "description_width": "initial",
            "_view_module": "@jupyter-widgets/base",
            "_model_module_version": "1.5.0",
            "_view_count": null,
            "_view_module_version": "1.2.0",
            "bar_color": null,
            "_model_module": "@jupyter-widgets/controls"
          }
        },
        "47c16dd267a34ad8a7effb83b2454db2": {
          "model_module": "@jupyter-widgets/base",
          "model_name": "LayoutModel",
          "state": {
            "_view_name": "LayoutView",
            "grid_template_rows": null,
            "right": null,
            "justify_content": null,
            "_view_module": "@jupyter-widgets/base",
            "overflow": null,
            "_model_module_version": "1.2.0",
            "_view_count": null,
            "flex_flow": null,
            "width": null,
            "min_width": null,
            "border": null,
            "align_items": null,
            "bottom": null,
            "_model_module": "@jupyter-widgets/base",
            "top": null,
            "grid_column": null,
            "overflow_y": null,
            "overflow_x": null,
            "grid_auto_flow": null,
            "grid_area": null,
            "grid_template_columns": null,
            "flex": "2",
            "_model_name": "LayoutModel",
            "justify_items": null,
            "grid_row": null,
            "max_height": null,
            "align_content": null,
            "visibility": null,
            "align_self": null,
            "height": null,
            "min_height": null,
            "padding": null,
            "grid_auto_rows": null,
            "grid_gap": null,
            "max_width": null,
            "order": null,
            "_view_module_version": "1.2.0",
            "grid_template_areas": null,
            "object_position": null,
            "object_fit": null,
            "grid_auto_columns": null,
            "margin": null,
            "display": null,
            "left": null
          }
        },
        "2ac070e30a104bbf8a101fc91290b6d5": {
          "model_module": "@jupyter-widgets/controls",
          "model_name": "DescriptionStyleModel",
          "state": {
            "_view_name": "StyleView",
            "_model_name": "DescriptionStyleModel",
            "description_width": "",
            "_view_module": "@jupyter-widgets/base",
            "_model_module_version": "1.5.0",
            "_view_count": null,
            "_view_module_version": "1.2.0",
            "_model_module": "@jupyter-widgets/controls"
          }
        },
        "fe720951f17241afa5d9a10908df81a7": {
          "model_module": "@jupyter-widgets/base",
          "model_name": "LayoutModel",
          "state": {
            "_view_name": "LayoutView",
            "grid_template_rows": null,
            "right": null,
            "justify_content": null,
            "_view_module": "@jupyter-widgets/base",
            "overflow": null,
            "_model_module_version": "1.2.0",
            "_view_count": null,
            "flex_flow": null,
            "width": null,
            "min_width": null,
            "border": null,
            "align_items": null,
            "bottom": null,
            "_model_module": "@jupyter-widgets/base",
            "top": null,
            "grid_column": null,
            "overflow_y": null,
            "overflow_x": null,
            "grid_auto_flow": null,
            "grid_area": null,
            "grid_template_columns": null,
            "flex": null,
            "_model_name": "LayoutModel",
            "justify_items": null,
            "grid_row": null,
            "max_height": null,
            "align_content": null,
            "visibility": null,
            "align_self": null,
            "height": null,
            "min_height": null,
            "padding": null,
            "grid_auto_rows": null,
            "grid_gap": null,
            "max_width": null,
            "order": null,
            "_view_module_version": "1.2.0",
            "grid_template_areas": null,
            "object_position": null,
            "object_fit": null,
            "grid_auto_columns": null,
            "margin": null,
            "display": null,
            "left": null
          }
        },
        "206a0417d48e45c687578a863c957b80": {
          "model_module": "@jupyter-widgets/controls",
          "model_name": "HBoxModel",
          "state": {
            "_view_name": "HBoxView",
            "_dom_classes": [],
            "_model_name": "HBoxModel",
            "_view_module": "@jupyter-widgets/controls",
            "_model_module_version": "1.5.0",
            "_view_count": null,
            "_view_module_version": "1.5.0",
            "box_style": "",
            "layout": "IPY_MODEL_6465e0eccb614721bd63d6d9eb8aca82",
            "_model_module": "@jupyter-widgets/controls",
            "children": [
              "IPY_MODEL_642d71e618ab4110a588173eb3882fab",
              "IPY_MODEL_0501d39c37e84b2f8204cd896d48986b"
            ]
          }
        },
        "6465e0eccb614721bd63d6d9eb8aca82": {
          "model_module": "@jupyter-widgets/base",
          "model_name": "LayoutModel",
          "state": {
            "_view_name": "LayoutView",
            "grid_template_rows": null,
            "right": null,
            "justify_content": null,
            "_view_module": "@jupyter-widgets/base",
            "overflow": null,
            "_model_module_version": "1.2.0",
            "_view_count": null,
            "flex_flow": null,
            "width": null,
            "min_width": null,
            "border": null,
            "align_items": null,
            "bottom": null,
            "_model_module": "@jupyter-widgets/base",
            "top": null,
            "grid_column": null,
            "overflow_y": null,
            "overflow_x": null,
            "grid_auto_flow": null,
            "grid_area": null,
            "grid_template_columns": null,
            "flex": null,
            "_model_name": "LayoutModel",
            "justify_items": null,
            "grid_row": null,
            "max_height": null,
            "align_content": null,
            "visibility": null,
            "align_self": null,
            "height": null,
            "min_height": null,
            "padding": null,
            "grid_auto_rows": null,
            "grid_gap": null,
            "max_width": null,
            "order": null,
            "_view_module_version": "1.2.0",
            "grid_template_areas": null,
            "object_position": null,
            "object_fit": null,
            "grid_auto_columns": null,
            "margin": null,
            "display": null,
            "left": null
          }
        },
        "642d71e618ab4110a588173eb3882fab": {
          "model_module": "@jupyter-widgets/controls",
          "model_name": "FloatProgressModel",
          "state": {
            "_view_name": "ProgressView",
            "style": "IPY_MODEL_e5daaed5ad8241bd9cd94714cce2bd48",
            "_dom_classes": [],
            "description": "Computing holdouts: 100%",
            "_model_name": "FloatProgressModel",
            "bar_style": "",
            "max": 10,
            "_view_module": "@jupyter-widgets/controls",
            "_model_module_version": "1.5.0",
            "value": 10,
            "_view_count": null,
            "_view_module_version": "1.5.0",
            "orientation": "horizontal",
            "min": 0,
            "description_tooltip": null,
            "_model_module": "@jupyter-widgets/controls",
            "layout": "IPY_MODEL_b8dfac84637b4af4bd53783cac24d1f4"
          }
        },
        "0501d39c37e84b2f8204cd896d48986b": {
          "model_module": "@jupyter-widgets/controls",
          "model_name": "HTMLModel",
          "state": {
            "_view_name": "HTMLView",
            "style": "IPY_MODEL_fb6b0242d2514dd88dde44b1686d7ae1",
            "_dom_classes": [],
            "description": "",
            "_model_name": "HTMLModel",
            "placeholder": "​",
            "_view_module": "@jupyter-widgets/controls",
            "_model_module_version": "1.5.0",
            "value": " 10/10 [17:47&lt;00:00, 109.05s/it]",
            "_view_count": null,
            "_view_module_version": "1.5.0",
            "description_tooltip": null,
            "_model_module": "@jupyter-widgets/controls",
            "layout": "IPY_MODEL_bb3d03cfd77247839451d18b765a2b3d"
          }
        },
        "e5daaed5ad8241bd9cd94714cce2bd48": {
          "model_module": "@jupyter-widgets/controls",
          "model_name": "ProgressStyleModel",
          "state": {
            "_view_name": "StyleView",
            "_model_name": "ProgressStyleModel",
            "description_width": "initial",
            "_view_module": "@jupyter-widgets/base",
            "_model_module_version": "1.5.0",
            "_view_count": null,
            "_view_module_version": "1.2.0",
            "bar_color": null,
            "_model_module": "@jupyter-widgets/controls"
          }
        },
        "b8dfac84637b4af4bd53783cac24d1f4": {
          "model_module": "@jupyter-widgets/base",
          "model_name": "LayoutModel",
          "state": {
            "_view_name": "LayoutView",
            "grid_template_rows": null,
            "right": null,
            "justify_content": null,
            "_view_module": "@jupyter-widgets/base",
            "overflow": null,
            "_model_module_version": "1.2.0",
            "_view_count": null,
            "flex_flow": null,
            "width": null,
            "min_width": null,
            "border": null,
            "align_items": null,
            "bottom": null,
            "_model_module": "@jupyter-widgets/base",
            "top": null,
            "grid_column": null,
            "overflow_y": null,
            "overflow_x": null,
            "grid_auto_flow": null,
            "grid_area": null,
            "grid_template_columns": null,
            "flex": null,
            "_model_name": "LayoutModel",
            "justify_items": null,
            "grid_row": null,
            "max_height": null,
            "align_content": null,
            "visibility": null,
            "align_self": null,
            "height": null,
            "min_height": null,
            "padding": null,
            "grid_auto_rows": null,
            "grid_gap": null,
            "max_width": null,
            "order": null,
            "_view_module_version": "1.2.0",
            "grid_template_areas": null,
            "object_position": null,
            "object_fit": null,
            "grid_auto_columns": null,
            "margin": null,
            "display": null,
            "left": null
          }
        },
        "fb6b0242d2514dd88dde44b1686d7ae1": {
          "model_module": "@jupyter-widgets/controls",
          "model_name": "DescriptionStyleModel",
          "state": {
            "_view_name": "StyleView",
            "_model_name": "DescriptionStyleModel",
            "description_width": "",
            "_view_module": "@jupyter-widgets/base",
            "_model_module_version": "1.5.0",
            "_view_count": null,
            "_view_module_version": "1.2.0",
            "_model_module": "@jupyter-widgets/controls"
          }
        },
        "bb3d03cfd77247839451d18b765a2b3d": {
          "model_module": "@jupyter-widgets/base",
          "model_name": "LayoutModel",
          "state": {
            "_view_name": "LayoutView",
            "grid_template_rows": null,
            "right": null,
            "justify_content": null,
            "_view_module": "@jupyter-widgets/base",
            "overflow": null,
            "_model_module_version": "1.2.0",
            "_view_count": null,
            "flex_flow": null,
            "width": null,
            "min_width": null,
            "border": null,
            "align_items": null,
            "bottom": null,
            "_model_module": "@jupyter-widgets/base",
            "top": null,
            "grid_column": null,
            "overflow_y": null,
            "overflow_x": null,
            "grid_auto_flow": null,
            "grid_area": null,
            "grid_template_columns": null,
            "flex": null,
            "_model_name": "LayoutModel",
            "justify_items": null,
            "grid_row": null,
            "max_height": null,
            "align_content": null,
            "visibility": null,
            "align_self": null,
            "height": null,
            "min_height": null,
            "padding": null,
            "grid_auto_rows": null,
            "grid_gap": null,
            "max_width": null,
            "order": null,
            "_view_module_version": "1.2.0",
            "grid_template_areas": null,
            "object_position": null,
            "object_fit": null,
            "grid_auto_columns": null,
            "margin": null,
            "display": null,
            "left": null
          }
        }
      }
    },
    "accelerator": "GPU"
  },
  "cells": [
    {
      "cell_type": "markdown",
      "metadata": {
        "id": "4SFo1hy6_lSK",
        "outputId": "b617f15e-9c3b-461d-edf7-136f235eb0f8"
      },
      "source": [
        "!pip install crr_labels epigenomic_dataset \\\n",
        " ucsc_genomes_downloader cache_decorator minepy &> /dev/null && echo \"done\""
      ]
    },
    {
      "cell_type": "code",
      "metadata": {
        "id": "zNoWNQF0f1b0",
        "outputId": "65f94df7-9cac-4e05-9b3c-460e8808df7e",
        "colab": {
          "base_uri": "https://localhost:8080/"
        }
      },
      "source": [
        "!pip install crr_labels epigenomic_dataset extra_keras_metrics \\\n",
        "    keras_mixed_sequence keras_bed_sequence ucsc_genomes_downloader \\\n",
        "    cache_decorator minepy &> /dev/null && echo \"done\"\n",
        "!pip install -Iv humanize==3.9.0 &> /dev/null && echo \"done\"\n",
        "!pip install --upgrade tbb"
      ],
      "execution_count": 1,
      "outputs": [
        {
          "output_type": "stream",
          "text": [
            "done\n",
            "done\n",
            "Requirement already up-to-date: tbb in /usr/local/lib/python3.7/dist-packages (2021.2.0)\n"
          ],
          "name": "stdout"
        }
      ]
    },
    {
      "cell_type": "code",
      "metadata": {
        "id": "5KJb7fmo_HrC"
      },
      "source": [
        "from cache_decorator import Cache\n",
        "import numpy as np\n",
        "import pandas as pd\n",
        "from tqdm.auto import tqdm\n",
        "from matplotlib.axes import Axes\n",
        "from matplotlib.figure import Figure\n",
        "from matplotlib.colors import ListedColormap, LogNorm\n",
        "from multiprocessing import cpu_count, Pool\n",
        "import matplotlib.pyplot as plt\n",
        "from epigenomic_dataset import active_enhancers_vs_inactive_enhancers\n",
        "import seaborn as sbn"
      ],
      "execution_count": 2,
      "outputs": []
    },
    {
      "cell_type": "markdown",
      "metadata": {
        "id": "LHWt23gwfo_q"
      },
      "source": [
        "# Retrive epigenomic data"
      ]
    },
    {
      "cell_type": "code",
      "metadata": {
        "id": "Oujt-ycE_eiB"
      },
      "source": [
        "cell_line = \"K562\"\n",
        "genome_assembly = \"hg38\"\n",
        "window_size = 256\n",
        "\n",
        "\n",
        "aeie_X, aeie_y = active_enhancers_vs_inactive_enhancers(\n",
        "    cell_line=cell_line,\n",
        "    assembly=genome_assembly,\n",
        "    window_size=window_size,\n",
        "    root=\"datasets\",\n",
        "    verbose=1,\n",
        "    binarize=True\n",
        ")\n",
        "\n",
        "#promoters_epigenomes, promoters_labels = load_epigenomes(\n",
        "#    cell_line = cell_line,\n",
        "#    dataset = \"fantom\",\n",
        "#    region = \"promoters\",\n",
        "#    window_size = window_size,\n",
        "#    binarize = True\n",
        "#)\n",
        "\n",
        "#enhancers_epigenomes, enhancers_labels = load_epigenomes(\n",
        "#    cell_line = cell_line,\n",
        "#    dataset = \"fantom\",\n",
        "#    region = \"enhancers\",\n",
        "#    window_size = window_size,\n",
        "#    binarize = True\n",
        "#)"
      ],
      "execution_count": 3,
      "outputs": []
    },
    {
      "cell_type": "markdown",
      "metadata": {
        "id": "qV7n5bsmfo_u"
      },
      "source": [
        "# Retrive genomic sequence"
      ]
    },
    {
      "cell_type": "code",
      "metadata": {
        "id": "xIlpiJ7Tfo_v",
        "outputId": "6f161405-20ac-4fca-9177-4adc823dced0",
        "colab": {
          "base_uri": "https://localhost:8080/",
          "height": 17,
          "referenced_widgets": [
            "6b64854e93ca4c379df3e4f993805ae5",
            "e3c519d0c4124cfda3d8efa77038c832",
            "d8260237ca4d440694a27fcff26f124b",
            "c9173781c5474ca6a032d704a7aa8f84",
            "28b581647a8d426b98aa2d902c11d307",
            "47c16dd267a34ad8a7effb83b2454db2",
            "2ac070e30a104bbf8a101fc91290b6d5",
            "fe720951f17241afa5d9a10908df81a7"
          ]
        }
      },
      "source": [
        "from ucsc_genomes_downloader import Genome\n",
        "\n",
        "genome = Genome(\"hg38\")"
      ],
      "execution_count": 4,
      "outputs": [
        {
          "output_type": "display_data",
          "data": {
            "application/vnd.jupyter.widget-view+json": {
              "model_id": "6b64854e93ca4c379df3e4f993805ae5",
              "version_minor": 0,
              "version_major": 2
            },
            "text/plain": [
              "HBox(children=(FloatProgress(value=0.0, description='Loading chromosomes for genome hg38', layout=Layout(flex=…"
            ]
          },
          "metadata": {
            "tags": []
          }
        },
        {
          "output_type": "stream",
          "text": [
            "\r"
          ],
          "name": "stdout"
        }
      ]
    },
    {
      "cell_type": "code",
      "metadata": {
        "id": "x5uFUb0fgdi-",
        "outputId": "f5f4872e-8218-4962-d7eb-602924912150",
        "colab": {
          "base_uri": "https://localhost:8080/"
        }
      },
      "source": [
        "genome"
      ],
      "execution_count": 5,
      "outputs": [
        {
          "output_type": "execute_result",
          "data": {
            "text/plain": [
              "Human, Homo sapiens, hg38, 2013-12-27, 25 chromosomes"
            ]
          },
          "metadata": {
            "tags": []
          },
          "execution_count": 5
        }
      ]
    },
    {
      "cell_type": "code",
      "metadata": {
        "id": "7qQjIKhzfo_w"
      },
      "source": [
        "def to_bed(data:pd.DataFrame)->pd.DataFrame:\n",
        "    \"\"\"Return bed coordinates from given dataset.\"\"\"\n",
        "    return data.reset_index()[data.index.names]"
      ],
      "execution_count": 6,
      "outputs": []
    },
    {
      "cell_type": "code",
      "metadata": {
        "id": "XUdGk2Tofo_y"
      },
      "source": [
        "aeie_X"
      ],
      "execution_count": null,
      "outputs": []
    },
    {
      "cell_type": "code",
      "metadata": {
        "id": "d9xQ9Q_8fo_z"
      },
      "source": [
        "aeie_X.describe()"
      ],
      "execution_count": null,
      "outputs": []
    },
    {
      "cell_type": "code",
      "metadata": {
        "id": "7-1FoLAhfo_0"
      },
      "source": [
        "aeie_y"
      ],
      "execution_count": null,
      "outputs": []
    },
    {
      "cell_type": "code",
      "metadata": {
        "id": "ONpWrWrlfo_1"
      },
      "source": [
        "aeie_y.describe()"
      ],
      "execution_count": null,
      "outputs": []
    },
    {
      "cell_type": "code",
      "metadata": {
        "id": "ihIbzMn1QLvz"
      },
      "source": [
        "epigenomes = {\n",
        "    \"promoters\": promoters_epigenomes,\n",
        "    \"enhancers\": enhancers_epigenomes,\n",
        "}\n",
        "\n",
        "labels = {\n",
        "    \"promoters\": promoters_labels,\n",
        "    \"enhancers\": enhancers_labels,\n",
        "}"
      ],
      "execution_count": null,
      "outputs": []
    },
    {
      "cell_type": "code",
      "metadata": {
        "id": "bda6hLEPfo_2"
      },
      "source": [
        ""
      ],
      "execution_count": null,
      "outputs": []
    },
    {
      "cell_type": "code",
      "metadata": {
        "id": "9vDJ3AoYVeeT"
      },
      "source": [
        "def describe_dataset(\n",
        "    X: pd.DataFrame,\n",
        "    y: pd.DataFrame\n",
        "):\n",
        "    \"\"\"Perform a quick report for some relevant information in the dataset.\n",
        "\n",
        "    Parameters\n",
        "    ---------- \n",
        "    X: pd.DataFrame\n",
        "        The dataframe to describe.\n",
        "    y: pd.DataFrame\n",
        "        The labels to describe.\n",
        "    \"\"\"\n",
        "    print(X.describe())\n",
        "    print(X[:5])\n",
        "    print(y.describe())\n",
        "    print(y[:5])\n",
        "    print(\"=\"*30, \"Feature Sample ration\", \"=\"*30)\n",
        "    print(f\"Features/Samples ratio is: {X.shape[0] / X.shape[1]}\")\n",
        "    print(\"=\"*30, \"NaN count\", \"=\"*30)\n",
        "    print(f\"Total NaN values: {X.isna().values.sum()}/{X.values.size}\")\n",
        "    print(f\"Max NaN in a row: {X.isna().sum(axis=1).max()}/{X.shape[1]}\")\n",
        "    print(f\"Max NaN in a feature: {X.isna().sum().max()}/{X.shape[0]}\")   "
      ],
      "execution_count": null,
      "outputs": []
    },
    {
      "cell_type": "code",
      "metadata": {
        "id": "bQD0hZtuVwLI"
      },
      "source": [
        "for region, X in epigenomes.items():\n",
        "   print(f\"{region}\") \n",
        "   describe_dataset(X, labels[region])\n",
        "   print(\"|\"*80)"
      ],
      "execution_count": null,
      "outputs": []
    },
    {
      "cell_type": "code",
      "metadata": {
        "id": "JGEwkHzUfo_4"
      },
      "source": [
        "def binarize(\n",
        "    y: pd.DataFrame,\n",
        "    cell_line: str\n",
        ")-> pd.DataFrame:\n",
        "    return y[cell_line].astype(int)"
      ],
      "execution_count": null,
      "outputs": []
    },
    {
      "cell_type": "code",
      "metadata": {
        "id": "97YNjanmbL00"
      },
      "source": [
        "from sklearn.feature_selection import VarianceThreshold\n",
        "\n",
        "def drop_constant_features(X: pd.DataFrame) -> (pd.DataFrame, bool):\n",
        "    \"\"\"Return a DataFrame without constant features in in.\n",
        "\n",
        "    Parameters\n",
        "    ----------------\n",
        "    X: pd.DataFrame\n",
        "        The dataframe to process.\n",
        "\n",
        "    Returns\n",
        "    ----------------\n",
        "    A tuple with the new DataFrame and a boolean value to point out if the\n",
        "    new DataFrame is distinct from the input one.\n",
        "    \"\"\"\n",
        "    constant_feature_selector = VarianceThreshold()\n",
        "    new_X = constant_feature_selector.fit_transform(X)\n",
        "    return (new_X, new_X.shape[1] != X.shape[1])"
      ],
      "execution_count": null,
      "outputs": []
    },
    {
      "cell_type": "code",
      "metadata": {
        "id": "ukroQ8F9TbG_"
      },
      "source": [
        "def impute_with_median(X: pd.DataFrame) -> pd.DataFrame:\n",
        "    return X.fillna(X.median())"
      ],
      "execution_count": null,
      "outputs": []
    },
    {
      "cell_type": "code",
      "metadata": {
        "id": "VaMyMJH4aquS"
      },
      "source": [
        "from sklearn.preprocessing import RobustScaler\n",
        "\n",
        "def robust_scaler(X: pd.DataFrame) -> pd.DataFrame:\n",
        "    return pd.DataFrame(\n",
        "        RobustScaler().fit_transform(X.values),\n",
        "        columns=X.columns,\n",
        "        index=X.index\n",
        "    )"
      ],
      "execution_count": null,
      "outputs": []
    },
    {
      "cell_type": "code",
      "metadata": {
        "id": "l--An6-afo_6"
      },
      "source": [
        "from typing import Tuple\n",
        "\n",
        "def preprocess_dataset(\n",
        "    X: pd.DataFrame,\n",
        "    y: pd.DataFrame,\n",
        "    region: str,\n",
        "    cell_line: str,\n",
        "    binary: bool=True\n",
        ") -> Tuple[pd.DataFrame, pd.DataFrame]:\n",
        "    y_new = y\n",
        "    if binary: \n",
        "        y_new[cell_line] = binarize(\n",
        "            y_new,\n",
        "            cell_line\n",
        "        )\n",
        "    X_new, ok = drop_constant_features(X)\n",
        "    if not ok: \n",
        "        print(f\"{region} doesn't have costant features.\")\n",
        "        X_new = X\n",
        "    X_new = impute_with_median(X_new)\n",
        "    return robust_scaler(X_new), y_new"
      ],
      "execution_count": null,
      "outputs": []
    },
    {
      "cell_type": "code",
      "metadata": {
        "id": "eyZPzvnjfo_7"
      },
      "source": [
        "#for region, X in epigenomes.items():\n",
        "#    epigenomes[region] = preprocess_dataset(X, region)\n",
        "    \n",
        "aeie_X, aeie_y = preprocess_dataset(\n",
        "    aeie_X,\n",
        "    aeie_y,\n",
        "    \"ae-ie\",\n",
        "    cell_line,\n",
        "    binary=True\n",
        ")"
      ],
      "execution_count": null,
      "outputs": []
    },
    {
      "cell_type": "markdown",
      "metadata": {
        "id": "u3OCA5q-fo_8"
      },
      "source": [
        "# Class balance"
      ]
    },
    {
      "cell_type": "code",
      "metadata": {
        "colab": {
          "base_uri": "https://localhost:8080/",
          "height": 349
        },
        "id": "IWKmEBGN2IPW",
        "outputId": "3220f1c2-b1c1-4916-c1b3-423ed6fdfaba"
      },
      "source": [
        "axes = sbn.histplot(\n",
        "    data=aeie_y,\n",
        "    bins=3\n",
        ")\n",
        "\n",
        "axes.set_title(\"A-E I-E class balance\")\n",
        "\n",
        "counts = aeie_y[cell_line].value_counts()\n",
        "print(f\"Active-Inactive ratio: {counts[1]/counts[0]}\")\n",
        "print(f\"Active fraction in dataset: {counts[1]/(counts[0]+counts[1])}\")"
      ],
      "execution_count": 19,
      "outputs": [
        {
          "output_type": "stream",
          "text": [
            "Active-Inactive ratio: 0.006376820812925387\n",
            "Active fraction in dataset: 0.006336414632219325\n"
          ],
          "name": "stdout"
        },
        {
          "output_type": "stream",
          "text": [
            "<string>:6: RuntimeWarning: Converting input from bool to <class 'numpy.uint8'> for compatibility.\n",
            "<string>:6: RuntimeWarning: Converting input from bool to <class 'numpy.uint8'> for compatibility.\n"
          ],
          "name": "stderr"
        },
        {
          "output_type": "display_data",
          "data": {
            "image/png": "[encoded data removed]",
            "text/plain": [
              "<Figure size 432x288 with 1 Axes>"
            ]
          },
          "metadata": {
            "tags": [],
            "needs_background": "light"
          }
        }
      ]
    },
    {
      "cell_type": "markdown",
      "metadata": {
        "id": "LFW3bP4abJDH"
      },
      "source": [
        "# Verify output correlation"
      ]
    },
    {
      "cell_type": "code",
      "metadata": {
        "id": "zILGJZcPTM6x"
      },
      "source": [
        "from scipy.stats import pearsonr\n",
        "\n",
        "uncorrelated_features_with_output = {\n",
        "    region: set()\n",
        "    for region in epigenomes\n",
        "}\n",
        "\n",
        "for region, X in epigenomes.items():\n",
        "    print(\"=\"*20, region.upper(), \"=\"*20)\n",
        "    for feature in tqdm(\n",
        "        X.columns,\n",
        "        desc=f\"Running Person test for {region}\",\n",
        "        dynamic_ncols = True,\n",
        "        leave = False\n",
        "    ):\n",
        "        correlation, p_value = pearsonr(\n",
        "            X[feature].values.ravel(),\n",
        "            labels[region].values.ravel()\n",
        "        )\n",
        "        if p_value > 0.01:\n",
        "            print(f\"Feature {feature} has no correlation with the output.\")\n",
        "            uncorrelated_features_with_output[region].add(feature)\n",
        "\n",
        "print(uncorrelated_features_with_output)"
      ],
      "execution_count": null,
      "outputs": []
    },
    {
      "cell_type": "code",
      "metadata": {
        "id": "GjtY4CdiX6iy"
      },
      "source": [
        "from scipy.stats import spearmanr\n",
        "\n",
        "for region, X in epigenomes.items():\n",
        "    print(\"=\"*20, region.upper(), \"=\"*20)\n",
        "    for feature in tqdm(\n",
        "        X.columns,\n",
        "        desc= f\"Running Spearman test for {region}\",\n",
        "        dynamic_ncols = True,\n",
        "        leave = False\n",
        "    ):\n",
        "        correlation, p_value = spearmanr(\n",
        "            X[feature].values.ravel(),\n",
        "            labels[region].values.ravel()\n",
        "        )\n",
        "        if p_value > 0.01:\n",
        "            print(f\"Feature {feature} has no correlation with the output {correlation}.\")\n",
        "            uncorrelated_features_with_output[region].add(feature)\n",
        "\n",
        "print(uncorrelated_features_with_output)"
      ],
      "execution_count": null,
      "outputs": []
    },
    {
      "cell_type": "code",
      "metadata": {
        "id": "82f09enLbTVR"
      },
      "source": [
        "from minepy import MINE\n",
        "\n",
        "for region, X in epigenomes.items():\n",
        "    for feature in tqdm(\n",
        "        uncorrelated_features_with_output[region],\n",
        "        desc = f\"Running MINE test for {region}\",\n",
        "        dynamic_ncols = True,\n",
        "        leave = False\n",
        "    ):\n",
        "        mine = MINE()\n",
        "        mine.compute_score(\n",
        "            X[feature].values.ravel(),\n",
        "            labels[region].values.ravel()\n",
        "        )\n",
        "        score = mine.mic()\n",
        "        if score >= 0.05:\n",
        "            uncorrelated_features_with_output[region].remove(feature)\n",
        "        else:\n",
        "            print(region, feature, score)\n",
        "\n",
        "print(uncorrelated_features_with_output)"
      ],
      "execution_count": null,
      "outputs": []
    },
    {
      "cell_type": "code",
      "metadata": {
        "id": "FEWMglvFjqI9"
      },
      "source": [
        "for region, X in epigenomes.items():\n",
        "    epigenomes[region] = X.drop(columns=[\n",
        "        c\n",
        "        for c in uncorrelated_features_with_output[region]\n",
        "        if c in X.columns                     \n",
        "    ])"
      ],
      "execution_count": null,
      "outputs": []
    },
    {
      "cell_type": "code",
      "metadata": {
        "id": "0cHf_No3j_84"
      },
      "source": [
        "for _, X in epigenomes.items():\n",
        "    print(X.shape)"
      ],
      "execution_count": null,
      "outputs": []
    },
    {
      "cell_type": "markdown",
      "metadata": {
        "id": "R_IyWe12lei_"
      },
      "source": [
        "# Feature Correlation"
      ]
    },
    {
      "cell_type": "code",
      "metadata": {
        "id": "WZNntY-pleAx"
      },
      "source": [
        "from scipy.stats import entropy\n",
        "from typing import List\n",
        "\n",
        "def features_correlation(\n",
        "    X: pd.DataFrame,\n",
        "    p_value_threshold: float = 0.01,\n",
        "    correlation_threshold: float = 0.95\n",
        ") -> List:\n",
        "    scores = []\n",
        "\n",
        "    for i, feature_1 in tqdm(\n",
        "        enumerate(X.columns),\n",
        "        total = len(X.columns),\n",
        "        desc = f\"Running tests for {region}\",\n",
        "        dynamic_ncols = True,\n",
        "        leave = False\n",
        "    ):\n",
        "        for feature_2 in X.columns[i+1:]:\n",
        "            correlation, p_value = pearsonr(\n",
        "                X[feature_1].values.ravel(),\n",
        "                X[feature_2].values.ravel()\n",
        "            )\n",
        "            scores.append((correlation, feature_1, feature_2))\n",
        "    #        if p_value < p_value_threshold and np.abs(correlation) > correlation_threshold:\n",
        "    #            print(f\"High correlation (Pearson): {feature_1} with {feature_2} ({correlation})\")\n",
        "    #            if entropy(X[feature_1]) > entropy(X[feature_2]):\n",
        "    #                high_correlation[region].add(feature_2)\n",
        "    #            else:\n",
        "    #                high_correlation[region].add(feature_1)\n",
        "    \n",
        "    return scores"
      ],
      "execution_count": null,
      "outputs": []
    },
    {
      "cell_type": "code",
      "metadata": {
        "id": "iZ6AwhK09b9O"
      },
      "source": [
        "result = {}\n",
        "\n",
        "for region, X in epigenomes.items():\n",
        "    result[region] = features_correlation(X, region)"
      ],
      "execution_count": null,
      "outputs": []
    },
    {
      "cell_type": "code",
      "metadata": {
        "id": "iJkfy7NEJtE_"
      },
      "source": [
        "scores = {\n",
        "    region: sorted(score, \n",
        "                   key=lambda x: np.abs(x[0]), \n",
        "                   reverse=True)\n",
        "    for region, score in result.items()\n",
        "}"
      ],
      "execution_count": null,
      "outputs": []
    },
    {
      "cell_type": "code",
      "metadata": {
        "scrolled": true,
        "id": "xu8V1ADPfpAB"
      },
      "source": [
        "for region, X in epigenomes.items():\n",
        "    # take the first three elems, unwrap them and then merge togheter\n",
        "    _, firsts, seconds = list(zip(*scores[region][:3]))\n",
        "    columns = list(set(firsts+seconds))\n",
        "    print(f\"Most correlated features from {region} epigenomes\")\n",
        "    sbn.pairplot(pd.concat([\n",
        "        X[columns],\n",
        "        labels[region],\n",
        "    ], axis=1), hue=labels[region].columns[0])\n",
        "    plt.show()"
      ],
      "execution_count": null,
      "outputs": []
    },
    {
      "cell_type": "markdown",
      "metadata": {
        "id": "Ft0twbobfpAC"
      },
      "source": [
        "# Feature selection"
      ]
    },
    {
      "cell_type": "code",
      "metadata": {
        "id": "0sU1AVWufpAC"
      },
      "source": [
        "from sklearn.ensemble import ExtraTreesClassifier\n",
        "from sklearn.feature_selection import SelectFromModel\n",
        "\n",
        "for region, X in epigenomes.items():\n",
        "    print(f\"Feature selection for {region}\")\n",
        "    clf = ExtraTreesClassifier(\n",
        "        n_estimators=50,\n",
        "        max_depth=10\n",
        "    )\n",
        "    clf.fit(X, labels[region].values.ravel())\n",
        "    model = SelectFromModel(clf, prefit=True)\n",
        "    X_new = pd.DataFrame(\n",
        "        model.transform(X),\n",
        "        columns=X.columns[model.get_support()],\n",
        "        index=X.index\n",
        "    )\n",
        "    print(f\"new shape: {X_new.shape}\")\n",
        "    epigenomes[region] = X_new"
      ],
      "execution_count": null,
      "outputs": []
    },
    {
      "cell_type": "markdown",
      "metadata": {
        "id": "8zd1JoOkfpAC"
      },
      "source": [
        "# Data visualization"
      ]
    },
    {
      "cell_type": "code",
      "metadata": {
        "id": "9KouOBE_fpAD"
      },
      "source": [
        "from sklearn.decomposition import PCA\n",
        "\n",
        "def pca_decomposition(\n",
        "    X: np.ndarray,\n",
        "    components: int = 2\n",
        ") -> np.ndarray:\n",
        "    return PCA(n_components=components).fit_transform(X)\n",
        "#        index=X.index,\n",
        "#        columns=X.columns,"
      ],
      "execution_count": null,
      "outputs": []
    },
    {
      "cell_type": "code",
      "metadata": {
        "id": "Ps3ahdRyfpAD"
      },
      "source": [
        "from MulticoreTSNE import MulticoreTSNE as TSNE\n",
        "\n",
        "@Cache(\n",
        "    cache_path=\"decomposition/tsne/{task}/{perplexity}_{dimensionality_threshold}_{_hash}.pkl.gz\",\n",
        "    args_to_ignore=[\"X\"]\n",
        ")\n",
        "def tsne_decomposition(\n",
        "    X:np.ndarray,\n",
        "    perplexity:int,\n",
        "    task:str,\n",
        "    dimensionality_threshold:int=50,\n",
        ") -> np.ndarray:\n",
        "    if X.shape[1] > dimensionality_threshold:\n",
        "        X = pca_decomposition(X, components=dimensionality_threshold)\n",
        "    return TSNE(\n",
        "        perplexity=perplexity,\n",
        "        n_jobs=cpu_count(),\n",
        "        random_state=42\n",
        "    ).fit_transform(X)"
      ],
      "execution_count": null,
      "outputs": []
    },
    {
      "cell_type": "code",
      "metadata": {
        "id": "3tXAPjs0fpAE"
      },
      "source": [
        "pca_dec = pca_decomposition(aeie_X.values)\n",
        "_ = sbn.scatterplot(\n",
        "    x=pca_dec.T[0],\n",
        "    y=pca_dec.T[1],\n",
        "    hue=aeie_y[cell_line]\n",
        ")"
      ],
      "execution_count": null,
      "outputs": []
    },
    {
      "cell_type": "code",
      "metadata": {
        "id": "I4sW2a7lfpAE"
      },
      "source": [
        "dec = tsne_decomposition(\n",
        "    aeie_X.values, \n",
        "    perplexity=30,\n",
        "    task=\"aeie\",\n",
        "    dimensionality_threshold=50\n",
        ")\n",
        "_ = sbn.scatterplot(\n",
        "    x=dec.T[0],\n",
        "    y=dec.T[1],\n",
        "    hue=aeie_y[cell_line]\n",
        ")"
      ],
      "execution_count": null,
      "outputs": []
    },
    {
      "cell_type": "markdown",
      "metadata": {
        "id": "ORTm_xB_fpAE"
      },
      "source": [
        "# Model creation"
      ]
    },
    {
      "cell_type": "code",
      "metadata": {
        "id": "ylUB0UQifpAE"
      },
      "source": [
        "from typing import Tuple\n",
        "from tensorflow.keras.layers import Input, Dense, Dropout, BatchNormalization, ReLU, Concatenate, Layer\n",
        "from tensorflow.keras.layers import Conv1D, MaxPool1D, GlobalAveragePooling1D, GlobalMaxPool1D, Flatten\n",
        "from tensorflow.keras import regularizers\n",
        "from tensorflow.keras.models import Model\n",
        "from tensorflow.keras.optimizers import SGD, Nadam\n",
        "from tensorflow.keras.callbacks import EarlyStopping\n",
        "from extra_keras_metrics import get_complete_binary_metrics, get_standard_binary_metrics,get_minimal_multiclass_metrics\n",
        "from keras_mixed_sequence import MixedSequence, VectorSequence\n",
        "from tqdm.keras import TqdmCallback"
      ],
      "execution_count": 7,
      "outputs": []
    },
    {
      "cell_type": "code",
      "metadata": {
        "id": "7n_81JY7fpAF"
      },
      "source": [
        "def build_fixed_ffnn(\n",
        "    input_shape: int\n",
        ")->Tuple[Model, Layer, Layer]:\n",
        "    \"\"\"Returns Feed-Forward Neural Network model for binary classification.\n",
        "    \n",
        "    Parameters\n",
        "    -----------------------\n",
        "    input_shape: int,\n",
        "        Number of features in the input layer.\n",
        "        \n",
        "    Returns\n",
        "    -----------------------\n",
        "    Triple with model, input layer and output layer.\n",
        "    \"\"\"\n",
        "    input_epigenomic_data = Input(shape=(input_shape,), name=\"epigenomic_data\")\n",
        "    hidden = Dense(16, activation=\"relu\")(input_epigenomic_data)\n",
        "    hidden = Dense(4, activation=\"relu\")(hidden)\n",
        "    hidden = Dense(2, activation=\"relu\")(hidden)\n",
        "    last_hidden_ffnn = hidden\n",
        "    output_ffnn = Dense(1, activation=\"sigmoid\")(last_hidden_ffnn)\n",
        "\n",
        "    ffnn = Model(\n",
        "        inputs=input_epigenomic_data,\n",
        "        outputs=output_ffnn,\n",
        "        name=\"BinaryFixedFFNN\"\n",
        "    )\n",
        "\n",
        "    ffnn.compile(\n",
        "        optimizer=SGD(\n",
        "            learning_rate=0.5\n",
        "        ),\n",
        "        loss=\"binary_crossentropy\",\n",
        "        metrics=get_minimal_multiclass_metrics()\n",
        "    )\n",
        "    return ffnn, input_epigenomic_data, last_hidden_ffnn"
      ],
      "execution_count": 8,
      "outputs": []
    },
    {
      "cell_type": "code",
      "metadata": {
        "id": "4UBSYo5kfpAF"
      },
      "source": [
        "def build_fixed_cnn(\n",
        "    window_size: int\n",
        ")->Tuple[Model, Layer, Layer]:\n",
        "    \"\"\"Returns Convolutional Neural Network model for binary classification.\n",
        "    \n",
        "    Parameters\n",
        "    -----------------------\n",
        "    window_size: int,\n",
        "        Size of the input genomic window.\n",
        "        \n",
        "    Returns\n",
        "    -----------------------\n",
        "    Triple with model, input layer and output layer.\n",
        "    \"\"\"\n",
        "    input_sequence_data = Input(shape=(window_size, 4), name=\"sequence_data\")\n",
        "    hidden = Conv1D(64, kernel_size=5, activation=\"relu\")(input_sequence_data)\n",
        "\n",
        "    for _ in range(2):\n",
        "        hidden = Conv1D(\n",
        "            64,\n",
        "            kernel_size=4,\n",
        "            activation=\"relu\",\n",
        "        )(hidden)\n",
        "        \n",
        "    hidden = MaxPool1D(pool_size=2)(hidden)\n",
        "    \n",
        "    for _ in range(3):\n",
        "        hidden = Conv1D(\n",
        "            128,\n",
        "            kernel_size=3,\n",
        "            activation=\"relu\",\n",
        "        )(hidden)\n",
        "        \n",
        "    #hidden = MaxPool1D(pool_size=2)(hidden)\n",
        "    #    \n",
        "    #for _ in range(3):\n",
        "    #    hidden = Conv1D(\n",
        "    #        128,\n",
        "    #        kernel_size=3,\n",
        "    #        activation=\"relu\",\n",
        "    #    )(hidden)\n",
        "    #\n",
        "    hidden = GlobalAveragePooling1D()(hidden)\n",
        "    hidden = Dropout(rate=0.5)(hidden)\n",
        "    hidden = Dense(10, activation=\"relu\")(hidden)\n",
        "    hidden = Dense(10, activation=\"relu\")(hidden)\n",
        "    last_hidden_cnn = Dropout(rate=0.5)(hidden)\n",
        "    output_cnn = Dense(1, activation=\"sigmoid\")(last_hidden_cnn)\n",
        "\n",
        "    cnn = Model(\n",
        "        inputs=input_sequence_data,\n",
        "        outputs=output_cnn,\n",
        "        name=\"BinaryClassificationCNN\"\n",
        "    )\n",
        "\n",
        "    cnn.compile(\n",
        "        optimizer=Nadam(\n",
        "            learning_rate=0.002,\n",
        "        ),\n",
        "        loss=\"binary_crossentropy\",\n",
        "        metrics=get_minimal_multiclass_metrics()\n",
        "    )\n",
        "\n",
        "    return cnn, input_sequence_data, last_hidden_cnn"
      ],
      "execution_count": 9,
      "outputs": []
    },
    {
      "cell_type": "code",
      "metadata": {
        "id": "9RJRiOObfpAG"
      },
      "source": [
        "from keras_bed_sequence import BedSequence\n",
        "\n",
        "def get_ffnn_sequence(\n",
        "    X: np.ndarray,\n",
        "    y: np.ndarray,\n",
        "    batch_size: int = 1024\n",
        ") -> MixedSequence:\n",
        "    \"\"\"Returns sequence to train a FFNN model on epigenomic data.\n",
        "    \n",
        "    Implementative details\n",
        "    -------------------------\n",
        "    This sequence can be used for either binary classification or\n",
        "    for regresssion, just change the y accordingly.\n",
        "    \n",
        "    Parameters\n",
        "    -------------------------\n",
        "    X: np.ndarray,\n",
        "        The vector from where to extract the epigenomic data.\n",
        "    y: np.ndarray,\n",
        "        The values the model should predict.\n",
        "    batch_size: int = 1024,\n",
        "        The size of the batches to generate\n",
        "    \n",
        "    Returns\n",
        "    --------------------------\n",
        "    MixedSequence object to train a FFNN.\n",
        "    \"\"\"\n",
        "    return MixedSequence(\n",
        "        x={\n",
        "            \"epigenomic_data\": VectorSequence(\n",
        "                X,\n",
        "                batch_size\n",
        "            )\n",
        "        },\n",
        "        y=VectorSequence(\n",
        "            y,\n",
        "            batch_size=batch_size\n",
        "        )\n",
        "    )\n",
        "\n",
        "\n",
        "def get_cnn_sequence(\n",
        "    genome: Genome,\n",
        "    bed: pd.DataFrame,\n",
        "    y: np.ndarray,\n",
        "    batch_size: int = 1024\n",
        ") -> MixedSequence:\n",
        "    \"\"\"Returns sequence to train a CNN model on genomic sequences.\n",
        "    \n",
        "    Implementative details\n",
        "    -------------------------\n",
        "    This sequence can be used for either binary classification or\n",
        "    for regresssion, just change the y accordingly.\n",
        "    \n",
        "    Parameters\n",
        "    -------------------------\n",
        "    genome: Genome,\n",
        "        The genome from where to extract the genomic sequence.\n",
        "    bed: pd.DataFrame,\n",
        "        The BED file coordinates describing where to extract the sequences.\n",
        "    y: np.ndarray,\n",
        "        The values the model should predict.\n",
        "    batch_size: int = 1024,\n",
        "        The size of the batches to generate\n",
        "    \n",
        "    Returns\n",
        "    --------------------------\n",
        "    MixedSequence object to train a CNN.\n",
        "    \"\"\"\n",
        "    return MixedSequence(\n",
        "        x={\n",
        "            \"sequence_data\": BedSequence(\n",
        "                genome,\n",
        "                bed,\n",
        "                batch_size=batch_size,\n",
        "            )\n",
        "        },\n",
        "        y=VectorSequence(\n",
        "            y,\n",
        "            batch_size=batch_size\n",
        "        )\n",
        "    )"
      ],
      "execution_count": 10,
      "outputs": []
    },
    {
      "cell_type": "code",
      "metadata": {
        "id": "zcuAQg7ZfpAG"
      },
      "source": [
        "from tensorflow.keras.callbacks import EarlyStopping\n",
        "\n",
        "\n",
        "@Cache(\n",
        "    cache_path=[\n",
        "        \"model_histories/{cell_line}/{task}/{model_name}/history_{_hash}.csv.xz\",\n",
        "        \"model_performance/{cell_line}/{task}/{model_name}/performance_{_hash}.csv.xz\",\n",
        "    ],\n",
        "    args_to_ignore=[\n",
        "        \"model\", \"training_sequence\", \"test_sequence\"\n",
        "    ]\n",
        ")\n",
        "def train_model(\n",
        "    model: Model,\n",
        "    model_name: str,\n",
        "    task: str,\n",
        "    cell_line: str,\n",
        "    training_sequence: MixedSequence,\n",
        "    test_sequence: MixedSequence,\n",
        "    holdout_number: int,\n",
        "    epochs: int\n",
        ") -> Tuple[pd.DataFrame, pd.DataFrame]:\n",
        "    \"\"\"Returns training history and model evaluations.\n",
        "    \n",
        "    Parameters\n",
        "    ---------------------\n",
        "    model: Model,\n",
        "        The model to train.\n",
        "    model_name: str,\n",
        "        The model name.\n",
        "    task: str,\n",
        "        The name of the task.\n",
        "    cell_line: str,\n",
        "        Name of the considered cell line.\n",
        "    training_sequence: MixedSequence,\n",
        "        The training sequence.\n",
        "    test_sequence: MixedSequence,\n",
        "        The test sequence.\n",
        "    holdout_number: int,\n",
        "        The number of the current holdout.\n",
        "        \n",
        "    Returns\n",
        "    ----------------------\n",
        "    Tuple with training history dataframe and model evaluations dataframe.\n",
        "    \"\"\"\n",
        "    history = pd.DataFrame(model.fit(\n",
        "        train_sequence,\n",
        "        validation_data=test_sequence,\n",
        "        epochs=epochs,\n",
        "        verbose=False,\n",
        "        callbacks=[\n",
        "            EarlyStopping(\n",
        "                \"loss\",\n",
        "                min_delta=1e-3,\n",
        "                patience=2,\n",
        "                mode=\"min\"\n",
        "            ),\n",
        "        ]\n",
        "    ).history)\n",
        "    \n",
        "    train_evaluation = dict(zip(model.metrics_names, model.evaluate(train_sequence, verbose=False)))\n",
        "    test_evaluation = dict(zip(model.metrics_names, model.evaluate(test_sequence, verbose=False)))\n",
        "    train_evaluation[\"run_type\"] = \"train\"\n",
        "    test_evaluation[\"run_type\"] = \"test\"\n",
        "    \n",
        "    for evaluation in (train_evaluation, test_evaluation):\n",
        "        evaluation[\"model_name\"] = model_name\n",
        "        evaluation[\"task\"] = task\n",
        "        evaluation[\"holdout_number\"] = holdout_number\n",
        "    \n",
        "    evaluations = pd.DataFrame([\n",
        "        train_evaluation,\n",
        "        test_evaluation\n",
        "    ])\n",
        "    \n",
        "    return history, evaluations"
      ],
      "execution_count": 11,
      "outputs": []
    },
    {
      "cell_type": "code",
      "metadata": {
        "id": "oLLhu9yoynLe"
      },
      "source": [
        "from sklearn.model_selection import StratifiedShuffleSplit, ShuffleSplit\n",
        "\n",
        "n_splits = 10\n",
        "test_size = 0.2\n",
        "random_state = 1902\n",
        "\n",
        "stratified_split = StratifiedShuffleSplit(\n",
        "    n_splits = n_splits,\n",
        "    test_size = test_size,\n",
        "    random_state = random_state\n",
        ")\n",
        "\n",
        "regression_split = ShuffleSplit(\n",
        "    n_splits = n_splits,\n",
        "    test_size = test_size,\n",
        "    random_state = random_state\n",
        ")"
      ],
      "execution_count": 12,
      "outputs": []
    },
    {
      "cell_type": "code",
      "metadata": {
        "id": "Cc8gkP_mfpAH"
      },
      "source": [
        "history_story = []\n",
        "performance_story = []\n",
        "\n",
        "for holdout_number, (train_indices, test_indices) in tqdm(\n",
        "    enumerate(stratified_split.split(aeie_X, aeie_y)),\n",
        "    total=n_splits,\n",
        "    leave=False,\n",
        "    desc=\"Computing holdouts\"\n",
        "):\n",
        "    train_X, test_X = aeie_X.iloc[train_indices], aeie_X.iloc[test_indices]\n",
        "    train_y, test_y = aeie_y.iloc[train_indices], aeie_y.iloc[test_indices]\n",
        "    \n",
        "    train_y = train_y.values.flatten()\n",
        "    test_y = test_y.values.flatten()\n",
        "    train_X = train_X.values\n",
        "    test_X = test_X.values\n",
        "\n",
        "    ffnn, input_epigenomic_data, last_hidden_ffnn = build_fixed_ffnn(train_X.shape[1])\n",
        "\n",
        "    train_sequence = get_ffnn_sequence(train_X, train_y, batch_size=32)\n",
        "    test_sequence = get_ffnn_sequence(test_X, test_y, batch_size=32)\n",
        "\n",
        "    history, performance = train_model(\n",
        "        ffnn,\n",
        "        ffnn.name,\n",
        "        \"aeie\",\n",
        "        cell_line,\n",
        "        train_sequence,\n",
        "        test_sequence,\n",
        "        holdout_number,\n",
        "        epochs=64\n",
        "    )\n",
        "    del train_X, train_y, test_X, test_y\n",
        "    history_story.append(history)\n",
        "    performance_story.append(performance)"
      ],
      "execution_count": null,
      "outputs": []
    },
    {
      "cell_type": "code",
      "metadata": {
        "id": "ZF1PnMyRhFVy",
        "outputId": "d1d47bc2-f1db-4a83-a803-a102528abef0",
        "colab": {
          "base_uri": "https://localhost:8080/",
          "height": 629,
          "referenced_widgets": [
            "206a0417d48e45c687578a863c957b80",
            "6465e0eccb614721bd63d6d9eb8aca82",
            "642d71e618ab4110a588173eb3882fab",
            "0501d39c37e84b2f8204cd896d48986b",
            "e5daaed5ad8241bd9cd94714cce2bd48",
            "b8dfac84637b4af4bd53783cac24d1f4",
            "fb6b0242d2514dd88dde44b1686d7ae1",
            "bb3d03cfd77247839451d18b765a2b3d"
          ]
        }
      },
      "source": [
        "history_story = []\n",
        "performance_story = []\n",
        "\n",
        "bed = to_bed(aeie_X)\n",
        "n_features = aeie_X.shape[1]\n",
        "    \n",
        "for holdout_number, (train_indices, test_indices) in tqdm(\n",
        "    enumerate(stratified_split.split(aeie_X, aeie_y)),\n",
        "    total=n_splits,\n",
        "    leave=False,\n",
        "    desc=\"Computing holdouts\"\n",
        "):\n",
        "    \n",
        "    train_bed, test_bed = bed.iloc[train_indices], bed.iloc[test_indices]\n",
        "    train_y, test_y = aeie_y.iloc[train_indices], aeie_y.iloc[test_indices]\n",
        "    \n",
        "    train_y = train_y.values.flatten()\n",
        "    test_y = test_y.values.flatten()\n",
        "\n",
        "    cnn, input_epigenomic_data, last_hidden_ffnn = build_fixed_cnn(n_features)\n",
        "    if holdout_number == 0: cnn.summary()\n",
        "\n",
        "    train_sequence = get_cnn_sequence(genome, train_bed, train_y, batch_size=100)\n",
        "    test_sequence = get_cnn_sequence(genome, test_bed, test_y, batch_size=100)\n",
        "\n",
        "    history, performance = train_model(\n",
        "        cnn,\n",
        "        cnn.name,\n",
        "        \"aeie-cnn\",\n",
        "        cell_line,\n",
        "        train_sequence,\n",
        "        test_sequence,\n",
        "        holdout_number,\n",
        "        epochs=64\n",
        "    )\n",
        "    del train_bed, train_y, test_bed, test_y\n",
        "    history_story.append(history)\n",
        "    performance_story.append(performance)"
      ],
      "execution_count": 15,
      "outputs": [
        {
          "output_type": "display_data",
          "data": {
            "application/vnd.jupyter.widget-view+json": {
              "model_id": "206a0417d48e45c687578a863c957b80",
              "version_minor": 0,
              "version_major": 2
            },
            "text/plain": [
              "HBox(children=(FloatProgress(value=0.0, description='Computing holdouts', max=10.0, style=ProgressStyle(descri…"
            ]
          },
          "metadata": {
            "tags": []
          }
        },
        {
          "output_type": "stream",
          "text": [
            "Model: \"BinaryClassificationCNN\"\n",
            "_________________________________________________________________\n",
            "Layer (type)                 Output Shape              Param #   \n",
            "=================================================================\n",
            "sequence_data (InputLayer)   [(None, 429, 4)]          0         \n",
            "_________________________________________________________________\n",
            "conv1d_6 (Conv1D)            (None, 425, 64)           1344      \n",
            "_________________________________________________________________\n",
            "conv1d_7 (Conv1D)            (None, 422, 64)           16448     \n",
            "_________________________________________________________________\n",
            "conv1d_8 (Conv1D)            (None, 419, 64)           16448     \n",
            "_________________________________________________________________\n",
            "max_pooling1d_1 (MaxPooling1 (None, 209, 64)           0         \n",
            "_________________________________________________________________\n",
            "conv1d_9 (Conv1D)            (None, 207, 128)          24704     \n",
            "_________________________________________________________________\n",
            "conv1d_10 (Conv1D)           (None, 205, 128)          49280     \n",
            "_________________________________________________________________\n",
            "conv1d_11 (Conv1D)           (None, 203, 128)          49280     \n",
            "_________________________________________________________________\n",
            "global_average_pooling1d_1 ( (None, 128)               0         \n",
            "_________________________________________________________________\n",
            "dropout_2 (Dropout)          (None, 128)               0         \n",
            "_________________________________________________________________\n",
            "dense_3 (Dense)              (None, 10)                1290      \n",
            "_________________________________________________________________\n",
            "dense_4 (Dense)              (None, 10)                110       \n",
            "_________________________________________________________________\n",
            "dropout_3 (Dropout)          (None, 10)                0         \n",
            "_________________________________________________________________\n",
            "dense_5 (Dense)              (None, 1)                 11        \n",
            "=================================================================\n",
            "Total params: 158,915\n",
            "Trainable params: 158,915\n",
            "Non-trainable params: 0\n",
            "_________________________________________________________________\n"
          ],
          "name": "stdout"
        }
      ]
    },
    {
      "cell_type": "code",
      "metadata": {
        "id": "yZ4EPLP4fpAH"
      },
      "source": [
        "performance_story = pd.concat(performance_story)"
      ],
      "execution_count": 16,
      "outputs": []
    },
    {
      "cell_type": "code",
      "metadata": {
        "id": "tbDcIb2afpAH",
        "outputId": "6b314b7f-fc09-43d5-d1ff-c59edb31ea2a",
        "colab": {
          "base_uri": "https://localhost:8080/",
          "height": 669
        }
      },
      "source": [
        "performance_story"
      ],
      "execution_count": 17,
      "outputs": [
        {
          "output_type": "execute_result",
          "data": {
            "text/html": [
              "<div>\n",
              "<style scoped>\n",
              "    .dataframe tbody tr th:only-of-type {\n",
              "        vertical-align: middle;\n",
              "    }\n",
              "\n",
              "    .dataframe tbody tr th {\n",
              "        vertical-align: top;\n",
              "    }\n",
              "\n",
              "    .dataframe thead th {\n",
              "        text-align: right;\n",
              "    }\n",
              "</style>\n",
              "<table border=\"1\" class=\"dataframe\">\n",
              "  <thead>\n",
              "    <tr style=\"text-align: right;\">\n",
              "      <th></th>\n",
              "      <th>loss</th>\n",
              "      <th>accuracy</th>\n",
              "      <th>recall</th>\n",
              "      <th>precision</th>\n",
              "      <th>AUROC</th>\n",
              "      <th>AUPRC</th>\n",
              "      <th>run_type</th>\n",
              "      <th>model_name</th>\n",
              "      <th>task</th>\n",
              "      <th>holdout_number</th>\n",
              "    </tr>\n",
              "  </thead>\n",
              "  <tbody>\n",
              "    <tr>\n",
              "      <th>0</th>\n",
              "      <td>0.037906</td>\n",
              "      <td>0.993660</td>\n",
              "      <td>0.0</td>\n",
              "      <td>0.0</td>\n",
              "      <td>0.571334</td>\n",
              "      <td>0.007481</td>\n",
              "      <td>train</td>\n",
              "      <td>BinaryClassificationCNN</td>\n",
              "      <td>aeie</td>\n",
              "      <td>0</td>\n",
              "    </tr>\n",
              "    <tr>\n",
              "      <th>1</th>\n",
              "      <td>0.037836</td>\n",
              "      <td>0.993679</td>\n",
              "      <td>0.0</td>\n",
              "      <td>0.0</td>\n",
              "      <td>0.568970</td>\n",
              "      <td>0.007414</td>\n",
              "      <td>test</td>\n",
              "      <td>BinaryClassificationCNN</td>\n",
              "      <td>aeie</td>\n",
              "      <td>0</td>\n",
              "    </tr>\n",
              "    <tr>\n",
              "      <th>0</th>\n",
              "      <td>0.037869</td>\n",
              "      <td>0.993660</td>\n",
              "      <td>0.0</td>\n",
              "      <td>0.0</td>\n",
              "      <td>0.618336</td>\n",
              "      <td>0.010684</td>\n",
              "      <td>train</td>\n",
              "      <td>BinaryClassificationCNN</td>\n",
              "      <td>aeie</td>\n",
              "      <td>1</td>\n",
              "    </tr>\n",
              "    <tr>\n",
              "      <th>1</th>\n",
              "      <td>0.038044</td>\n",
              "      <td>0.993679</td>\n",
              "      <td>0.0</td>\n",
              "      <td>0.0</td>\n",
              "      <td>0.590980</td>\n",
              "      <td>0.009814</td>\n",
              "      <td>test</td>\n",
              "      <td>BinaryClassificationCNN</td>\n",
              "      <td>aeie</td>\n",
              "      <td>1</td>\n",
              "    </tr>\n",
              "    <tr>\n",
              "      <th>0</th>\n",
              "      <td>0.038064</td>\n",
              "      <td>0.993660</td>\n",
              "      <td>0.0</td>\n",
              "      <td>0.0</td>\n",
              "      <td>0.500089</td>\n",
              "      <td>0.006341</td>\n",
              "      <td>train</td>\n",
              "      <td>BinaryClassificationCNN</td>\n",
              "      <td>aeie</td>\n",
              "      <td>2</td>\n",
              "    </tr>\n",
              "    <tr>\n",
              "      <th>1</th>\n",
              "      <td>0.038089</td>\n",
              "      <td>0.993679</td>\n",
              "      <td>0.0</td>\n",
              "      <td>0.0</td>\n",
              "      <td>0.500000</td>\n",
              "      <td>0.006321</td>\n",
              "      <td>test</td>\n",
              "      <td>BinaryClassificationCNN</td>\n",
              "      <td>aeie</td>\n",
              "      <td>2</td>\n",
              "    </tr>\n",
              "    <tr>\n",
              "      <th>0</th>\n",
              "      <td>0.036798</td>\n",
              "      <td>0.993660</td>\n",
              "      <td>0.0</td>\n",
              "      <td>0.0</td>\n",
              "      <td>0.671833</td>\n",
              "      <td>0.017143</td>\n",
              "      <td>train</td>\n",
              "      <td>BinaryClassificationCNN</td>\n",
              "      <td>aeie</td>\n",
              "      <td>3</td>\n",
              "    </tr>\n",
              "    <tr>\n",
              "      <th>1</th>\n",
              "      <td>0.037856</td>\n",
              "      <td>0.993679</td>\n",
              "      <td>0.0</td>\n",
              "      <td>0.0</td>\n",
              "      <td>0.604358</td>\n",
              "      <td>0.011293</td>\n",
              "      <td>test</td>\n",
              "      <td>BinaryClassificationCNN</td>\n",
              "      <td>aeie</td>\n",
              "      <td>3</td>\n",
              "    </tr>\n",
              "    <tr>\n",
              "      <th>0</th>\n",
              "      <td>0.036902</td>\n",
              "      <td>0.993660</td>\n",
              "      <td>0.0</td>\n",
              "      <td>0.0</td>\n",
              "      <td>0.698616</td>\n",
              "      <td>0.017119</td>\n",
              "      <td>train</td>\n",
              "      <td>BinaryClassificationCNN</td>\n",
              "      <td>aeie</td>\n",
              "      <td>4</td>\n",
              "    </tr>\n",
              "    <tr>\n",
              "      <th>1</th>\n",
              "      <td>0.037334</td>\n",
              "      <td>0.993679</td>\n",
              "      <td>0.0</td>\n",
              "      <td>0.0</td>\n",
              "      <td>0.642179</td>\n",
              "      <td>0.014367</td>\n",
              "      <td>test</td>\n",
              "      <td>BinaryClassificationCNN</td>\n",
              "      <td>aeie</td>\n",
              "      <td>4</td>\n",
              "    </tr>\n",
              "    <tr>\n",
              "      <th>0</th>\n",
              "      <td>0.038438</td>\n",
              "      <td>0.993660</td>\n",
              "      <td>0.0</td>\n",
              "      <td>0.0</td>\n",
              "      <td>0.500000</td>\n",
              "      <td>0.006340</td>\n",
              "      <td>train</td>\n",
              "      <td>BinaryClassificationCNN</td>\n",
              "      <td>aeie</td>\n",
              "      <td>5</td>\n",
              "    </tr>\n",
              "    <tr>\n",
              "      <th>1</th>\n",
              "      <td>0.038357</td>\n",
              "      <td>0.993679</td>\n",
              "      <td>0.0</td>\n",
              "      <td>0.0</td>\n",
              "      <td>0.500000</td>\n",
              "      <td>0.006321</td>\n",
              "      <td>test</td>\n",
              "      <td>BinaryClassificationCNN</td>\n",
              "      <td>aeie</td>\n",
              "      <td>5</td>\n",
              "    </tr>\n",
              "    <tr>\n",
              "      <th>0</th>\n",
              "      <td>0.037030</td>\n",
              "      <td>0.993660</td>\n",
              "      <td>0.0</td>\n",
              "      <td>0.0</td>\n",
              "      <td>0.654482</td>\n",
              "      <td>0.018104</td>\n",
              "      <td>train</td>\n",
              "      <td>BinaryClassificationCNN</td>\n",
              "      <td>aeie</td>\n",
              "      <td>6</td>\n",
              "    </tr>\n",
              "    <tr>\n",
              "      <th>1</th>\n",
              "      <td>0.037949</td>\n",
              "      <td>0.993679</td>\n",
              "      <td>0.0</td>\n",
              "      <td>0.0</td>\n",
              "      <td>0.624241</td>\n",
              "      <td>0.014417</td>\n",
              "      <td>test</td>\n",
              "      <td>BinaryClassificationCNN</td>\n",
              "      <td>aeie</td>\n",
              "      <td>6</td>\n",
              "    </tr>\n",
              "    <tr>\n",
              "      <th>0</th>\n",
              "      <td>0.038418</td>\n",
              "      <td>0.993660</td>\n",
              "      <td>0.0</td>\n",
              "      <td>0.0</td>\n",
              "      <td>0.500000</td>\n",
              "      <td>0.006340</td>\n",
              "      <td>train</td>\n",
              "      <td>BinaryClassificationCNN</td>\n",
              "      <td>aeie</td>\n",
              "      <td>7</td>\n",
              "    </tr>\n",
              "    <tr>\n",
              "      <th>1</th>\n",
              "      <td>0.038319</td>\n",
              "      <td>0.993679</td>\n",
              "      <td>0.0</td>\n",
              "      <td>0.0</td>\n",
              "      <td>0.500000</td>\n",
              "      <td>0.006321</td>\n",
              "      <td>test</td>\n",
              "      <td>BinaryClassificationCNN</td>\n",
              "      <td>aeie</td>\n",
              "      <td>7</td>\n",
              "    </tr>\n",
              "    <tr>\n",
              "      <th>0</th>\n",
              "      <td>0.037359</td>\n",
              "      <td>0.993660</td>\n",
              "      <td>0.0</td>\n",
              "      <td>0.0</td>\n",
              "      <td>0.614046</td>\n",
              "      <td>0.011902</td>\n",
              "      <td>train</td>\n",
              "      <td>BinaryClassificationCNN</td>\n",
              "      <td>aeie</td>\n",
              "      <td>8</td>\n",
              "    </tr>\n",
              "    <tr>\n",
              "      <th>1</th>\n",
              "      <td>0.037553</td>\n",
              "      <td>0.993679</td>\n",
              "      <td>0.0</td>\n",
              "      <td>0.0</td>\n",
              "      <td>0.567945</td>\n",
              "      <td>0.010383</td>\n",
              "      <td>test</td>\n",
              "      <td>BinaryClassificationCNN</td>\n",
              "      <td>aeie</td>\n",
              "      <td>8</td>\n",
              "    </tr>\n",
              "    <tr>\n",
              "      <th>0</th>\n",
              "      <td>0.037142</td>\n",
              "      <td>0.993660</td>\n",
              "      <td>0.0</td>\n",
              "      <td>0.0</td>\n",
              "      <td>0.660527</td>\n",
              "      <td>0.015294</td>\n",
              "      <td>train</td>\n",
              "      <td>BinaryClassificationCNN</td>\n",
              "      <td>aeie</td>\n",
              "      <td>9</td>\n",
              "    </tr>\n",
              "    <tr>\n",
              "      <th>1</th>\n",
              "      <td>0.037084</td>\n",
              "      <td>0.993679</td>\n",
              "      <td>0.0</td>\n",
              "      <td>0.0</td>\n",
              "      <td>0.618857</td>\n",
              "      <td>0.019128</td>\n",
              "      <td>test</td>\n",
              "      <td>BinaryClassificationCNN</td>\n",
              "      <td>aeie</td>\n",
              "      <td>9</td>\n",
              "    </tr>\n",
              "  </tbody>\n",
              "</table>\n",
              "</div>"
            ],
            "text/plain": [
              "       loss  accuracy  recall  ...               model_name  task  holdout_number\n",
              "0  0.037906  0.993660     0.0  ...  BinaryClassificationCNN  aeie               0\n",
              "1  0.037836  0.993679     0.0  ...  BinaryClassificationCNN  aeie               0\n",
              "0  0.037869  0.993660     0.0  ...  BinaryClassificationCNN  aeie               1\n",
              "1  0.038044  0.993679     0.0  ...  BinaryClassificationCNN  aeie               1\n",
              "0  0.038064  0.993660     0.0  ...  BinaryClassificationCNN  aeie               2\n",
              "1  0.038089  0.993679     0.0  ...  BinaryClassificationCNN  aeie               2\n",
              "0  0.036798  0.993660     0.0  ...  BinaryClassificationCNN  aeie               3\n",
              "1  0.037856  0.993679     0.0  ...  BinaryClassificationCNN  aeie               3\n",
              "0  0.036902  0.993660     0.0  ...  BinaryClassificationCNN  aeie               4\n",
              "1  0.037334  0.993679     0.0  ...  BinaryClassificationCNN  aeie               4\n",
              "0  0.038438  0.993660     0.0  ...  BinaryClassificationCNN  aeie               5\n",
              "1  0.038357  0.993679     0.0  ...  BinaryClassificationCNN  aeie               5\n",
              "0  0.037030  0.993660     0.0  ...  BinaryClassificationCNN  aeie               6\n",
              "1  0.037949  0.993679     0.0  ...  BinaryClassificationCNN  aeie               6\n",
              "0  0.038418  0.993660     0.0  ...  BinaryClassificationCNN  aeie               7\n",
              "1  0.038319  0.993679     0.0  ...  BinaryClassificationCNN  aeie               7\n",
              "0  0.037359  0.993660     0.0  ...  BinaryClassificationCNN  aeie               8\n",
              "1  0.037553  0.993679     0.0  ...  BinaryClassificationCNN  aeie               8\n",
              "0  0.037142  0.993660     0.0  ...  BinaryClassificationCNN  aeie               9\n",
              "1  0.037084  0.993679     0.0  ...  BinaryClassificationCNN  aeie               9\n",
              "\n",
              "[20 rows x 10 columns]"
            ]
          },
          "metadata": {
            "tags": []
          },
          "execution_count": 17
        }
      ]
    },
    {
      "cell_type": "code",
      "metadata": {
        "id": "bgxu1QcifpAI",
        "outputId": "6d49966d-df6f-45b2-8a40-d4d7a6524fe4",
        "colab": {
          "base_uri": "https://localhost:8080/",
          "height": 496
        }
      },
      "source": [
        "_, axs = plt.subplots(ncols=2, figsize=(20, 10))\n",
        "sbn.barplot(\n",
        "    x=\"AUROC\",\n",
        "    y=\"holdout_number\",\n",
        "    data=performance_story,\n",
        "    hue=\"run_type\",\n",
        "    orient=\"h\",\n",
        "    ax=axs[0],\n",
        "    ci=\"sd\"\n",
        ")\n",
        "axs[0].set_title(\"AUROC\")\n",
        "\n",
        "sbn.barplot(\n",
        "    x=\"AUPRC\",\n",
        "    y=\"holdout_number\",\n",
        "    data=performance_story,\n",
        "    hue=\"run_type\",\n",
        "    orient=\"h\",\n",
        "    ax=axs[1]\n",
        ")\n",
        "_ = axs[1].set_title(\"AUPRC\")"
      ],
      "execution_count": 18,
      "outputs": [
        {
          "output_type": "display_data",
          "data": {
            "image/png": "[encoded data removed]",
            "text/plain": [
              "<Figure size 1440x720 with 2 Axes>"
            ]
          },
          "metadata": {
            "tags": [],
            "needs_background": "light"
          }
        }
      ]
    }
  ]
}