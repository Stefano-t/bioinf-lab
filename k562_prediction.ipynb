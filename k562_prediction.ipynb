{
  "nbformat": 4,
  "nbformat_minor": 0,
  "metadata": {
    "colab": {
      "name": "k562-prediction.ipynb",
      "provenance": [],
      "collapsed_sections": [],
      "authorship_tag": "ABX9TyNJLDmlNfyNx3l5y4ambXks",
      "include_colab_link": true
    },
    "kernelspec": {
      "name": "python3",
      "display_name": "Python 3"
    },
    "language_info": {
      "name": "python"
    },
    "widgets": {
      "application/vnd.jupyter.widget-state+json": {
        "0e3f8739ee2f4f94a21a83d35df80161": {
          "model_module": "@jupyter-widgets/controls",
          "model_name": "HBoxModel",
          "state": {
            "_view_name": "HBoxView",
            "_dom_classes": [],
            "_model_name": "HBoxModel",
            "_view_module": "@jupyter-widgets/controls",
            "_model_module_version": "1.5.0",
            "_view_count": null,
            "_view_module_version": "1.5.0",
            "box_style": "",
            "layout": "IPY_MODEL_f82708bbca404206b065a7b042de873b",
            "_model_module": "@jupyter-widgets/controls",
            "children": [
              "IPY_MODEL_fdf1c840aedd48dda59553a41e54aec8",
              "IPY_MODEL_13c5410ae6df4519ab5bb51c1ab9730c"
            ]
          }
        },
        "f82708bbca404206b065a7b042de873b": {
          "model_module": "@jupyter-widgets/base",
          "model_name": "LayoutModel",
          "state": {
            "_view_name": "LayoutView",
            "grid_template_rows": null,
            "right": null,
            "justify_content": null,
            "_view_module": "@jupyter-widgets/base",
            "overflow": null,
            "_model_module_version": "1.2.0",
            "_view_count": null,
            "flex_flow": "row wrap",
            "width": "100%",
            "min_width": null,
            "border": null,
            "align_items": null,
            "bottom": null,
            "_model_module": "@jupyter-widgets/base",
            "top": null,
            "grid_column": null,
            "overflow_y": null,
            "overflow_x": null,
            "grid_auto_flow": null,
            "grid_area": null,
            "grid_template_columns": null,
            "flex": null,
            "_model_name": "LayoutModel",
            "justify_items": null,
            "grid_row": null,
            "max_height": null,
            "align_content": null,
            "visibility": null,
            "align_self": null,
            "height": null,
            "min_height": null,
            "padding": null,
            "grid_auto_rows": null,
            "grid_gap": null,
            "max_width": null,
            "order": null,
            "_view_module_version": "1.2.0",
            "grid_template_areas": null,
            "object_position": null,
            "object_fit": null,
            "grid_auto_columns": null,
            "margin": null,
            "display": "inline-flex",
            "left": null
          }
        },
        "fdf1c840aedd48dda59553a41e54aec8": {
          "model_module": "@jupyter-widgets/controls",
          "model_name": "FloatProgressModel",
          "state": {
            "_view_name": "ProgressView",
            "style": "IPY_MODEL_66fa84dd43074d50a32921a08a7ad674",
            "_dom_classes": [],
            "description": "Running Person test for promoters: 100%",
            "_model_name": "FloatProgressModel",
            "bar_style": "",
            "max": 429,
            "_view_module": "@jupyter-widgets/controls",
            "_model_module_version": "1.5.0",
            "value": 429,
            "_view_count": null,
            "_view_module_version": "1.5.0",
            "orientation": "horizontal",
            "min": 0,
            "description_tooltip": null,
            "_model_module": "@jupyter-widgets/controls",
            "layout": "IPY_MODEL_908f84d45a454eff9f9a2d592096781d"
          }
        },
        "13c5410ae6df4519ab5bb51c1ab9730c": {
          "model_module": "@jupyter-widgets/controls",
          "model_name": "HTMLModel",
          "state": {
            "_view_name": "HTMLView",
            "style": "IPY_MODEL_2b96301e01414a71ac843ef88dfb26d5",
            "_dom_classes": [],
            "description": "",
            "_model_name": "HTMLModel",
            "placeholder": "​",
            "_view_module": "@jupyter-widgets/controls",
            "_model_module_version": "1.5.0",
            "value": " 429/429 [00:01&lt;00:00, 354.26it/s]",
            "_view_count": null,
            "_view_module_version": "1.5.0",
            "description_tooltip": null,
            "_model_module": "@jupyter-widgets/controls",
            "layout": "IPY_MODEL_c51303f414434585995e63865ce6ae9d"
          }
        },
        "66fa84dd43074d50a32921a08a7ad674": {
          "model_module": "@jupyter-widgets/controls",
          "model_name": "ProgressStyleModel",
          "state": {
            "_view_name": "StyleView",
            "_model_name": "ProgressStyleModel",
            "description_width": "initial",
            "_view_module": "@jupyter-widgets/base",
            "_model_module_version": "1.5.0",
            "_view_count": null,
            "_view_module_version": "1.2.0",
            "bar_color": null,
            "_model_module": "@jupyter-widgets/controls"
          }
        },
        "908f84d45a454eff9f9a2d592096781d": {
          "model_module": "@jupyter-widgets/base",
          "model_name": "LayoutModel",
          "state": {
            "_view_name": "LayoutView",
            "grid_template_rows": null,
            "right": null,
            "justify_content": null,
            "_view_module": "@jupyter-widgets/base",
            "overflow": null,
            "_model_module_version": "1.2.0",
            "_view_count": null,
            "flex_flow": null,
            "width": null,
            "min_width": null,
            "border": null,
            "align_items": null,
            "bottom": null,
            "_model_module": "@jupyter-widgets/base",
            "top": null,
            "grid_column": null,
            "overflow_y": null,
            "overflow_x": null,
            "grid_auto_flow": null,
            "grid_area": null,
            "grid_template_columns": null,
            "flex": "2",
            "_model_name": "LayoutModel",
            "justify_items": null,
            "grid_row": null,
            "max_height": null,
            "align_content": null,
            "visibility": null,
            "align_self": null,
            "height": null,
            "min_height": null,
            "padding": null,
            "grid_auto_rows": null,
            "grid_gap": null,
            "max_width": null,
            "order": null,
            "_view_module_version": "1.2.0",
            "grid_template_areas": null,
            "object_position": null,
            "object_fit": null,
            "grid_auto_columns": null,
            "margin": null,
            "display": null,
            "left": null
          }
        },
        "2b96301e01414a71ac843ef88dfb26d5": {
          "model_module": "@jupyter-widgets/controls",
          "model_name": "DescriptionStyleModel",
          "state": {
            "_view_name": "StyleView",
            "_model_name": "DescriptionStyleModel",
            "description_width": "",
            "_view_module": "@jupyter-widgets/base",
            "_model_module_version": "1.5.0",
            "_view_count": null,
            "_view_module_version": "1.2.0",
            "_model_module": "@jupyter-widgets/controls"
          }
        },
        "c51303f414434585995e63865ce6ae9d": {
          "model_module": "@jupyter-widgets/base",
          "model_name": "LayoutModel",
          "state": {
            "_view_name": "LayoutView",
            "grid_template_rows": null,
            "right": null,
            "justify_content": null,
            "_view_module": "@jupyter-widgets/base",
            "overflow": null,
            "_model_module_version": "1.2.0",
            "_view_count": null,
            "flex_flow": null,
            "width": null,
            "min_width": null,
            "border": null,
            "align_items": null,
            "bottom": null,
            "_model_module": "@jupyter-widgets/base",
            "top": null,
            "grid_column": null,
            "overflow_y": null,
            "overflow_x": null,
            "grid_auto_flow": null,
            "grid_area": null,
            "grid_template_columns": null,
            "flex": null,
            "_model_name": "LayoutModel",
            "justify_items": null,
            "grid_row": null,
            "max_height": null,
            "align_content": null,
            "visibility": null,
            "align_self": null,
            "height": null,
            "min_height": null,
            "padding": null,
            "grid_auto_rows": null,
            "grid_gap": null,
            "max_width": null,
            "order": null,
            "_view_module_version": "1.2.0",
            "grid_template_areas": null,
            "object_position": null,
            "object_fit": null,
            "grid_auto_columns": null,
            "margin": null,
            "display": null,
            "left": null
          }
        },
        "d1568c7844e94cb39aead19bd3f8fd8e": {
          "model_module": "@jupyter-widgets/controls",
          "model_name": "HBoxModel",
          "state": {
            "_view_name": "HBoxView",
            "_dom_classes": [],
            "_model_name": "HBoxModel",
            "_view_module": "@jupyter-widgets/controls",
            "_model_module_version": "1.5.0",
            "_view_count": null,
            "_view_module_version": "1.5.0",
            "box_style": "",
            "layout": "IPY_MODEL_ab1aa5337ee04b07854c4e9ef2221725",
            "_model_module": "@jupyter-widgets/controls",
            "children": [
              "IPY_MODEL_3b084eb012ab4c73919ea4e3fc3d64dd",
              "IPY_MODEL_137e46dab5894fec80aac49743659565"
            ]
          }
        },
        "ab1aa5337ee04b07854c4e9ef2221725": {
          "model_module": "@jupyter-widgets/base",
          "model_name": "LayoutModel",
          "state": {
            "_view_name": "LayoutView",
            "grid_template_rows": null,
            "right": null,
            "justify_content": null,
            "_view_module": "@jupyter-widgets/base",
            "overflow": null,
            "_model_module_version": "1.2.0",
            "_view_count": null,
            "flex_flow": "row wrap",
            "width": "100%",
            "min_width": null,
            "border": null,
            "align_items": null,
            "bottom": null,
            "_model_module": "@jupyter-widgets/base",
            "top": null,
            "grid_column": null,
            "overflow_y": null,
            "overflow_x": null,
            "grid_auto_flow": null,
            "grid_area": null,
            "grid_template_columns": null,
            "flex": null,
            "_model_name": "LayoutModel",
            "justify_items": null,
            "grid_row": null,
            "max_height": null,
            "align_content": null,
            "visibility": null,
            "align_self": null,
            "height": null,
            "min_height": null,
            "padding": null,
            "grid_auto_rows": null,
            "grid_gap": null,
            "max_width": null,
            "order": null,
            "_view_module_version": "1.2.0",
            "grid_template_areas": null,
            "object_position": null,
            "object_fit": null,
            "grid_auto_columns": null,
            "margin": null,
            "display": "inline-flex",
            "left": null
          }
        },
        "3b084eb012ab4c73919ea4e3fc3d64dd": {
          "model_module": "@jupyter-widgets/controls",
          "model_name": "FloatProgressModel",
          "state": {
            "_view_name": "ProgressView",
            "style": "IPY_MODEL_723de7247ca045f4b022ff8a2f1df219",
            "_dom_classes": [],
            "description": "Running Person test for enhancers: 100%",
            "_model_name": "FloatProgressModel",
            "bar_style": "",
            "max": 429,
            "_view_module": "@jupyter-widgets/controls",
            "_model_module_version": "1.5.0",
            "value": 429,
            "_view_count": null,
            "_view_module_version": "1.5.0",
            "orientation": "horizontal",
            "min": 0,
            "description_tooltip": null,
            "_model_module": "@jupyter-widgets/controls",
            "layout": "IPY_MODEL_035c429c608948b1a19f385405328538"
          }
        },
        "137e46dab5894fec80aac49743659565": {
          "model_module": "@jupyter-widgets/controls",
          "model_name": "HTMLModel",
          "state": {
            "_view_name": "HTMLView",
            "style": "IPY_MODEL_de615d2f365e47dfb2b2ab43b2554c5a",
            "_dom_classes": [],
            "description": "",
            "_model_name": "HTMLModel",
            "placeholder": "​",
            "_view_module": "@jupyter-widgets/controls",
            "_model_module_version": "1.5.0",
            "value": " 429/429 [00:00&lt;00:00, 371.39it/s]",
            "_view_count": null,
            "_view_module_version": "1.5.0",
            "description_tooltip": null,
            "_model_module": "@jupyter-widgets/controls",
            "layout": "IPY_MODEL_8bb1c8461b204b63a81ae98f56d00783"
          }
        },
        "723de7247ca045f4b022ff8a2f1df219": {
          "model_module": "@jupyter-widgets/controls",
          "model_name": "ProgressStyleModel",
          "state": {
            "_view_name": "StyleView",
            "_model_name": "ProgressStyleModel",
            "description_width": "initial",
            "_view_module": "@jupyter-widgets/base",
            "_model_module_version": "1.5.0",
            "_view_count": null,
            "_view_module_version": "1.2.0",
            "bar_color": null,
            "_model_module": "@jupyter-widgets/controls"
          }
        },
        "035c429c608948b1a19f385405328538": {
          "model_module": "@jupyter-widgets/base",
          "model_name": "LayoutModel",
          "state": {
            "_view_name": "LayoutView",
            "grid_template_rows": null,
            "right": null,
            "justify_content": null,
            "_view_module": "@jupyter-widgets/base",
            "overflow": null,
            "_model_module_version": "1.2.0",
            "_view_count": null,
            "flex_flow": null,
            "width": null,
            "min_width": null,
            "border": null,
            "align_items": null,
            "bottom": null,
            "_model_module": "@jupyter-widgets/base",
            "top": null,
            "grid_column": null,
            "overflow_y": null,
            "overflow_x": null,
            "grid_auto_flow": null,
            "grid_area": null,
            "grid_template_columns": null,
            "flex": "2",
            "_model_name": "LayoutModel",
            "justify_items": null,
            "grid_row": null,
            "max_height": null,
            "align_content": null,
            "visibility": null,
            "align_self": null,
            "height": null,
            "min_height": null,
            "padding": null,
            "grid_auto_rows": null,
            "grid_gap": null,
            "max_width": null,
            "order": null,
            "_view_module_version": "1.2.0",
            "grid_template_areas": null,
            "object_position": null,
            "object_fit": null,
            "grid_auto_columns": null,
            "margin": null,
            "display": null,
            "left": null
          }
        },
        "de615d2f365e47dfb2b2ab43b2554c5a": {
          "model_module": "@jupyter-widgets/controls",
          "model_name": "DescriptionStyleModel",
          "state": {
            "_view_name": "StyleView",
            "_model_name": "DescriptionStyleModel",
            "description_width": "",
            "_view_module": "@jupyter-widgets/base",
            "_model_module_version": "1.5.0",
            "_view_count": null,
            "_view_module_version": "1.2.0",
            "_model_module": "@jupyter-widgets/controls"
          }
        },
        "8bb1c8461b204b63a81ae98f56d00783": {
          "model_module": "@jupyter-widgets/base",
          "model_name": "LayoutModel",
          "state": {
            "_view_name": "LayoutView",
            "grid_template_rows": null,
            "right": null,
            "justify_content": null,
            "_view_module": "@jupyter-widgets/base",
            "overflow": null,
            "_model_module_version": "1.2.0",
            "_view_count": null,
            "flex_flow": null,
            "width": null,
            "min_width": null,
            "border": null,
            "align_items": null,
            "bottom": null,
            "_model_module": "@jupyter-widgets/base",
            "top": null,
            "grid_column": null,
            "overflow_y": null,
            "overflow_x": null,
            "grid_auto_flow": null,
            "grid_area": null,
            "grid_template_columns": null,
            "flex": null,
            "_model_name": "LayoutModel",
            "justify_items": null,
            "grid_row": null,
            "max_height": null,
            "align_content": null,
            "visibility": null,
            "align_self": null,
            "height": null,
            "min_height": null,
            "padding": null,
            "grid_auto_rows": null,
            "grid_gap": null,
            "max_width": null,
            "order": null,
            "_view_module_version": "1.2.0",
            "grid_template_areas": null,
            "object_position": null,
            "object_fit": null,
            "grid_auto_columns": null,
            "margin": null,
            "display": null,
            "left": null
          }
        },
        "6705d8d5b3ec4d5bab6ca48f13c068fe": {
          "model_module": "@jupyter-widgets/controls",
          "model_name": "HBoxModel",
          "state": {
            "_view_name": "HBoxView",
            "_dom_classes": [],
            "_model_name": "HBoxModel",
            "_view_module": "@jupyter-widgets/controls",
            "_model_module_version": "1.5.0",
            "_view_count": null,
            "_view_module_version": "1.5.0",
            "box_style": "",
            "layout": "IPY_MODEL_61ebdfb84c7c4555a439519bc965856b",
            "_model_module": "@jupyter-widgets/controls",
            "children": [
              "IPY_MODEL_90aadbf91127421597d406391c117a99",
              "IPY_MODEL_9c7c93d69a7a4763adaed74eccfdf9bf"
            ]
          }
        },
        "61ebdfb84c7c4555a439519bc965856b": {
          "model_module": "@jupyter-widgets/base",
          "model_name": "LayoutModel",
          "state": {
            "_view_name": "LayoutView",
            "grid_template_rows": null,
            "right": null,
            "justify_content": null,
            "_view_module": "@jupyter-widgets/base",
            "overflow": null,
            "_model_module_version": "1.2.0",
            "_view_count": null,
            "flex_flow": "row wrap",
            "width": "100%",
            "min_width": null,
            "border": null,
            "align_items": null,
            "bottom": null,
            "_model_module": "@jupyter-widgets/base",
            "top": null,
            "grid_column": null,
            "overflow_y": null,
            "overflow_x": null,
            "grid_auto_flow": null,
            "grid_area": null,
            "grid_template_columns": null,
            "flex": null,
            "_model_name": "LayoutModel",
            "justify_items": null,
            "grid_row": null,
            "max_height": null,
            "align_content": null,
            "visibility": null,
            "align_self": null,
            "height": null,
            "min_height": null,
            "padding": null,
            "grid_auto_rows": null,
            "grid_gap": null,
            "max_width": null,
            "order": null,
            "_view_module_version": "1.2.0",
            "grid_template_areas": null,
            "object_position": null,
            "object_fit": null,
            "grid_auto_columns": null,
            "margin": null,
            "display": "inline-flex",
            "left": null
          }
        },
        "90aadbf91127421597d406391c117a99": {
          "model_module": "@jupyter-widgets/controls",
          "model_name": "FloatProgressModel",
          "state": {
            "_view_name": "ProgressView",
            "style": "IPY_MODEL_217dd3380d1e4656b04b23fc6393e501",
            "_dom_classes": [],
            "description": "Running Spearman test for promoters: 100%",
            "_model_name": "FloatProgressModel",
            "bar_style": "",
            "max": 429,
            "_view_module": "@jupyter-widgets/controls",
            "_model_module_version": "1.5.0",
            "value": 429,
            "_view_count": null,
            "_view_module_version": "1.5.0",
            "orientation": "horizontal",
            "min": 0,
            "description_tooltip": null,
            "_model_module": "@jupyter-widgets/controls",
            "layout": "IPY_MODEL_f60064d3874c47ecbc1ed3406217d979"
          }
        },
        "9c7c93d69a7a4763adaed74eccfdf9bf": {
          "model_module": "@jupyter-widgets/controls",
          "model_name": "HTMLModel",
          "state": {
            "_view_name": "HTMLView",
            "style": "IPY_MODEL_8ccf05c24098418680d685c85de1f0e5",
            "_dom_classes": [],
            "description": "",
            "_model_name": "HTMLModel",
            "placeholder": "​",
            "_view_module": "@jupyter-widgets/controls",
            "_model_module_version": "1.5.0",
            "value": " 429/429 [00:10&lt;00:00, 41.91it/s]",
            "_view_count": null,
            "_view_module_version": "1.5.0",
            "description_tooltip": null,
            "_model_module": "@jupyter-widgets/controls",
            "layout": "IPY_MODEL_addce4f5e1f24982b72038f3eb86c340"
          }
        },
        "217dd3380d1e4656b04b23fc6393e501": {
          "model_module": "@jupyter-widgets/controls",
          "model_name": "ProgressStyleModel",
          "state": {
            "_view_name": "StyleView",
            "_model_name": "ProgressStyleModel",
            "description_width": "initial",
            "_view_module": "@jupyter-widgets/base",
            "_model_module_version": "1.5.0",
            "_view_count": null,
            "_view_module_version": "1.2.0",
            "bar_color": null,
            "_model_module": "@jupyter-widgets/controls"
          }
        },
        "f60064d3874c47ecbc1ed3406217d979": {
          "model_module": "@jupyter-widgets/base",
          "model_name": "LayoutModel",
          "state": {
            "_view_name": "LayoutView",
            "grid_template_rows": null,
            "right": null,
            "justify_content": null,
            "_view_module": "@jupyter-widgets/base",
            "overflow": null,
            "_model_module_version": "1.2.0",
            "_view_count": null,
            "flex_flow": null,
            "width": null,
            "min_width": null,
            "border": null,
            "align_items": null,
            "bottom": null,
            "_model_module": "@jupyter-widgets/base",
            "top": null,
            "grid_column": null,
            "overflow_y": null,
            "overflow_x": null,
            "grid_auto_flow": null,
            "grid_area": null,
            "grid_template_columns": null,
            "flex": "2",
            "_model_name": "LayoutModel",
            "justify_items": null,
            "grid_row": null,
            "max_height": null,
            "align_content": null,
            "visibility": null,
            "align_self": null,
            "height": null,
            "min_height": null,
            "padding": null,
            "grid_auto_rows": null,
            "grid_gap": null,
            "max_width": null,
            "order": null,
            "_view_module_version": "1.2.0",
            "grid_template_areas": null,
            "object_position": null,
            "object_fit": null,
            "grid_auto_columns": null,
            "margin": null,
            "display": null,
            "left": null
          }
        },
        "8ccf05c24098418680d685c85de1f0e5": {
          "model_module": "@jupyter-widgets/controls",
          "model_name": "DescriptionStyleModel",
          "state": {
            "_view_name": "StyleView",
            "_model_name": "DescriptionStyleModel",
            "description_width": "",
            "_view_module": "@jupyter-widgets/base",
            "_model_module_version": "1.5.0",
            "_view_count": null,
            "_view_module_version": "1.2.0",
            "_model_module": "@jupyter-widgets/controls"
          }
        },
        "addce4f5e1f24982b72038f3eb86c340": {
          "model_module": "@jupyter-widgets/base",
          "model_name": "LayoutModel",
          "state": {
            "_view_name": "LayoutView",
            "grid_template_rows": null,
            "right": null,
            "justify_content": null,
            "_view_module": "@jupyter-widgets/base",
            "overflow": null,
            "_model_module_version": "1.2.0",
            "_view_count": null,
            "flex_flow": null,
            "width": null,
            "min_width": null,
            "border": null,
            "align_items": null,
            "bottom": null,
            "_model_module": "@jupyter-widgets/base",
            "top": null,
            "grid_column": null,
            "overflow_y": null,
            "overflow_x": null,
            "grid_auto_flow": null,
            "grid_area": null,
            "grid_template_columns": null,
            "flex": null,
            "_model_name": "LayoutModel",
            "justify_items": null,
            "grid_row": null,
            "max_height": null,
            "align_content": null,
            "visibility": null,
            "align_self": null,
            "height": null,
            "min_height": null,
            "padding": null,
            "grid_auto_rows": null,
            "grid_gap": null,
            "max_width": null,
            "order": null,
            "_view_module_version": "1.2.0",
            "grid_template_areas": null,
            "object_position": null,
            "object_fit": null,
            "grid_auto_columns": null,
            "margin": null,
            "display": null,
            "left": null
          }
        },
        "e80a340460484715b8d7ade67b0bca14": {
          "model_module": "@jupyter-widgets/controls",
          "model_name": "HBoxModel",
          "state": {
            "_view_name": "HBoxView",
            "_dom_classes": [],
            "_model_name": "HBoxModel",
            "_view_module": "@jupyter-widgets/controls",
            "_model_module_version": "1.5.0",
            "_view_count": null,
            "_view_module_version": "1.5.0",
            "box_style": "",
            "layout": "IPY_MODEL_8432807e0cea459481f85754eefb9912",
            "_model_module": "@jupyter-widgets/controls",
            "children": [
              "IPY_MODEL_6548958f80ae4fa99e4fee45d81e5bc1",
              "IPY_MODEL_eb27925e1598487dba9a84226d5bc373"
            ]
          }
        },
        "8432807e0cea459481f85754eefb9912": {
          "model_module": "@jupyter-widgets/base",
          "model_name": "LayoutModel",
          "state": {
            "_view_name": "LayoutView",
            "grid_template_rows": null,
            "right": null,
            "justify_content": null,
            "_view_module": "@jupyter-widgets/base",
            "overflow": null,
            "_model_module_version": "1.2.0",
            "_view_count": null,
            "flex_flow": "row wrap",
            "width": "100%",
            "min_width": null,
            "border": null,
            "align_items": null,
            "bottom": null,
            "_model_module": "@jupyter-widgets/base",
            "top": null,
            "grid_column": null,
            "overflow_y": null,
            "overflow_x": null,
            "grid_auto_flow": null,
            "grid_area": null,
            "grid_template_columns": null,
            "flex": null,
            "_model_name": "LayoutModel",
            "justify_items": null,
            "grid_row": null,
            "max_height": null,
            "align_content": null,
            "visibility": null,
            "align_self": null,
            "height": null,
            "min_height": null,
            "padding": null,
            "grid_auto_rows": null,
            "grid_gap": null,
            "max_width": null,
            "order": null,
            "_view_module_version": "1.2.0",
            "grid_template_areas": null,
            "object_position": null,
            "object_fit": null,
            "grid_auto_columns": null,
            "margin": null,
            "display": "inline-flex",
            "left": null
          }
        },
        "6548958f80ae4fa99e4fee45d81e5bc1": {
          "model_module": "@jupyter-widgets/controls",
          "model_name": "FloatProgressModel",
          "state": {
            "_view_name": "ProgressView",
            "style": "IPY_MODEL_04ea25475a81431b8fcd6f9b954842f7",
            "_dom_classes": [],
            "description": "Running Spearman test for enhancers: 100%",
            "_model_name": "FloatProgressModel",
            "bar_style": "",
            "max": 429,
            "_view_module": "@jupyter-widgets/controls",
            "_model_module_version": "1.5.0",
            "value": 429,
            "_view_count": null,
            "_view_module_version": "1.5.0",
            "orientation": "horizontal",
            "min": 0,
            "description_tooltip": null,
            "_model_module": "@jupyter-widgets/controls",
            "layout": "IPY_MODEL_ba37849f72194f618d6c3b04c026826f"
          }
        },
        "eb27925e1598487dba9a84226d5bc373": {
          "model_module": "@jupyter-widgets/controls",
          "model_name": "HTMLModel",
          "state": {
            "_view_name": "HTMLView",
            "style": "IPY_MODEL_d2450e9a49244dc9b055e29a0e416249",
            "_dom_classes": [],
            "description": "",
            "_model_name": "HTMLModel",
            "placeholder": "​",
            "_view_module": "@jupyter-widgets/controls",
            "_model_module_version": "1.5.0",
            "value": " 429/429 [00:06&lt;00:00, 66.75it/s]",
            "_view_count": null,
            "_view_module_version": "1.5.0",
            "description_tooltip": null,
            "_model_module": "@jupyter-widgets/controls",
            "layout": "IPY_MODEL_37e7a6132b5540d9b5d90bbeb319f17e"
          }
        },
        "04ea25475a81431b8fcd6f9b954842f7": {
          "model_module": "@jupyter-widgets/controls",
          "model_name": "ProgressStyleModel",
          "state": {
            "_view_name": "StyleView",
            "_model_name": "ProgressStyleModel",
            "description_width": "initial",
            "_view_module": "@jupyter-widgets/base",
            "_model_module_version": "1.5.0",
            "_view_count": null,
            "_view_module_version": "1.2.0",
            "bar_color": null,
            "_model_module": "@jupyter-widgets/controls"
          }
        },
        "ba37849f72194f618d6c3b04c026826f": {
          "model_module": "@jupyter-widgets/base",
          "model_name": "LayoutModel",
          "state": {
            "_view_name": "LayoutView",
            "grid_template_rows": null,
            "right": null,
            "justify_content": null,
            "_view_module": "@jupyter-widgets/base",
            "overflow": null,
            "_model_module_version": "1.2.0",
            "_view_count": null,
            "flex_flow": null,
            "width": null,
            "min_width": null,
            "border": null,
            "align_items": null,
            "bottom": null,
            "_model_module": "@jupyter-widgets/base",
            "top": null,
            "grid_column": null,
            "overflow_y": null,
            "overflow_x": null,
            "grid_auto_flow": null,
            "grid_area": null,
            "grid_template_columns": null,
            "flex": "2",
            "_model_name": "LayoutModel",
            "justify_items": null,
            "grid_row": null,
            "max_height": null,
            "align_content": null,
            "visibility": null,
            "align_self": null,
            "height": null,
            "min_height": null,
            "padding": null,
            "grid_auto_rows": null,
            "grid_gap": null,
            "max_width": null,
            "order": null,
            "_view_module_version": "1.2.0",
            "grid_template_areas": null,
            "object_position": null,
            "object_fit": null,
            "grid_auto_columns": null,
            "margin": null,
            "display": null,
            "left": null
          }
        },
        "d2450e9a49244dc9b055e29a0e416249": {
          "model_module": "@jupyter-widgets/controls",
          "model_name": "DescriptionStyleModel",
          "state": {
            "_view_name": "StyleView",
            "_model_name": "DescriptionStyleModel",
            "description_width": "",
            "_view_module": "@jupyter-widgets/base",
            "_model_module_version": "1.5.0",
            "_view_count": null,
            "_view_module_version": "1.2.0",
            "_model_module": "@jupyter-widgets/controls"
          }
        },
        "37e7a6132b5540d9b5d90bbeb319f17e": {
          "model_module": "@jupyter-widgets/base",
          "model_name": "LayoutModel",
          "state": {
            "_view_name": "LayoutView",
            "grid_template_rows": null,
            "right": null,
            "justify_content": null,
            "_view_module": "@jupyter-widgets/base",
            "overflow": null,
            "_model_module_version": "1.2.0",
            "_view_count": null,
            "flex_flow": null,
            "width": null,
            "min_width": null,
            "border": null,
            "align_items": null,
            "bottom": null,
            "_model_module": "@jupyter-widgets/base",
            "top": null,
            "grid_column": null,
            "overflow_y": null,
            "overflow_x": null,
            "grid_auto_flow": null,
            "grid_area": null,
            "grid_template_columns": null,
            "flex": null,
            "_model_name": "LayoutModel",
            "justify_items": null,
            "grid_row": null,
            "max_height": null,
            "align_content": null,
            "visibility": null,
            "align_self": null,
            "height": null,
            "min_height": null,
            "padding": null,
            "grid_auto_rows": null,
            "grid_gap": null,
            "max_width": null,
            "order": null,
            "_view_module_version": "1.2.0",
            "grid_template_areas": null,
            "object_position": null,
            "object_fit": null,
            "grid_auto_columns": null,
            "margin": null,
            "display": null,
            "left": null
          }
        },
        "6f082fbe092c49659129519368f6dfd5": {
          "model_module": "@jupyter-widgets/controls",
          "model_name": "HBoxModel",
          "state": {
            "_view_name": "HBoxView",
            "_dom_classes": [],
            "_model_name": "HBoxModel",
            "_view_module": "@jupyter-widgets/controls",
            "_model_module_version": "1.5.0",
            "_view_count": null,
            "_view_module_version": "1.5.0",
            "box_style": "",
            "layout": "IPY_MODEL_46b9ed6b71e04fe0b3c3b81c298dcef6",
            "_model_module": "@jupyter-widgets/controls",
            "children": [
              "IPY_MODEL_e8fe025eb4384cc88a0a35378f45e132",
              "IPY_MODEL_ef4b30c897534591963ad50a03be4a37"
            ]
          }
        },
        "46b9ed6b71e04fe0b3c3b81c298dcef6": {
          "model_module": "@jupyter-widgets/base",
          "model_name": "LayoutModel",
          "state": {
            "_view_name": "LayoutView",
            "grid_template_rows": null,
            "right": null,
            "justify_content": null,
            "_view_module": "@jupyter-widgets/base",
            "overflow": null,
            "_model_module_version": "1.2.0",
            "_view_count": null,
            "flex_flow": "row wrap",
            "width": "100%",
            "min_width": null,
            "border": null,
            "align_items": null,
            "bottom": null,
            "_model_module": "@jupyter-widgets/base",
            "top": null,
            "grid_column": null,
            "overflow_y": null,
            "overflow_x": null,
            "grid_auto_flow": null,
            "grid_area": null,
            "grid_template_columns": null,
            "flex": null,
            "_model_name": "LayoutModel",
            "justify_items": null,
            "grid_row": null,
            "max_height": null,
            "align_content": null,
            "visibility": null,
            "align_self": null,
            "height": null,
            "min_height": null,
            "padding": null,
            "grid_auto_rows": null,
            "grid_gap": null,
            "max_width": null,
            "order": null,
            "_view_module_version": "1.2.0",
            "grid_template_areas": null,
            "object_position": null,
            "object_fit": null,
            "grid_auto_columns": null,
            "margin": null,
            "display": "inline-flex",
            "left": null
          }
        },
        "e8fe025eb4384cc88a0a35378f45e132": {
          "model_module": "@jupyter-widgets/controls",
          "model_name": "FloatProgressModel",
          "state": {
            "_view_name": "ProgressView",
            "style": "IPY_MODEL_e337c54150624b70985cc98681dffb85",
            "_dom_classes": [],
            "description": "Running MINE test for promoters: 100%",
            "_model_name": "FloatProgressModel",
            "bar_style": "",
            "max": 19,
            "_view_module": "@jupyter-widgets/controls",
            "_model_module_version": "1.5.0",
            "value": 19,
            "_view_count": null,
            "_view_module_version": "1.5.0",
            "orientation": "horizontal",
            "min": 0,
            "description_tooltip": null,
            "_model_module": "@jupyter-widgets/controls",
            "layout": "IPY_MODEL_b07a79af876e41f29ea15bb976f25cae"
          }
        },
        "ef4b30c897534591963ad50a03be4a37": {
          "model_module": "@jupyter-widgets/controls",
          "model_name": "HTMLModel",
          "state": {
            "_view_name": "HTMLView",
            "style": "IPY_MODEL_c569176a71c747738d763cc5931b758d",
            "_dom_classes": [],
            "description": "",
            "_model_name": "HTMLModel",
            "placeholder": "​",
            "_view_module": "@jupyter-widgets/controls",
            "_model_module_version": "1.5.0",
            "value": " 19/19 [20:28&lt;00:00, 59.93s/it]",
            "_view_count": null,
            "_view_module_version": "1.5.0",
            "description_tooltip": null,
            "_model_module": "@jupyter-widgets/controls",
            "layout": "IPY_MODEL_162b2a808a444d08b2a3e5e0640ee6cb"
          }
        },
        "e337c54150624b70985cc98681dffb85": {
          "model_module": "@jupyter-widgets/controls",
          "model_name": "ProgressStyleModel",
          "state": {
            "_view_name": "StyleView",
            "_model_name": "ProgressStyleModel",
            "description_width": "initial",
            "_view_module": "@jupyter-widgets/base",
            "_model_module_version": "1.5.0",
            "_view_count": null,
            "_view_module_version": "1.2.0",
            "bar_color": null,
            "_model_module": "@jupyter-widgets/controls"
          }
        },
        "b07a79af876e41f29ea15bb976f25cae": {
          "model_module": "@jupyter-widgets/base",
          "model_name": "LayoutModel",
          "state": {
            "_view_name": "LayoutView",
            "grid_template_rows": null,
            "right": null,
            "justify_content": null,
            "_view_module": "@jupyter-widgets/base",
            "overflow": null,
            "_model_module_version": "1.2.0",
            "_view_count": null,
            "flex_flow": null,
            "width": null,
            "min_width": null,
            "border": null,
            "align_items": null,
            "bottom": null,
            "_model_module": "@jupyter-widgets/base",
            "top": null,
            "grid_column": null,
            "overflow_y": null,
            "overflow_x": null,
            "grid_auto_flow": null,
            "grid_area": null,
            "grid_template_columns": null,
            "flex": "2",
            "_model_name": "LayoutModel",
            "justify_items": null,
            "grid_row": null,
            "max_height": null,
            "align_content": null,
            "visibility": null,
            "align_self": null,
            "height": null,
            "min_height": null,
            "padding": null,
            "grid_auto_rows": null,
            "grid_gap": null,
            "max_width": null,
            "order": null,
            "_view_module_version": "1.2.0",
            "grid_template_areas": null,
            "object_position": null,
            "object_fit": null,
            "grid_auto_columns": null,
            "margin": null,
            "display": null,
            "left": null
          }
        },
        "c569176a71c747738d763cc5931b758d": {
          "model_module": "@jupyter-widgets/controls",
          "model_name": "DescriptionStyleModel",
          "state": {
            "_view_name": "StyleView",
            "_model_name": "DescriptionStyleModel",
            "description_width": "",
            "_view_module": "@jupyter-widgets/base",
            "_model_module_version": "1.5.0",
            "_view_count": null,
            "_view_module_version": "1.2.0",
            "_model_module": "@jupyter-widgets/controls"
          }
        },
        "162b2a808a444d08b2a3e5e0640ee6cb": {
          "model_module": "@jupyter-widgets/base",
          "model_name": "LayoutModel",
          "state": {
            "_view_name": "LayoutView",
            "grid_template_rows": null,
            "right": null,
            "justify_content": null,
            "_view_module": "@jupyter-widgets/base",
            "overflow": null,
            "_model_module_version": "1.2.0",
            "_view_count": null,
            "flex_flow": null,
            "width": null,
            "min_width": null,
            "border": null,
            "align_items": null,
            "bottom": null,
            "_model_module": "@jupyter-widgets/base",
            "top": null,
            "grid_column": null,
            "overflow_y": null,
            "overflow_x": null,
            "grid_auto_flow": null,
            "grid_area": null,
            "grid_template_columns": null,
            "flex": null,
            "_model_name": "LayoutModel",
            "justify_items": null,
            "grid_row": null,
            "max_height": null,
            "align_content": null,
            "visibility": null,
            "align_self": null,
            "height": null,
            "min_height": null,
            "padding": null,
            "grid_auto_rows": null,
            "grid_gap": null,
            "max_width": null,
            "order": null,
            "_view_module_version": "1.2.0",
            "grid_template_areas": null,
            "object_position": null,
            "object_fit": null,
            "grid_auto_columns": null,
            "margin": null,
            "display": null,
            "left": null
          }
        },
        "f040039de5c24e42bfc4ad4af57a8b1c": {
          "model_module": "@jupyter-widgets/controls",
          "model_name": "HBoxModel",
          "state": {
            "_view_name": "HBoxView",
            "_dom_classes": [],
            "_model_name": "HBoxModel",
            "_view_module": "@jupyter-widgets/controls",
            "_model_module_version": "1.5.0",
            "_view_count": null,
            "_view_module_version": "1.5.0",
            "box_style": "",
            "layout": "IPY_MODEL_bf5e0cda0874452ab50f828599fa5b55",
            "_model_module": "@jupyter-widgets/controls",
            "children": [
              "IPY_MODEL_a6b04769ed9b47d593e7f974cafdd86e",
              "IPY_MODEL_07eed05fc02842c59269cd55276f1e69"
            ]
          }
        },
        "bf5e0cda0874452ab50f828599fa5b55": {
          "model_module": "@jupyter-widgets/base",
          "model_name": "LayoutModel",
          "state": {
            "_view_name": "LayoutView",
            "grid_template_rows": null,
            "right": null,
            "justify_content": null,
            "_view_module": "@jupyter-widgets/base",
            "overflow": null,
            "_model_module_version": "1.2.0",
            "_view_count": null,
            "flex_flow": "row wrap",
            "width": "100%",
            "min_width": null,
            "border": null,
            "align_items": null,
            "bottom": null,
            "_model_module": "@jupyter-widgets/base",
            "top": null,
            "grid_column": null,
            "overflow_y": null,
            "overflow_x": null,
            "grid_auto_flow": null,
            "grid_area": null,
            "grid_template_columns": null,
            "flex": null,
            "_model_name": "LayoutModel",
            "justify_items": null,
            "grid_row": null,
            "max_height": null,
            "align_content": null,
            "visibility": null,
            "align_self": null,
            "height": null,
            "min_height": null,
            "padding": null,
            "grid_auto_rows": null,
            "grid_gap": null,
            "max_width": null,
            "order": null,
            "_view_module_version": "1.2.0",
            "grid_template_areas": null,
            "object_position": null,
            "object_fit": null,
            "grid_auto_columns": null,
            "margin": null,
            "display": "inline-flex",
            "left": null
          }
        },
        "a6b04769ed9b47d593e7f974cafdd86e": {
          "model_module": "@jupyter-widgets/controls",
          "model_name": "FloatProgressModel",
          "state": {
            "_view_name": "ProgressView",
            "style": "IPY_MODEL_ce7c95524e6049fd8818048a4800afc9",
            "_dom_classes": [],
            "description": "Running MINE test for enhancers: 100%",
            "_model_name": "FloatProgressModel",
            "bar_style": "",
            "max": 31,
            "_view_module": "@jupyter-widgets/controls",
            "_model_module_version": "1.5.0",
            "value": 31,
            "_view_count": null,
            "_view_module_version": "1.5.0",
            "orientation": "horizontal",
            "min": 0,
            "description_tooltip": null,
            "_model_module": "@jupyter-widgets/controls",
            "layout": "IPY_MODEL_2e463988e8494d6dad2ac2d16c241ad5"
          }
        },
        "07eed05fc02842c59269cd55276f1e69": {
          "model_module": "@jupyter-widgets/controls",
          "model_name": "HTMLModel",
          "state": {
            "_view_name": "HTMLView",
            "style": "IPY_MODEL_285846d7ada54b2894c49761b0f99985",
            "_dom_classes": [],
            "description": "",
            "_model_name": "HTMLModel",
            "placeholder": "​",
            "_view_module": "@jupyter-widgets/controls",
            "_model_module_version": "1.5.0",
            "value": " 31/31 [05:16&lt;00:00, 11.39s/it]",
            "_view_count": null,
            "_view_module_version": "1.5.0",
            "description_tooltip": null,
            "_model_module": "@jupyter-widgets/controls",
            "layout": "IPY_MODEL_afc23e1212f64761b4d0cc37aee78f7d"
          }
        },
        "ce7c95524e6049fd8818048a4800afc9": {
          "model_module": "@jupyter-widgets/controls",
          "model_name": "ProgressStyleModel",
          "state": {
            "_view_name": "StyleView",
            "_model_name": "ProgressStyleModel",
            "description_width": "initial",
            "_view_module": "@jupyter-widgets/base",
            "_model_module_version": "1.5.0",
            "_view_count": null,
            "_view_module_version": "1.2.0",
            "bar_color": null,
            "_model_module": "@jupyter-widgets/controls"
          }
        },
        "2e463988e8494d6dad2ac2d16c241ad5": {
          "model_module": "@jupyter-widgets/base",
          "model_name": "LayoutModel",
          "state": {
            "_view_name": "LayoutView",
            "grid_template_rows": null,
            "right": null,
            "justify_content": null,
            "_view_module": "@jupyter-widgets/base",
            "overflow": null,
            "_model_module_version": "1.2.0",
            "_view_count": null,
            "flex_flow": null,
            "width": null,
            "min_width": null,
            "border": null,
            "align_items": null,
            "bottom": null,
            "_model_module": "@jupyter-widgets/base",
            "top": null,
            "grid_column": null,
            "overflow_y": null,
            "overflow_x": null,
            "grid_auto_flow": null,
            "grid_area": null,
            "grid_template_columns": null,
            "flex": "2",
            "_model_name": "LayoutModel",
            "justify_items": null,
            "grid_row": null,
            "max_height": null,
            "align_content": null,
            "visibility": null,
            "align_self": null,
            "height": null,
            "min_height": null,
            "padding": null,
            "grid_auto_rows": null,
            "grid_gap": null,
            "max_width": null,
            "order": null,
            "_view_module_version": "1.2.0",
            "grid_template_areas": null,
            "object_position": null,
            "object_fit": null,
            "grid_auto_columns": null,
            "margin": null,
            "display": null,
            "left": null
          }
        },
        "285846d7ada54b2894c49761b0f99985": {
          "model_module": "@jupyter-widgets/controls",
          "model_name": "DescriptionStyleModel",
          "state": {
            "_view_name": "StyleView",
            "_model_name": "DescriptionStyleModel",
            "description_width": "",
            "_view_module": "@jupyter-widgets/base",
            "_model_module_version": "1.5.0",
            "_view_count": null,
            "_view_module_version": "1.2.0",
            "_model_module": "@jupyter-widgets/controls"
          }
        },
        "afc23e1212f64761b4d0cc37aee78f7d": {
          "model_module": "@jupyter-widgets/base",
          "model_name": "LayoutModel",
          "state": {
            "_view_name": "LayoutView",
            "grid_template_rows": null,
            "right": null,
            "justify_content": null,
            "_view_module": "@jupyter-widgets/base",
            "overflow": null,
            "_model_module_version": "1.2.0",
            "_view_count": null,
            "flex_flow": null,
            "width": null,
            "min_width": null,
            "border": null,
            "align_items": null,
            "bottom": null,
            "_model_module": "@jupyter-widgets/base",
            "top": null,
            "grid_column": null,
            "overflow_y": null,
            "overflow_x": null,
            "grid_auto_flow": null,
            "grid_area": null,
            "grid_template_columns": null,
            "flex": null,
            "_model_name": "LayoutModel",
            "justify_items": null,
            "grid_row": null,
            "max_height": null,
            "align_content": null,
            "visibility": null,
            "align_self": null,
            "height": null,
            "min_height": null,
            "padding": null,
            "grid_auto_rows": null,
            "grid_gap": null,
            "max_width": null,
            "order": null,
            "_view_module_version": "1.2.0",
            "grid_template_areas": null,
            "object_position": null,
            "object_fit": null,
            "grid_auto_columns": null,
            "margin": null,
            "display": null,
            "left": null
          }
        }
      }
    }
  },
  "cells": [
    {
      "cell_type": "markdown",
      "metadata": {
        "id": "view-in-github",
        "colab_type": "text"
      },
      "source": [
        "<a href=\"https://colab.research.google.com/github/Stefano-t/bioinf-lab/blob/main/k562_prediction.ipynb\" target=\"_parent\"><img src=\"https://colab.research.google.com/assets/colab-badge.svg\" alt=\"Open In Colab\"/></a>"
      ]
    },
    {
      "cell_type": "code",
      "metadata": {
        "colab": {
          "base_uri": "https://localhost:8080/"
        },
        "id": "4SFo1hy6_lSK",
        "outputId": "48a8f51b-add7-441e-aac9-8952e59e8e1f"
      },
      "source": [
        "!pip install crr_labels epigenomic_dataset \\\n",
        " ucsc_genomes_downloader cache_decorator minepy &> /dev/null && echo \"done\""
      ],
      "execution_count": 41,
      "outputs": [
        {
          "output_type": "stream",
          "text": [
            "done\n"
          ],
          "name": "stdout"
        }
      ]
    },
    {
      "cell_type": "code",
      "metadata": {
        "id": "5KJb7fmo_HrC"
      },
      "source": [
        "from cache_decorator import Cache\n",
        "import numpy as np\n",
        "import pandas as pd\n",
        "from tqdm.auto import tqdm\n",
        "from matplotlib.axes import Axes\n",
        "from matplotlib.figure import Figure\n",
        "from matplotlib.colors import ListedColormap, LogNorm\n",
        "from multiprocessing import cpu_count, Pool\n",
        "import matplotlib.pyplot as plt\n",
        "from epigenomic_dataset import load_epigenomes"
      ],
      "execution_count": 2,
      "outputs": []
    },
    {
      "cell_type": "code",
      "metadata": {
        "id": "Oujt-ycE_eiB"
      },
      "source": [
        "cell_line = \"K562\"\n",
        "genome_assembly = \"hg38\"\n",
        "window_size = 256\n",
        "\n",
        "promoters_epigenomes, promoters_labels = load_epigenomes(\n",
        "    cell_line = cell_line,\n",
        "    dataset = \"fantom\",\n",
        "    region = \"promoters\",\n",
        "    window_size = window_size,\n",
        "    root = \"datasets\"\n",
        ")\n",
        "\n",
        "enhancers_epigenomes, enhancers_labels = load_epigenomes(\n",
        "    cell_line = cell_line,\n",
        "    dataset = \"fantom\",\n",
        "    region = \"enhancers\",\n",
        "    window_size = window_size,\n",
        "    root = \"datasets\"\n",
        ")"
      ],
      "execution_count": 7,
      "outputs": []
    },
    {
      "cell_type": "code",
      "metadata": {
        "id": "ihIbzMn1QLvz"
      },
      "source": [
        "epigenomes = {\n",
        "    \"promoters\": promoters_epigenomes,\n",
        "    \"enhancers\": enhancers_epigenomes,\n",
        "}\n",
        "\n",
        "labels = {\n",
        "    \"promoters\": promoters_labels,\n",
        "    \"enhancers\": enhancers_labels,\n",
        "}"
      ],
      "execution_count": 9,
      "outputs": []
    },
    {
      "cell_type": "code",
      "metadata": {
        "id": "9vDJ3AoYVeeT"
      },
      "source": [
        "def describe_dataset(\n",
        "    X: pd.DataFrame,\n",
        "    y: pd.DataFrame\n",
        "):\n",
        "    \"\"\"Perform a quick report for some relevant information in the dataset.\n",
        "\n",
        "    Parameters\n",
        "    ---------- \n",
        "    X: pd.DataFrame\n",
        "        The dataframe to describe.\n",
        "    y: pd.DataFrame\n",
        "        The labels to describe.\n",
        "    \"\"\"\n",
        "    print(X.describe())\n",
        "    print(X[:5])\n",
        "    print(y.describe())\n",
        "    print(y[:5])\n",
        "    print(\"=\"*30, \"Feature Sample ration\", \"=\"*30)\n",
        "    print(f\"Features/Samples ratio is: {X.shape[0] / X.shape[1]}\")\n",
        "    print(\"=\"*30, \"NaN count\", \"=\"*30)\n",
        "    print(f\"Total NaN values: {X.isna().values.sum()}/{X.values.size}\")\n",
        "    print(f\"Max NaN in a row: {X.isna().sum(axis=1).max()}/{X.shape[1]}\")\n",
        "    print(f\"Max NaN in a feature: {X.isna().sum().max()}/{X.shape[0]}\")   "
      ],
      "execution_count": 10,
      "outputs": []
    },
    {
      "cell_type": "code",
      "metadata": {
        "colab": {
          "base_uri": "https://localhost:8080/"
        },
        "id": "bQD0hZtuVwLI",
        "outputId": "db480156-94c4-4ee2-bca9-0a1fc4430f36"
      },
      "source": [
        "for region, X in epigenomes.items():\n",
        "   print(f\"{region}\") \n",
        "   describe_dataset(X, labels[region])\n",
        "   print(\"|\"*80)"
      ],
      "execution_count": 13,
      "outputs": [
        {
          "output_type": "stream",
          "text": [
            "promoters\n",
            "chrom         SMAD5         NCOA2  ...         NCOA1          KLF1\n",
            "count  99881.000000  99881.000000  ...  99881.000000  99881.000000\n",
            "mean       2.238571      0.657735  ...      0.699335      1.298927\n",
            "std        2.650387      0.930009  ...      0.462811      1.111308\n",
            "min        0.000000      0.000000  ...      0.000000      0.000000\n",
            "25%        0.620000      0.410000  ...      0.370000      0.660000\n",
            "50%        1.100000      0.600000  ...      0.650000      1.040000\n",
            "75%        3.070000      0.800000  ...      0.970000      1.620000\n",
            "max       55.770000     38.470000  ...     11.170000     46.240000\n",
            "\n",
            "[8 rows x 429 columns]\n",
            "chrom                             SMAD5  NCOA2  ZNF23  ...  NCOR1  NCOA1  KLF1\n",
            "chrom chromStart chromEnd strand                       ...                    \n",
            "chr1  628964     629220   +        0.14   1.00   0.19  ...   1.40   1.74  1.59\n",
            "      629013     629269   +        0.14   0.97   0.20  ...   1.42   1.63  1.21\n",
            "      629642     629898   +        0.00   0.11   0.11  ...   0.00   0.16  0.09\n",
            "      629847     630103   +        0.12   1.07   0.91  ...   0.40   0.60  0.88\n",
            "      629905     630161   +        0.49   1.37   1.02  ...   0.54   0.61  1.15\n",
            "\n",
            "[5 rows x 429 columns]\n",
            "               K562\n",
            "count  99881.000000\n",
            "mean       8.372412\n",
            "std       97.990822\n",
            "min        0.000000\n",
            "25%        0.000000\n",
            "50%        0.000000\n",
            "75%        0.588911\n",
            "max    15463.916574\n",
            "                                      K562\n",
            "chrom chromStart chromEnd strand          \n",
            "chr1  628964     629220   +       0.588911\n",
            "      629013     629269   +       0.294455\n",
            "      629642     629898   +       0.588911\n",
            "      629847     630103   +       0.000000\n",
            "      629905     630161   +       2.061188\n",
            "============================== Feature Sample ration ==============================\n",
            "Features/Samples ratio is: 232.82284382284382\n",
            "============================== NaN count ==============================\n",
            "Total NaN values: 496/42848949\n",
            "Max NaN in a row: 20/429\n",
            "Max NaN in a feature: 250/99881\n",
            "||||||||||||||||||||||||||||||||||||||||||||||||||||||||||||||||||||||||||||||||\n",
            "enhancers\n",
            "chrom         SMAD5         NCOA2  ...         NCOA1          KLF1\n",
            "count  63285.000000  63285.000000  ...  63285.000000  63285.000000\n",
            "mean       0.854204      0.743733  ...      0.808300      0.942412\n",
            "std        0.878816      0.334574  ...      0.520243      0.563087\n",
            "min        0.000000      0.000000  ...      0.000000      0.000000\n",
            "25%        0.460000      0.520000  ...      0.480000      0.610000\n",
            "50%        0.720000      0.720000  ...      0.770000      0.870000\n",
            "75%        1.030000      0.930000  ...      1.080000      1.170000\n",
            "max       35.750000      6.470000  ...     37.360000     34.320000\n",
            "\n",
            "[8 rows x 429 columns]\n",
            "chrom                              SMAD5  NCOA2  ZNF23  ...  NCOR1  NCOA1  KLF1\n",
            "chrom chromStart chromEnd  strand                       ...                    \n",
            "chr10 100006381  100006637 .        0.90   0.90   1.37  ...   2.38   0.82  0.69\n",
            "      100008146  100008402 .        0.73   1.06   0.74  ...   3.11   0.49  1.05\n",
            "      100014418  100014674 .        0.77   0.33   0.53  ...   0.61   0.97  0.96\n",
            "      100020216  100020472 .        0.87   0.80   0.83  ...   0.57   0.03  1.07\n",
            "      100043528  100043784 .        0.64   0.53   0.03  ...   1.26   1.73  0.33\n",
            "\n",
            "[5 rows x 429 columns]\n",
            "               K562\n",
            "count  63285.000000\n",
            "mean       0.050866\n",
            "std        0.591588\n",
            "min        0.000000\n",
            "25%        0.000000\n",
            "50%        0.000000\n",
            "75%        0.000000\n",
            "max       61.711105\n",
            "                                   K562\n",
            "chrom chromStart chromEnd  strand      \n",
            "chr10 100006381  100006637 .        0.0\n",
            "      100008146  100008402 .        0.0\n",
            "      100014418  100014674 .        0.0\n",
            "      100020216  100020472 .        0.0\n",
            "      100043528  100043784 .        0.0\n",
            "============================== Feature Sample ration ==============================\n",
            "Features/Samples ratio is: 147.5174825174825\n",
            "============================== NaN count ==============================\n",
            "Total NaN values: 102/27149265\n",
            "Max NaN in a row: 7/429\n",
            "Max NaN in a feature: 93/63285\n",
            "||||||||||||||||||||||||||||||||||||||||||||||||||||||||||||||||||||||||||||||||\n"
          ],
          "name": "stdout"
        }
      ]
    },
    {
      "cell_type": "code",
      "metadata": {
        "id": "97YNjanmbL00"
      },
      "source": [
        "def drop_constant_features(X: pd.DataFrame) -> (pd.DataFrame, bool):\n",
        "    \"\"\"Return a DataFrame without constant features in in.\n",
        "\n",
        "    Parameters\n",
        "    ----------------\n",
        "    X: pd.DataFrame\n",
        "        The dataframe to process.\n",
        "\n",
        "    Returns\n",
        "    ----------------\n",
        "    A tuple with the new DataFrame and a boolean value to point out if the\n",
        "    new DataFrame is distinct from the input one.\n",
        "    \"\"\"\n",
        "    new_X = X.loc[:, (X != X.iloc[0]).any()]\n",
        "    return (new_X, new_X.shape[1] != X.shape[1])"
      ],
      "execution_count": 21,
      "outputs": []
    },
    {
      "cell_type": "code",
      "metadata": {
        "id": "YdyRmSpvR45x",
        "outputId": "688489a6-2ed0-4aa4-8266-931b2d8bb9b6",
        "colab": {
          "base_uri": "https://localhost:8080/"
        }
      },
      "source": [
        "for region, X in epigenomes.items():\n",
        "    X_new, ok = drop_constant_features(X)\n",
        "    if ok:\n",
        "        epigenomes[region] = X_new\n",
        "    else:\n",
        "        print(f\"{region} doesn't have costant features.\")"
      ],
      "execution_count": 34,
      "outputs": [
        {
          "output_type": "stream",
          "text": [
            "promoters doesn't have costant features.\n",
            "enhancers doesn't have costant features.\n"
          ],
          "name": "stdout"
        }
      ]
    },
    {
      "cell_type": "code",
      "metadata": {
        "id": "ukroQ8F9TbG_"
      },
      "source": [
        "def impute_with_median(X: pd.DataFrame) -> pd.DataFrame:\n",
        "    return X.fillna(X.median())"
      ],
      "execution_count": 26,
      "outputs": []
    },
    {
      "cell_type": "code",
      "metadata": {
        "id": "nevO0lVASsRF"
      },
      "source": [
        "for region, X in epigenomes.items():\n",
        "   epigenomes[region] = impute_with_median(X) "
      ],
      "execution_count": 35,
      "outputs": []
    },
    {
      "cell_type": "code",
      "metadata": {
        "id": "VaMyMJH4aquS"
      },
      "source": [
        "from sklearn.preprocessing import RobustScaler\n",
        "\n",
        "def robust_scaler(X: pd.DataFrame) -> pd.DataFrame:\n",
        "    return pd.DataFrame(\n",
        "        RobustScaler().fit_transform(X.values),\n",
        "        columns=X.columns,\n",
        "        index=X.index\n",
        "    )"
      ],
      "execution_count": 28,
      "outputs": []
    },
    {
      "cell_type": "code",
      "metadata": {
        "id": "O_CRxQ7FbHui"
      },
      "source": [
        "for region, X in epigenomes.items():\n",
        "   epigenomes[region] = robust_scaler(X) "
      ],
      "execution_count": 36,
      "outputs": []
    },
    {
      "cell_type": "markdown",
      "metadata": {
        "id": "LFW3bP4abJDH"
      },
      "source": [
        "# Verify output correlation"
      ]
    },
    {
      "cell_type": "code",
      "metadata": {
        "id": "zILGJZcPTM6x",
        "outputId": "ea4dc0ad-1689-4ae5-a69f-baca45a73e7f",
        "colab": {
          "base_uri": "https://localhost:8080/",
          "height": 887,
          "referenced_widgets": [
            "0e3f8739ee2f4f94a21a83d35df80161",
            "f82708bbca404206b065a7b042de873b",
            "fdf1c840aedd48dda59553a41e54aec8",
            "13c5410ae6df4519ab5bb51c1ab9730c",
            "66fa84dd43074d50a32921a08a7ad674",
            "908f84d45a454eff9f9a2d592096781d",
            "2b96301e01414a71ac843ef88dfb26d5",
            "c51303f414434585995e63865ce6ae9d",
            "d1568c7844e94cb39aead19bd3f8fd8e",
            "ab1aa5337ee04b07854c4e9ef2221725",
            "3b084eb012ab4c73919ea4e3fc3d64dd",
            "137e46dab5894fec80aac49743659565",
            "723de7247ca045f4b022ff8a2f1df219",
            "035c429c608948b1a19f385405328538",
            "de615d2f365e47dfb2b2ab43b2554c5a",
            "8bb1c8461b204b63a81ae98f56d00783"
          ]
        }
      },
      "source": [
        "from scipy.stats import pearsonr\n",
        "\n",
        "uncorrelated_features_with_output = {\n",
        "    region: set()\n",
        "    for region in epigenomes\n",
        "}\n",
        "\n",
        "for region, X in epigenomes.items():\n",
        "    print(\"=\"*20, region.upper(), \"=\"*20)\n",
        "    for feature in tqdm(\n",
        "        X.columns,\n",
        "        desc=f\"Running Person test for {region}\",\n",
        "        dynamic_ncols = True,\n",
        "        leave = False\n",
        "    ):\n",
        "        correlation, p_value = pearsonr(\n",
        "            X[feature].values.ravel(),\n",
        "            labels[region].values.ravel()\n",
        "        )\n",
        "        if p_value > 0.01:\n",
        "            print(f\"Feature {feature} has no correlation with the output.\")\n",
        "            uncorrelated_features_with_output[region].add(feature)\n",
        "\n",
        "print(uncorrelated_features_with_output)"
      ],
      "execution_count": 38,
      "outputs": [
        {
          "output_type": "stream",
          "text": [
            "==================== PROMOTERS ====================\n"
          ],
          "name": "stdout"
        },
        {
          "output_type": "display_data",
          "data": {
            "application/vnd.jupyter.widget-view+json": {
              "model_id": "0e3f8739ee2f4f94a21a83d35df80161",
              "version_minor": 0,
              "version_major": 2
            },
            "text/plain": [
              "HBox(children=(FloatProgress(value=0.0, description='Running Person test for promoters', layout=Layout(flex='2…"
            ]
          },
          "metadata": {
            "tags": []
          }
        },
        {
          "output_type": "stream",
          "text": [
            "Feature ZKSCAN3 has no correlation with the output.\n",
            "Feature ZNF785 has no correlation with the output.\n",
            "Feature U2AF2 has no correlation with the output.\n",
            "Feature RBM17 has no correlation with the output.\n",
            "Feature ARID2 has no correlation with the output.\n",
            "Feature ZBTB33 has no correlation with the output.\n",
            "Feature ZNF408 has no correlation with the output.\n",
            "Feature RFX1 has no correlation with the output.\n",
            "Feature EHMT2 has no correlation with the output.\n",
            "Feature ZBTB8A has no correlation with the output.\n",
            "Feature MIER1 has no correlation with the output.\n",
            "Feature NCOA4 has no correlation with the output.\n",
            "Feature ZNF512 has no correlation with the output.\n",
            "Feature KLF10 has no correlation with the output.\n",
            "Feature ZNF319 has no correlation with the output.\n",
            "Feature PTRF has no correlation with the output.\n",
            "Feature SMARCA5 has no correlation with the output.\n",
            "Feature NCOA1 has no correlation with the output.\n",
            "==================== ENHANCERS ====================\n"
          ],
          "name": "stdout"
        },
        {
          "output_type": "display_data",
          "data": {
            "application/vnd.jupyter.widget-view+json": {
              "model_id": "d1568c7844e94cb39aead19bd3f8fd8e",
              "version_minor": 0,
              "version_major": 2
            },
            "text/plain": [
              "HBox(children=(FloatProgress(value=0.0, description='Running Person test for enhancers', layout=Layout(flex='2…"
            ]
          },
          "metadata": {
            "tags": []
          }
        },
        {
          "output_type": "stream",
          "text": [
            "Feature STAG1 has no correlation with the output.\n",
            "Feature XRCC3 has no correlation with the output.\n",
            "Feature ILK has no correlation with the output.\n",
            "Feature ZNF830 has no correlation with the output.\n",
            "Feature HNRNPH1 has no correlation with the output.\n",
            "Feature RBM17 has no correlation with the output.\n",
            "Feature NR0B1 has no correlation with the output.\n",
            "Feature whole-genome shotgun bisulfite sequencing has no correlation with the output.\n",
            "Feature ZNF778 has no correlation with the output.\n",
            "Feature H4K20me1 has no correlation with the output.\n",
            "Feature SNRNP70 has no correlation with the output.\n",
            "Feature CEBPG has no correlation with the output.\n",
            "Feature PCBP2 has no correlation with the output.\n",
            "Feature ATF2 has no correlation with the output.\n",
            "Feature MCM2 has no correlation with the output.\n",
            "Feature RFX1 has no correlation with the output.\n",
            "Feature FOXJ3 has no correlation with the output.\n",
            "Feature ZBTB8A has no correlation with the output.\n",
            "Feature SRSF7 has no correlation with the output.\n",
            "Feature ZNF318 has no correlation with the output.\n",
            "Feature DLX4 has no correlation with the output.\n",
            "Feature ZNF280A has no correlation with the output.\n",
            "Feature FOXA1 has no correlation with the output.\n",
            "Feature EWSR1 has no correlation with the output.\n",
            "Feature TSC22D4 has no correlation with the output.\n",
            "Feature MCM7 has no correlation with the output.\n",
            "Feature RBM15 has no correlation with the output.\n",
            "Feature YBX1 has no correlation with the output.\n",
            "Feature SAFB2 has no correlation with the output.\n",
            "{'promoters': {'EHMT2', 'KLF10', 'SMARCA5', 'MIER1', 'ZBTB8A', 'ZKSCAN3', 'NCOA4', 'RBM17', 'NCOA1', 'ZNF785', 'RFX1', 'ZNF408', 'ZNF512', 'ZNF319', 'ZBTB33', 'PTRF', 'U2AF2', 'ARID2'}, 'enhancers': {'ZNF830', 'MCM7', 'ZBTB8A', 'DLX4', 'RFX1', 'MCM2', 'whole-genome shotgun bisulfite sequencing', 'TSC22D4', 'RBM17', 'FOXA1', 'YBX1', 'FOXJ3', 'H4K20me1', 'EWSR1', 'ZNF318', 'SAFB2', 'NR0B1', 'PCBP2', 'STAG1', 'HNRNPH1', 'XRCC3', 'ILK', 'ATF2', 'ZNF280A', 'SRSF7', 'ZNF778', 'RBM15', 'SNRNP70', 'CEBPG'}}\n"
          ],
          "name": "stdout"
        }
      ]
    },
    {
      "cell_type": "code",
      "metadata": {
        "id": "GjtY4CdiX6iy",
        "outputId": "0a67474d-ac55-46a0-9803-7f168d4c54dd",
        "colab": {
          "base_uri": "https://localhost:8080/",
          "height": 275,
          "referenced_widgets": [
            "6705d8d5b3ec4d5bab6ca48f13c068fe",
            "61ebdfb84c7c4555a439519bc965856b",
            "90aadbf91127421597d406391c117a99",
            "9c7c93d69a7a4763adaed74eccfdf9bf",
            "217dd3380d1e4656b04b23fc6393e501",
            "f60064d3874c47ecbc1ed3406217d979",
            "8ccf05c24098418680d685c85de1f0e5",
            "addce4f5e1f24982b72038f3eb86c340",
            "e80a340460484715b8d7ade67b0bca14",
            "8432807e0cea459481f85754eefb9912",
            "6548958f80ae4fa99e4fee45d81e5bc1",
            "eb27925e1598487dba9a84226d5bc373",
            "04ea25475a81431b8fcd6f9b954842f7",
            "ba37849f72194f618d6c3b04c026826f",
            "d2450e9a49244dc9b055e29a0e416249",
            "37e7a6132b5540d9b5d90bbeb319f17e"
          ]
        }
      },
      "source": [
        "from scipy.stats import spearmanr\n",
        "\n",
        "for region, X in epigenomes.items():\n",
        "    print(\"=\"*20, region.upper(), \"=\"*20)\n",
        "    for feature in tqdm(\n",
        "        X.columns,\n",
        "        desc= f\"Running Spearman test for {region}\",\n",
        "        dynamic_ncols = True,\n",
        "        leave = False\n",
        "    ):\n",
        "        correlation, p_value = spearmanr(\n",
        "            X[feature].values.ravel(),\n",
        "            labels[region].values.ravel()\n",
        "        )\n",
        "        if p_value > 0.01:\n",
        "            print(f\"Feature {feature} has no correlation with the output {correlation}.\")\n",
        "            uncorrelated_features_with_output[region].add(feature)\n",
        "\n",
        "print(uncorrelated_features_with_output)"
      ],
      "execution_count": 39,
      "outputs": [
        {
          "output_type": "stream",
          "text": [
            "==================== PROMOTERS ====================\n"
          ],
          "name": "stdout"
        },
        {
          "output_type": "display_data",
          "data": {
            "application/vnd.jupyter.widget-view+json": {
              "model_id": "6705d8d5b3ec4d5bab6ca48f13c068fe",
              "version_minor": 0,
              "version_major": 2
            },
            "text/plain": [
              "HBox(children=(FloatProgress(value=0.0, description='Running Spearman test for promoters', layout=Layout(flex=…"
            ]
          },
          "metadata": {
            "tags": []
          }
        },
        {
          "output_type": "stream",
          "text": [
            "Feature ZNF785 has no correlation with the output 0.00226152461950466.\n",
            "Feature ARHGAP35 has no correlation with the output 0.0059617930005142344.\n",
            "==================== ENHANCERS ====================\n"
          ],
          "name": "stdout"
        },
        {
          "output_type": "display_data",
          "data": {
            "application/vnd.jupyter.widget-view+json": {
              "model_id": "e80a340460484715b8d7ade67b0bca14",
              "version_minor": 0,
              "version_major": 2
            },
            "text/plain": [
              "HBox(children=(FloatProgress(value=0.0, description='Running Spearman test for enhancers', layout=Layout(flex=…"
            ]
          },
          "metadata": {
            "tags": []
          }
        },
        {
          "output_type": "stream",
          "text": [
            "Feature SUZ12 has no correlation with the output 0.004583850538435079.\n",
            "Feature U2AF2 has no correlation with the output 0.008261248556096393.\n",
            "Feature RBM17 has no correlation with the output 0.006786566984658262.\n",
            "Feature FOXJ3 has no correlation with the output -0.0035543247658476034.\n",
            "Feature SRSF7 has no correlation with the output 0.00019059684242344712.\n",
            "Feature DLX4 has no correlation with the output 0.0012562137044762349.\n",
            "Feature EWSR1 has no correlation with the output 0.0020771158738122617.\n",
            "Feature TSC22D4 has no correlation with the output 0.00941262848082613.\n",
            "Feature MCM7 has no correlation with the output 0.010071824629510751.\n",
            "{'promoters': {'ZBTB8A', 'RFX1', 'ZNF512', 'ZBTB33', 'PTRF', 'U2AF2', 'KLF10', 'MIER1', 'RBM17', 'ZNF408', 'SMARCA5', 'NCOA4', 'NCOA1', 'ZKSCAN3', 'ZNF319', 'ARHGAP35', 'ZNF785', 'EHMT2', 'ARID2'}, 'enhancers': {'ZNF830', 'MCM7', 'ZBTB8A', 'DLX4', 'RFX1', 'MCM2', 'whole-genome shotgun bisulfite sequencing', 'U2AF2', 'TSC22D4', 'RBM17', 'FOXA1', 'YBX1', 'FOXJ3', 'H4K20me1', 'EWSR1', 'ZNF318', 'SAFB2', 'NR0B1', 'PCBP2', 'STAG1', 'HNRNPH1', 'SUZ12', 'XRCC3', 'ILK', 'ATF2', 'ZNF280A', 'SRSF7', 'ZNF778', 'RBM15', 'SNRNP70', 'CEBPG'}}\n"
          ],
          "name": "stdout"
        }
      ]
    },
    {
      "cell_type": "code",
      "metadata": {
        "id": "82f09enLbTVR",
        "outputId": "d5ab046a-3423-40a5-c667-855d398959f9",
        "colab": {
          "base_uri": "https://localhost:8080/",
          "height": 904,
          "referenced_widgets": [
            "6f082fbe092c49659129519368f6dfd5",
            "46b9ed6b71e04fe0b3c3b81c298dcef6",
            "e8fe025eb4384cc88a0a35378f45e132",
            "ef4b30c897534591963ad50a03be4a37",
            "e337c54150624b70985cc98681dffb85",
            "b07a79af876e41f29ea15bb976f25cae",
            "c569176a71c747738d763cc5931b758d",
            "162b2a808a444d08b2a3e5e0640ee6cb",
            "f040039de5c24e42bfc4ad4af57a8b1c",
            "bf5e0cda0874452ab50f828599fa5b55",
            "a6b04769ed9b47d593e7f974cafdd86e",
            "07eed05fc02842c59269cd55276f1e69",
            "ce7c95524e6049fd8818048a4800afc9",
            "2e463988e8494d6dad2ac2d16c241ad5",
            "285846d7ada54b2894c49761b0f99985",
            "afc23e1212f64761b4d0cc37aee78f7d"
          ]
        }
      },
      "source": [
        "from minepy import MINE\n",
        "\n",
        "for region, X in epigenomes.items():\n",
        "    for feature in tqdm(\n",
        "        uncorrelated_features_with_output[region],\n",
        "        desc = f\"Running MINE test for {region}\",\n",
        "        dynamic_ncols = True,\n",
        "        leave = False\n",
        "    ):\n",
        "        mine = MINE()\n",
        "        mine.compute_score(\n",
        "            X[feature].values.ravel(),\n",
        "            labels[region].values.ravel()\n",
        "        )\n",
        "        score = mine.mic()\n",
        "        if score >= 0.05:\n",
        "            uncorrelated_features_with_output[region].remove(feature)\n",
        "        else:\n",
        "            print(region, feature, score)\n",
        "\n",
        "print(uncorrelated_features_with_output)"
      ],
      "execution_count": 44,
      "outputs": [
        {
          "output_type": "display_data",
          "data": {
            "application/vnd.jupyter.widget-view+json": {
              "model_id": "6f082fbe092c49659129519368f6dfd5",
              "version_minor": 0,
              "version_major": 2
            },
            "text/plain": [
              "HBox(children=(FloatProgress(value=0.0, description='Running MINE test for promoters', layout=Layout(flex='2')…"
            ]
          },
          "metadata": {
            "tags": []
          }
        },
        {
          "output_type": "stream",
          "text": [
            "promoters ZBTB8A 0.013868199773903946\n",
            "promoters RFX1 0.030841217924228503\n",
            "promoters ZNF512 0.013577929456178393\n",
            "promoters ZBTB33 0.034617713095646\n",
            "promoters PTRF 0.011167015589385935\n",
            "promoters U2AF2 0.04401463313911483\n",
            "promoters KLF10 0.013898726991151716\n",
            "promoters MIER1 0.03447048689016187\n",
            "promoters RBM17 0.02333391158780632\n",
            "promoters ZNF408 0.010693048115547105\n",
            "promoters SMARCA5 0.015421008134788953\n",
            "promoters NCOA4 0.011425141274769497\n",
            "promoters NCOA1 0.019660240653536918\n",
            "promoters ZKSCAN3 0.01207067423363108\n",
            "promoters ZNF319 0.02073232670015601\n",
            "promoters ARHGAP35 0.01689024805695061\n",
            "promoters ZNF785 0.010328123834868636\n",
            "promoters EHMT2 0.02357997917411199\n",
            "promoters ARID2 0.020140227969308377\n"
          ],
          "name": "stdout"
        },
        {
          "output_type": "display_data",
          "data": {
            "application/vnd.jupyter.widget-view+json": {
              "model_id": "f040039de5c24e42bfc4ad4af57a8b1c",
              "version_minor": 0,
              "version_major": 2
            },
            "text/plain": [
              "HBox(children=(FloatProgress(value=0.0, description='Running MINE test for enhancers', layout=Layout(flex='2')…"
            ]
          },
          "metadata": {
            "tags": []
          }
        },
        {
          "output_type": "stream",
          "text": [
            "enhancers ZNF830 0.004276624258902587\n",
            "enhancers MCM7 0.004591594513259929\n",
            "enhancers ZBTB8A 0.00456118536356291\n",
            "enhancers DLX4 0.004417119507728877\n",
            "enhancers RFX1 0.017244583532098706\n",
            "enhancers MCM2 0.005882175953094093\n",
            "enhancers whole-genome shotgun bisulfite sequencing 0.01543081217089772\n",
            "enhancers U2AF2 0.0067433624260091005\n",
            "enhancers TSC22D4 0.004412036375980728\n",
            "enhancers RBM17 0.005098695020370129\n",
            "enhancers FOXA1 0.005179187854491389\n",
            "enhancers YBX1 0.004733752143321934\n",
            "enhancers FOXJ3 0.005475335153331171\n",
            "enhancers H4K20me1 0.009335786258020484\n",
            "enhancers EWSR1 0.004799756297077799\n",
            "enhancers ZNF318 0.005197782427301565\n",
            "enhancers SAFB2 0.005277694525388302\n",
            "enhancers NR0B1 0.004007583986925275\n",
            "enhancers PCBP2 0.0067870565985254355\n",
            "enhancers STAG1 0.006835763406215087\n",
            "enhancers HNRNPH1 0.005892977277928196\n",
            "enhancers SUZ12 0.00736284746927227\n",
            "enhancers XRCC3 0.004630206157312691\n",
            "enhancers ILK 0.005337826201466052\n",
            "enhancers ATF2 0.020194054607857188\n",
            "enhancers ZNF280A 0.006815452312017244\n",
            "enhancers SRSF7 0.004542603212126146\n",
            "enhancers ZNF778 0.004059289360476414\n",
            "enhancers RBM15 0.007052408968733389\n",
            "enhancers SNRNP70 0.005866973393413791\n",
            "enhancers CEBPG 0.01654112068981459\n",
            "{'promoters': {'ZBTB8A', 'RFX1', 'ZNF512', 'ZBTB33', 'PTRF', 'U2AF2', 'KLF10', 'MIER1', 'RBM17', 'ZNF408', 'SMARCA5', 'NCOA4', 'NCOA1', 'ZKSCAN3', 'ZNF319', 'ARHGAP35', 'ZNF785', 'EHMT2', 'ARID2'}, 'enhancers': {'ZNF830', 'MCM7', 'ZBTB8A', 'DLX4', 'RFX1', 'MCM2', 'whole-genome shotgun bisulfite sequencing', 'U2AF2', 'TSC22D4', 'RBM17', 'FOXA1', 'YBX1', 'FOXJ3', 'H4K20me1', 'EWSR1', 'ZNF318', 'SAFB2', 'NR0B1', 'PCBP2', 'STAG1', 'HNRNPH1', 'SUZ12', 'XRCC3', 'ILK', 'ATF2', 'ZNF280A', 'SRSF7', 'ZNF778', 'RBM15', 'SNRNP70', 'CEBPG'}}\n"
          ],
          "name": "stdout"
        }
      ]
    },
    {
      "cell_type": "code",
      "metadata": {
        "id": "FEWMglvFjqI9"
      },
      "source": [
        "for region, X in epigenomes.items():\n",
        "    epigenomes[region] = X.drop(columns=[\n",
        "        c\n",
        "        for c in uncorrelated_features_with_output[region]\n",
        "        if c in X.columns                     \n",
        "    ])"
      ],
      "execution_count": 45,
      "outputs": []
    },
    {
      "cell_type": "code",
      "metadata": {
        "id": "0cHf_No3j_84",
        "outputId": "9d7b9fbe-adc1-4a73-9e91-eecfa0f59e38",
        "colab": {
          "base_uri": "https://localhost:8080/"
        }
      },
      "source": [
        "for _, X in epigenomes.items():\n",
        "    print(X.shape)"
      ],
      "execution_count": 47,
      "outputs": [
        {
          "output_type": "stream",
          "text": [
            "(99881, 410)\n",
            "(63285, 398)\n"
          ],
          "name": "stdout"
        }
      ]
    },
    {
      "cell_type": "markdown",
      "metadata": {
        "id": "R_IyWe12lei_"
      },
      "source": [
        "# Feature Correlation"
      ]
    },
    {
      "cell_type": "code",
      "metadata": {
        "id": "WZNntY-pleAx"
      },
      "source": [
        "from scipy.stats import entropy\n",
        "from typing import Set\n",
        "\n",
        "def features_correlation(\n",
        "    X: pd.DataFrame,\n",
        "    p_value_treshold: float,\n",
        "    correlation_threshold: float,\n",
        "    region: str\n",
        ") -> Set:\n",
        "    high_correlation = set()\n",
        "\n",
        "    for feature_1 in tqdm(\n",
        "        X.columns,\n",
        "        desc = f\"Running Person test for {feature_1}\",\n",
        "        dynamic_ncols = True,\n",
        "        leave = False\n",
        "    ):\n",
        "        for feature_2 in X.columns:\n",
        "            if feature_1 >= feature_2:\n",
        "                continue\n",
        "            \n",
        "        correlation, p_value = spearmanr(\n",
        "            X[feature_1],\n",
        "            X[feature_2]\n",
        "        )\n",
        "\n",
        "        if p_value < p_value_threshold and np.abs(correlation) > correlation_threshold:\n",
        "            print(f\"High correlation: {feature_1} with {feature_2} ({correlation})\")\n",
        "            if entropy(X[feature_1]) > entropy(X[feature_2]):\n",
        "                high_correlation.add(feature_2)\n",
        "            else:\n",
        "                high_correlation.add(feature_1)\n",
        "\n",
        "    return high_correlation"
      ],
      "execution_count": 50,
      "outputs": []
    }
  ]
}