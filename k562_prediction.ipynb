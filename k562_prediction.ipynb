{
  "nbformat": 4,
  "nbformat_minor": 0,
  "metadata": {
    "colab": {
      "name": "k562-prediction.ipynb",
      "provenance": [],
      "collapsed_sections": [],
      "authorship_tag": "ABX9TyNkZVSUMJQgWvPAMmuLnbXi",
      "include_colab_link": true
    },
    "kernelspec": {
      "name": "python3",
      "display_name": "Python 3"
    },
    "language_info": {
      "name": "python"
    },
    "widgets": {
      "application/vnd.jupyter.widget-state+json": {
        "ce398c40da684bd580afc2090867eec3": {
          "model_module": "@jupyter-widgets/controls",
          "model_name": "HBoxModel",
          "state": {
            "_view_name": "HBoxView",
            "_dom_classes": [],
            "_model_name": "HBoxModel",
            "_view_module": "@jupyter-widgets/controls",
            "_model_module_version": "1.5.0",
            "_view_count": null,
            "_view_module_version": "1.5.0",
            "box_style": "",
            "layout": "IPY_MODEL_f0061501d9194593bfceab9b3bbadf3d",
            "_model_module": "@jupyter-widgets/controls",
            "children": [
              "IPY_MODEL_2df2373254e44bfdbca2ec5906793315",
              "IPY_MODEL_070cf81f9e1841b7a30a2dfd38c17652"
            ]
          }
        },
        "f0061501d9194593bfceab9b3bbadf3d": {
          "model_module": "@jupyter-widgets/base",
          "model_name": "LayoutModel",
          "state": {
            "_view_name": "LayoutView",
            "grid_template_rows": null,
            "right": null,
            "justify_content": null,
            "_view_module": "@jupyter-widgets/base",
            "overflow": null,
            "_model_module_version": "1.2.0",
            "_view_count": null,
            "flex_flow": "row wrap",
            "width": "100%",
            "min_width": null,
            "border": null,
            "align_items": null,
            "bottom": null,
            "_model_module": "@jupyter-widgets/base",
            "top": null,
            "grid_column": null,
            "overflow_y": null,
            "overflow_x": null,
            "grid_auto_flow": null,
            "grid_area": null,
            "grid_template_columns": null,
            "flex": null,
            "_model_name": "LayoutModel",
            "justify_items": null,
            "grid_row": null,
            "max_height": null,
            "align_content": null,
            "visibility": null,
            "align_self": null,
            "height": null,
            "min_height": null,
            "padding": null,
            "grid_auto_rows": null,
            "grid_gap": null,
            "max_width": null,
            "order": null,
            "_view_module_version": "1.2.0",
            "grid_template_areas": null,
            "object_position": null,
            "object_fit": null,
            "grid_auto_columns": null,
            "margin": null,
            "display": "inline-flex",
            "left": null
          }
        },
        "2df2373254e44bfdbca2ec5906793315": {
          "model_module": "@jupyter-widgets/controls",
          "model_name": "FloatProgressModel",
          "state": {
            "_view_name": "ProgressView",
            "style": "IPY_MODEL_4f0b22f2c5a44b499444e4b02de1d2dc",
            "_dom_classes": [],
            "description": "Downloading to datasets/fantom/...oters/K562.csv.xz: 100%",
            "_model_name": "FloatProgressModel",
            "bar_style": "",
            "max": 76209932,
            "_view_module": "@jupyter-widgets/controls",
            "_model_module_version": "1.5.0",
            "value": 76209932,
            "_view_count": null,
            "_view_module_version": "1.5.0",
            "orientation": "horizontal",
            "min": 0,
            "description_tooltip": null,
            "_model_module": "@jupyter-widgets/controls",
            "layout": "IPY_MODEL_7ce7d0468de44fd38bd19745d814dc36"
          }
        },
        "070cf81f9e1841b7a30a2dfd38c17652": {
          "model_module": "@jupyter-widgets/controls",
          "model_name": "HTMLModel",
          "state": {
            "_view_name": "HTMLView",
            "style": "IPY_MODEL_9f7e733066cf414ca5985d5190acf93f",
            "_dom_classes": [],
            "description": "",
            "_model_name": "HTMLModel",
            "placeholder": "​",
            "_view_module": "@jupyter-widgets/controls",
            "_model_module_version": "1.5.0",
            "value": " 76.2M/76.2M [00:00&lt;00:00, 14.8MiB/s]",
            "_view_count": null,
            "_view_module_version": "1.5.0",
            "description_tooltip": null,
            "_model_module": "@jupyter-widgets/controls",
            "layout": "IPY_MODEL_b5e2902ef2c04c9eb9c9e2d82c3426a3"
          }
        },
        "4f0b22f2c5a44b499444e4b02de1d2dc": {
          "model_module": "@jupyter-widgets/controls",
          "model_name": "ProgressStyleModel",
          "state": {
            "_view_name": "StyleView",
            "_model_name": "ProgressStyleModel",
            "description_width": "initial",
            "_view_module": "@jupyter-widgets/base",
            "_model_module_version": "1.5.0",
            "_view_count": null,
            "_view_module_version": "1.2.0",
            "bar_color": null,
            "_model_module": "@jupyter-widgets/controls"
          }
        },
        "7ce7d0468de44fd38bd19745d814dc36": {
          "model_module": "@jupyter-widgets/base",
          "model_name": "LayoutModel",
          "state": {
            "_view_name": "LayoutView",
            "grid_template_rows": null,
            "right": null,
            "justify_content": null,
            "_view_module": "@jupyter-widgets/base",
            "overflow": null,
            "_model_module_version": "1.2.0",
            "_view_count": null,
            "flex_flow": null,
            "width": null,
            "min_width": null,
            "border": null,
            "align_items": null,
            "bottom": null,
            "_model_module": "@jupyter-widgets/base",
            "top": null,
            "grid_column": null,
            "overflow_y": null,
            "overflow_x": null,
            "grid_auto_flow": null,
            "grid_area": null,
            "grid_template_columns": null,
            "flex": "2",
            "_model_name": "LayoutModel",
            "justify_items": null,
            "grid_row": null,
            "max_height": null,
            "align_content": null,
            "visibility": null,
            "align_self": null,
            "height": null,
            "min_height": null,
            "padding": null,
            "grid_auto_rows": null,
            "grid_gap": null,
            "max_width": null,
            "order": null,
            "_view_module_version": "1.2.0",
            "grid_template_areas": null,
            "object_position": null,
            "object_fit": null,
            "grid_auto_columns": null,
            "margin": null,
            "display": null,
            "left": null
          }
        },
        "9f7e733066cf414ca5985d5190acf93f": {
          "model_module": "@jupyter-widgets/controls",
          "model_name": "DescriptionStyleModel",
          "state": {
            "_view_name": "StyleView",
            "_model_name": "DescriptionStyleModel",
            "description_width": "",
            "_view_module": "@jupyter-widgets/base",
            "_model_module_version": "1.5.0",
            "_view_count": null,
            "_view_module_version": "1.2.0",
            "_model_module": "@jupyter-widgets/controls"
          }
        },
        "b5e2902ef2c04c9eb9c9e2d82c3426a3": {
          "model_module": "@jupyter-widgets/base",
          "model_name": "LayoutModel",
          "state": {
            "_view_name": "LayoutView",
            "grid_template_rows": null,
            "right": null,
            "justify_content": null,
            "_view_module": "@jupyter-widgets/base",
            "overflow": null,
            "_model_module_version": "1.2.0",
            "_view_count": null,
            "flex_flow": null,
            "width": null,
            "min_width": null,
            "border": null,
            "align_items": null,
            "bottom": null,
            "_model_module": "@jupyter-widgets/base",
            "top": null,
            "grid_column": null,
            "overflow_y": null,
            "overflow_x": null,
            "grid_auto_flow": null,
            "grid_area": null,
            "grid_template_columns": null,
            "flex": null,
            "_model_name": "LayoutModel",
            "justify_items": null,
            "grid_row": null,
            "max_height": null,
            "align_content": null,
            "visibility": null,
            "align_self": null,
            "height": null,
            "min_height": null,
            "padding": null,
            "grid_auto_rows": null,
            "grid_gap": null,
            "max_width": null,
            "order": null,
            "_view_module_version": "1.2.0",
            "grid_template_areas": null,
            "object_position": null,
            "object_fit": null,
            "grid_auto_columns": null,
            "margin": null,
            "display": null,
            "left": null
          }
        },
        "221be032a7fb43f5a00ac092fc65c79c": {
          "model_module": "@jupyter-widgets/controls",
          "model_name": "HBoxModel",
          "state": {
            "_view_name": "HBoxView",
            "_dom_classes": [],
            "_model_name": "HBoxModel",
            "_view_module": "@jupyter-widgets/controls",
            "_model_module_version": "1.5.0",
            "_view_count": null,
            "_view_module_version": "1.5.0",
            "box_style": "",
            "layout": "IPY_MODEL_2cc3c7aca6b045c79b939f3c8ac3979e",
            "_model_module": "@jupyter-widgets/controls",
            "children": [
              "IPY_MODEL_8980b353406b443e8601453557a4b9da",
              "IPY_MODEL_56b46667ec0a41d1b5ab3940c0f29e6a"
            ]
          }
        },
        "2cc3c7aca6b045c79b939f3c8ac3979e": {
          "model_module": "@jupyter-widgets/base",
          "model_name": "LayoutModel",
          "state": {
            "_view_name": "LayoutView",
            "grid_template_rows": null,
            "right": null,
            "justify_content": null,
            "_view_module": "@jupyter-widgets/base",
            "overflow": null,
            "_model_module_version": "1.2.0",
            "_view_count": null,
            "flex_flow": "row wrap",
            "width": "100%",
            "min_width": null,
            "border": null,
            "align_items": null,
            "bottom": null,
            "_model_module": "@jupyter-widgets/base",
            "top": null,
            "grid_column": null,
            "overflow_y": null,
            "overflow_x": null,
            "grid_auto_flow": null,
            "grid_area": null,
            "grid_template_columns": null,
            "flex": null,
            "_model_name": "LayoutModel",
            "justify_items": null,
            "grid_row": null,
            "max_height": null,
            "align_content": null,
            "visibility": null,
            "align_self": null,
            "height": null,
            "min_height": null,
            "padding": null,
            "grid_auto_rows": null,
            "grid_gap": null,
            "max_width": null,
            "order": null,
            "_view_module_version": "1.2.0",
            "grid_template_areas": null,
            "object_position": null,
            "object_fit": null,
            "grid_auto_columns": null,
            "margin": null,
            "display": "inline-flex",
            "left": null
          }
        },
        "8980b353406b443e8601453557a4b9da": {
          "model_module": "@jupyter-widgets/controls",
          "model_name": "FloatProgressModel",
          "state": {
            "_view_name": "ProgressView",
            "style": "IPY_MODEL_6314cd92732e4d4a9861e582de17f043",
            "_dom_classes": [],
            "description": "Downloading to datasets/fantom/.../promoters.bed.xz: 100%",
            "_model_name": "FloatProgressModel",
            "bar_style": "",
            "max": 1219872,
            "_view_module": "@jupyter-widgets/controls",
            "_model_module_version": "1.5.0",
            "value": 1219872,
            "_view_count": null,
            "_view_module_version": "1.5.0",
            "orientation": "horizontal",
            "min": 0,
            "description_tooltip": null,
            "_model_module": "@jupyter-widgets/controls",
            "layout": "IPY_MODEL_588fbb85c1474009bdbdd5e3bb7bb57c"
          }
        },
        "56b46667ec0a41d1b5ab3940c0f29e6a": {
          "model_module": "@jupyter-widgets/controls",
          "model_name": "HTMLModel",
          "state": {
            "_view_name": "HTMLView",
            "style": "IPY_MODEL_c4f68451a5854692a8da37f80579dda2",
            "_dom_classes": [],
            "description": "",
            "_model_name": "HTMLModel",
            "placeholder": "​",
            "_view_module": "@jupyter-widgets/controls",
            "_model_module_version": "1.5.0",
            "value": " 1.22M/1.22M [00:00&lt;00:00, 1.95MiB/s]",
            "_view_count": null,
            "_view_module_version": "1.5.0",
            "description_tooltip": null,
            "_model_module": "@jupyter-widgets/controls",
            "layout": "IPY_MODEL_5d231244f7764240850868e124807252"
          }
        },
        "6314cd92732e4d4a9861e582de17f043": {
          "model_module": "@jupyter-widgets/controls",
          "model_name": "ProgressStyleModel",
          "state": {
            "_view_name": "StyleView",
            "_model_name": "ProgressStyleModel",
            "description_width": "initial",
            "_view_module": "@jupyter-widgets/base",
            "_model_module_version": "1.5.0",
            "_view_count": null,
            "_view_module_version": "1.2.0",
            "bar_color": null,
            "_model_module": "@jupyter-widgets/controls"
          }
        },
        "588fbb85c1474009bdbdd5e3bb7bb57c": {
          "model_module": "@jupyter-widgets/base",
          "model_name": "LayoutModel",
          "state": {
            "_view_name": "LayoutView",
            "grid_template_rows": null,
            "right": null,
            "justify_content": null,
            "_view_module": "@jupyter-widgets/base",
            "overflow": null,
            "_model_module_version": "1.2.0",
            "_view_count": null,
            "flex_flow": null,
            "width": null,
            "min_width": null,
            "border": null,
            "align_items": null,
            "bottom": null,
            "_model_module": "@jupyter-widgets/base",
            "top": null,
            "grid_column": null,
            "overflow_y": null,
            "overflow_x": null,
            "grid_auto_flow": null,
            "grid_area": null,
            "grid_template_columns": null,
            "flex": "2",
            "_model_name": "LayoutModel",
            "justify_items": null,
            "grid_row": null,
            "max_height": null,
            "align_content": null,
            "visibility": null,
            "align_self": null,
            "height": null,
            "min_height": null,
            "padding": null,
            "grid_auto_rows": null,
            "grid_gap": null,
            "max_width": null,
            "order": null,
            "_view_module_version": "1.2.0",
            "grid_template_areas": null,
            "object_position": null,
            "object_fit": null,
            "grid_auto_columns": null,
            "margin": null,
            "display": null,
            "left": null
          }
        },
        "c4f68451a5854692a8da37f80579dda2": {
          "model_module": "@jupyter-widgets/controls",
          "model_name": "DescriptionStyleModel",
          "state": {
            "_view_name": "StyleView",
            "_model_name": "DescriptionStyleModel",
            "description_width": "",
            "_view_module": "@jupyter-widgets/base",
            "_model_module_version": "1.5.0",
            "_view_count": null,
            "_view_module_version": "1.2.0",
            "_model_module": "@jupyter-widgets/controls"
          }
        },
        "5d231244f7764240850868e124807252": {
          "model_module": "@jupyter-widgets/base",
          "model_name": "LayoutModel",
          "state": {
            "_view_name": "LayoutView",
            "grid_template_rows": null,
            "right": null,
            "justify_content": null,
            "_view_module": "@jupyter-widgets/base",
            "overflow": null,
            "_model_module_version": "1.2.0",
            "_view_count": null,
            "flex_flow": null,
            "width": null,
            "min_width": null,
            "border": null,
            "align_items": null,
            "bottom": null,
            "_model_module": "@jupyter-widgets/base",
            "top": null,
            "grid_column": null,
            "overflow_y": null,
            "overflow_x": null,
            "grid_auto_flow": null,
            "grid_area": null,
            "grid_template_columns": null,
            "flex": null,
            "_model_name": "LayoutModel",
            "justify_items": null,
            "grid_row": null,
            "max_height": null,
            "align_content": null,
            "visibility": null,
            "align_self": null,
            "height": null,
            "min_height": null,
            "padding": null,
            "grid_auto_rows": null,
            "grid_gap": null,
            "max_width": null,
            "order": null,
            "_view_module_version": "1.2.0",
            "grid_template_areas": null,
            "object_position": null,
            "object_fit": null,
            "grid_auto_columns": null,
            "margin": null,
            "display": null,
            "left": null
          }
        },
        "5b86b368e623407fafdcf7b171a48ca4": {
          "model_module": "@jupyter-widgets/controls",
          "model_name": "HBoxModel",
          "state": {
            "_view_name": "HBoxView",
            "_dom_classes": [],
            "_model_name": "HBoxModel",
            "_view_module": "@jupyter-widgets/controls",
            "_model_module_version": "1.5.0",
            "_view_count": null,
            "_view_module_version": "1.5.0",
            "box_style": "",
            "layout": "IPY_MODEL_a874a82646fe4dd19814f9a75b795242",
            "_model_module": "@jupyter-widgets/controls",
            "children": [
              "IPY_MODEL_124a7765d7204f0cb324f00fd685454a",
              "IPY_MODEL_d43384cf66f445f5901510c363fe854f"
            ]
          }
        },
        "a874a82646fe4dd19814f9a75b795242": {
          "model_module": "@jupyter-widgets/base",
          "model_name": "LayoutModel",
          "state": {
            "_view_name": "LayoutView",
            "grid_template_rows": null,
            "right": null,
            "justify_content": null,
            "_view_module": "@jupyter-widgets/base",
            "overflow": null,
            "_model_module_version": "1.2.0",
            "_view_count": null,
            "flex_flow": "row wrap",
            "width": "100%",
            "min_width": null,
            "border": null,
            "align_items": null,
            "bottom": null,
            "_model_module": "@jupyter-widgets/base",
            "top": null,
            "grid_column": null,
            "overflow_y": null,
            "overflow_x": null,
            "grid_auto_flow": null,
            "grid_area": null,
            "grid_template_columns": null,
            "flex": null,
            "_model_name": "LayoutModel",
            "justify_items": null,
            "grid_row": null,
            "max_height": null,
            "align_content": null,
            "visibility": null,
            "align_self": null,
            "height": null,
            "min_height": null,
            "padding": null,
            "grid_auto_rows": null,
            "grid_gap": null,
            "max_width": null,
            "order": null,
            "_view_module_version": "1.2.0",
            "grid_template_areas": null,
            "object_position": null,
            "object_fit": null,
            "grid_auto_columns": null,
            "margin": null,
            "display": "inline-flex",
            "left": null
          }
        },
        "124a7765d7204f0cb324f00fd685454a": {
          "model_module": "@jupyter-widgets/controls",
          "model_name": "FloatProgressModel",
          "state": {
            "_view_name": "ProgressView",
            "style": "IPY_MODEL_9c3bb2cee5ec44feb6d76fe8d1db021a",
            "_dom_classes": [],
            "description": "Downloading to datasets/fantom/...ncers/K562.csv.xz: 100%",
            "_model_name": "FloatProgressModel",
            "bar_style": "",
            "max": 44639412,
            "_view_module": "@jupyter-widgets/controls",
            "_model_module_version": "1.5.0",
            "value": 44639412,
            "_view_count": null,
            "_view_module_version": "1.5.0",
            "orientation": "horizontal",
            "min": 0,
            "description_tooltip": null,
            "_model_module": "@jupyter-widgets/controls",
            "layout": "IPY_MODEL_f8a5b388aec74824ad2d29b1d0f73f03"
          }
        },
        "d43384cf66f445f5901510c363fe854f": {
          "model_module": "@jupyter-widgets/controls",
          "model_name": "HTMLModel",
          "state": {
            "_view_name": "HTMLView",
            "style": "IPY_MODEL_032341403d584eeeaa827435c483f6ed",
            "_dom_classes": [],
            "description": "",
            "_model_name": "HTMLModel",
            "placeholder": "​",
            "_view_module": "@jupyter-widgets/controls",
            "_model_module_version": "1.5.0",
            "value": " 44.6M/44.6M [00:00&lt;00:00, 10.0MiB/s]",
            "_view_count": null,
            "_view_module_version": "1.5.0",
            "description_tooltip": null,
            "_model_module": "@jupyter-widgets/controls",
            "layout": "IPY_MODEL_cc4d7e6b3a55469f9e9f0ea42985e440"
          }
        },
        "9c3bb2cee5ec44feb6d76fe8d1db021a": {
          "model_module": "@jupyter-widgets/controls",
          "model_name": "ProgressStyleModel",
          "state": {
            "_view_name": "StyleView",
            "_model_name": "ProgressStyleModel",
            "description_width": "initial",
            "_view_module": "@jupyter-widgets/base",
            "_model_module_version": "1.5.0",
            "_view_count": null,
            "_view_module_version": "1.2.0",
            "bar_color": null,
            "_model_module": "@jupyter-widgets/controls"
          }
        },
        "f8a5b388aec74824ad2d29b1d0f73f03": {
          "model_module": "@jupyter-widgets/base",
          "model_name": "LayoutModel",
          "state": {
            "_view_name": "LayoutView",
            "grid_template_rows": null,
            "right": null,
            "justify_content": null,
            "_view_module": "@jupyter-widgets/base",
            "overflow": null,
            "_model_module_version": "1.2.0",
            "_view_count": null,
            "flex_flow": null,
            "width": null,
            "min_width": null,
            "border": null,
            "align_items": null,
            "bottom": null,
            "_model_module": "@jupyter-widgets/base",
            "top": null,
            "grid_column": null,
            "overflow_y": null,
            "overflow_x": null,
            "grid_auto_flow": null,
            "grid_area": null,
            "grid_template_columns": null,
            "flex": "2",
            "_model_name": "LayoutModel",
            "justify_items": null,
            "grid_row": null,
            "max_height": null,
            "align_content": null,
            "visibility": null,
            "align_self": null,
            "height": null,
            "min_height": null,
            "padding": null,
            "grid_auto_rows": null,
            "grid_gap": null,
            "max_width": null,
            "order": null,
            "_view_module_version": "1.2.0",
            "grid_template_areas": null,
            "object_position": null,
            "object_fit": null,
            "grid_auto_columns": null,
            "margin": null,
            "display": null,
            "left": null
          }
        },
        "032341403d584eeeaa827435c483f6ed": {
          "model_module": "@jupyter-widgets/controls",
          "model_name": "DescriptionStyleModel",
          "state": {
            "_view_name": "StyleView",
            "_model_name": "DescriptionStyleModel",
            "description_width": "",
            "_view_module": "@jupyter-widgets/base",
            "_model_module_version": "1.5.0",
            "_view_count": null,
            "_view_module_version": "1.2.0",
            "_model_module": "@jupyter-widgets/controls"
          }
        },
        "cc4d7e6b3a55469f9e9f0ea42985e440": {
          "model_module": "@jupyter-widgets/base",
          "model_name": "LayoutModel",
          "state": {
            "_view_name": "LayoutView",
            "grid_template_rows": null,
            "right": null,
            "justify_content": null,
            "_view_module": "@jupyter-widgets/base",
            "overflow": null,
            "_model_module_version": "1.2.0",
            "_view_count": null,
            "flex_flow": null,
            "width": null,
            "min_width": null,
            "border": null,
            "align_items": null,
            "bottom": null,
            "_model_module": "@jupyter-widgets/base",
            "top": null,
            "grid_column": null,
            "overflow_y": null,
            "overflow_x": null,
            "grid_auto_flow": null,
            "grid_area": null,
            "grid_template_columns": null,
            "flex": null,
            "_model_name": "LayoutModel",
            "justify_items": null,
            "grid_row": null,
            "max_height": null,
            "align_content": null,
            "visibility": null,
            "align_self": null,
            "height": null,
            "min_height": null,
            "padding": null,
            "grid_auto_rows": null,
            "grid_gap": null,
            "max_width": null,
            "order": null,
            "_view_module_version": "1.2.0",
            "grid_template_areas": null,
            "object_position": null,
            "object_fit": null,
            "grid_auto_columns": null,
            "margin": null,
            "display": null,
            "left": null
          }
        },
        "45263e7eb80e4810a49ec3e19bcf5ced": {
          "model_module": "@jupyter-widgets/controls",
          "model_name": "HBoxModel",
          "state": {
            "_view_name": "HBoxView",
            "_dom_classes": [],
            "_model_name": "HBoxModel",
            "_view_module": "@jupyter-widgets/controls",
            "_model_module_version": "1.5.0",
            "_view_count": null,
            "_view_module_version": "1.5.0",
            "box_style": "",
            "layout": "IPY_MODEL_0ff8e9f5aa514c3bbb37a7b0511dd74b",
            "_model_module": "@jupyter-widgets/controls",
            "children": [
              "IPY_MODEL_a02bf8de77bd459a833578afa1e51ea2",
              "IPY_MODEL_4d1fe88a7af749fdb980588aa4ab4777"
            ]
          }
        },
        "0ff8e9f5aa514c3bbb37a7b0511dd74b": {
          "model_module": "@jupyter-widgets/base",
          "model_name": "LayoutModel",
          "state": {
            "_view_name": "LayoutView",
            "grid_template_rows": null,
            "right": null,
            "justify_content": null,
            "_view_module": "@jupyter-widgets/base",
            "overflow": null,
            "_model_module_version": "1.2.0",
            "_view_count": null,
            "flex_flow": "row wrap",
            "width": "100%",
            "min_width": null,
            "border": null,
            "align_items": null,
            "bottom": null,
            "_model_module": "@jupyter-widgets/base",
            "top": null,
            "grid_column": null,
            "overflow_y": null,
            "overflow_x": null,
            "grid_auto_flow": null,
            "grid_area": null,
            "grid_template_columns": null,
            "flex": null,
            "_model_name": "LayoutModel",
            "justify_items": null,
            "grid_row": null,
            "max_height": null,
            "align_content": null,
            "visibility": null,
            "align_self": null,
            "height": null,
            "min_height": null,
            "padding": null,
            "grid_auto_rows": null,
            "grid_gap": null,
            "max_width": null,
            "order": null,
            "_view_module_version": "1.2.0",
            "grid_template_areas": null,
            "object_position": null,
            "object_fit": null,
            "grid_auto_columns": null,
            "margin": null,
            "display": "inline-flex",
            "left": null
          }
        },
        "a02bf8de77bd459a833578afa1e51ea2": {
          "model_module": "@jupyter-widgets/controls",
          "model_name": "FloatProgressModel",
          "state": {
            "_view_name": "ProgressView",
            "style": "IPY_MODEL_df08db2117e64a91bcf1570314c6aa22",
            "_dom_classes": [],
            "description": "Downloading to datasets/fantom/.../enhancers.bed.xz: 100%",
            "_model_name": "FloatProgressModel",
            "bar_style": "",
            "max": 460128,
            "_view_module": "@jupyter-widgets/controls",
            "_model_module_version": "1.5.0",
            "value": 460128,
            "_view_count": null,
            "_view_module_version": "1.5.0",
            "orientation": "horizontal",
            "min": 0,
            "description_tooltip": null,
            "_model_module": "@jupyter-widgets/controls",
            "layout": "IPY_MODEL_8f1b74a491bb4210855cc9722d543b76"
          }
        },
        "4d1fe88a7af749fdb980588aa4ab4777": {
          "model_module": "@jupyter-widgets/controls",
          "model_name": "HTMLModel",
          "state": {
            "_view_name": "HTMLView",
            "style": "IPY_MODEL_6dbb32e4af834536af2a84276240a9d9",
            "_dom_classes": [],
            "description": "",
            "_model_name": "HTMLModel",
            "placeholder": "​",
            "_view_module": "@jupyter-widgets/controls",
            "_model_module_version": "1.5.0",
            "value": " 460k/460k [00:00&lt;00:00, 3.17MiB/s]",
            "_view_count": null,
            "_view_module_version": "1.5.0",
            "description_tooltip": null,
            "_model_module": "@jupyter-widgets/controls",
            "layout": "IPY_MODEL_3d92f5991582473c82f3a5e99b47017f"
          }
        },
        "df08db2117e64a91bcf1570314c6aa22": {
          "model_module": "@jupyter-widgets/controls",
          "model_name": "ProgressStyleModel",
          "state": {
            "_view_name": "StyleView",
            "_model_name": "ProgressStyleModel",
            "description_width": "initial",
            "_view_module": "@jupyter-widgets/base",
            "_model_module_version": "1.5.0",
            "_view_count": null,
            "_view_module_version": "1.2.0",
            "bar_color": null,
            "_model_module": "@jupyter-widgets/controls"
          }
        },
        "8f1b74a491bb4210855cc9722d543b76": {
          "model_module": "@jupyter-widgets/base",
          "model_name": "LayoutModel",
          "state": {
            "_view_name": "LayoutView",
            "grid_template_rows": null,
            "right": null,
            "justify_content": null,
            "_view_module": "@jupyter-widgets/base",
            "overflow": null,
            "_model_module_version": "1.2.0",
            "_view_count": null,
            "flex_flow": null,
            "width": null,
            "min_width": null,
            "border": null,
            "align_items": null,
            "bottom": null,
            "_model_module": "@jupyter-widgets/base",
            "top": null,
            "grid_column": null,
            "overflow_y": null,
            "overflow_x": null,
            "grid_auto_flow": null,
            "grid_area": null,
            "grid_template_columns": null,
            "flex": "2",
            "_model_name": "LayoutModel",
            "justify_items": null,
            "grid_row": null,
            "max_height": null,
            "align_content": null,
            "visibility": null,
            "align_self": null,
            "height": null,
            "min_height": null,
            "padding": null,
            "grid_auto_rows": null,
            "grid_gap": null,
            "max_width": null,
            "order": null,
            "_view_module_version": "1.2.0",
            "grid_template_areas": null,
            "object_position": null,
            "object_fit": null,
            "grid_auto_columns": null,
            "margin": null,
            "display": null,
            "left": null
          }
        },
        "6dbb32e4af834536af2a84276240a9d9": {
          "model_module": "@jupyter-widgets/controls",
          "model_name": "DescriptionStyleModel",
          "state": {
            "_view_name": "StyleView",
            "_model_name": "DescriptionStyleModel",
            "description_width": "",
            "_view_module": "@jupyter-widgets/base",
            "_model_module_version": "1.5.0",
            "_view_count": null,
            "_view_module_version": "1.2.0",
            "_model_module": "@jupyter-widgets/controls"
          }
        },
        "3d92f5991582473c82f3a5e99b47017f": {
          "model_module": "@jupyter-widgets/base",
          "model_name": "LayoutModel",
          "state": {
            "_view_name": "LayoutView",
            "grid_template_rows": null,
            "right": null,
            "justify_content": null,
            "_view_module": "@jupyter-widgets/base",
            "overflow": null,
            "_model_module_version": "1.2.0",
            "_view_count": null,
            "flex_flow": null,
            "width": null,
            "min_width": null,
            "border": null,
            "align_items": null,
            "bottom": null,
            "_model_module": "@jupyter-widgets/base",
            "top": null,
            "grid_column": null,
            "overflow_y": null,
            "overflow_x": null,
            "grid_auto_flow": null,
            "grid_area": null,
            "grid_template_columns": null,
            "flex": null,
            "_model_name": "LayoutModel",
            "justify_items": null,
            "grid_row": null,
            "max_height": null,
            "align_content": null,
            "visibility": null,
            "align_self": null,
            "height": null,
            "min_height": null,
            "padding": null,
            "grid_auto_rows": null,
            "grid_gap": null,
            "max_width": null,
            "order": null,
            "_view_module_version": "1.2.0",
            "grid_template_areas": null,
            "object_position": null,
            "object_fit": null,
            "grid_auto_columns": null,
            "margin": null,
            "display": null,
            "left": null
          }
        }
      }
    }
  },
  "cells": [
    {
      "cell_type": "markdown",
      "metadata": {
        "id": "view-in-github",
        "colab_type": "text"
      },
      "source": [
        "<a href=\"https://colab.research.google.com/github/Stefano-t/bioinf-lab/blob/main/k562_prediction.ipynb\" target=\"_parent\"><img src=\"https://colab.research.google.com/assets/colab-badge.svg\" alt=\"Open In Colab\"/></a>"
      ]
    },
    {
      "cell_type": "code",
      "metadata": {
        "colab": {
          "base_uri": "https://localhost:8080/"
        },
        "id": "4SFo1hy6_lSK",
        "outputId": "133c640d-d3bd-4363-b511-39d1f5e76354"
      },
      "source": [
        "!pip install crr_labels epigenomic_dataset ucsc_genomes_downloader cache_decorator &> /dev/null && echo \"done\""
      ],
      "execution_count": 1,
      "outputs": [
        {
          "output_type": "stream",
          "text": [
            "done\n"
          ],
          "name": "stdout"
        }
      ]
    },
    {
      "cell_type": "code",
      "metadata": {
        "id": "5KJb7fmo_HrC"
      },
      "source": [
        "from cache_decorator import Cache\n",
        "import numpy as np\n",
        "import pandas as pd\n",
        "from tqdm.auto import tqdm\n",
        "from matplotlib.axes import Axes\n",
        "from matplotlib.figure import Figure\n",
        "from matplotlib.colors import ListedColormap, LogNorm\n",
        "from multiprocessing import cpu_count, Pool\n",
        "import matplotlib.pyplot as plt\n",
        "from epigenomic_dataset import load_epigenomes"
      ],
      "execution_count": 2,
      "outputs": []
    },
    {
      "cell_type": "code",
      "metadata": {
        "id": "Oujt-ycE_eiB",
        "colab": {
          "base_uri": "https://localhost:8080/",
          "height": 17,
          "referenced_widgets": [
            "ce398c40da684bd580afc2090867eec3",
            "f0061501d9194593bfceab9b3bbadf3d",
            "2df2373254e44bfdbca2ec5906793315",
            "070cf81f9e1841b7a30a2dfd38c17652",
            "4f0b22f2c5a44b499444e4b02de1d2dc",
            "7ce7d0468de44fd38bd19745d814dc36",
            "9f7e733066cf414ca5985d5190acf93f",
            "b5e2902ef2c04c9eb9c9e2d82c3426a3",
            "221be032a7fb43f5a00ac092fc65c79c",
            "2cc3c7aca6b045c79b939f3c8ac3979e",
            "8980b353406b443e8601453557a4b9da",
            "56b46667ec0a41d1b5ab3940c0f29e6a",
            "6314cd92732e4d4a9861e582de17f043",
            "588fbb85c1474009bdbdd5e3bb7bb57c",
            "c4f68451a5854692a8da37f80579dda2",
            "5d231244f7764240850868e124807252",
            "5b86b368e623407fafdcf7b171a48ca4",
            "a874a82646fe4dd19814f9a75b795242",
            "124a7765d7204f0cb324f00fd685454a",
            "d43384cf66f445f5901510c363fe854f",
            "9c3bb2cee5ec44feb6d76fe8d1db021a",
            "f8a5b388aec74824ad2d29b1d0f73f03",
            "032341403d584eeeaa827435c483f6ed",
            "cc4d7e6b3a55469f9e9f0ea42985e440",
            "45263e7eb80e4810a49ec3e19bcf5ced",
            "0ff8e9f5aa514c3bbb37a7b0511dd74b",
            "a02bf8de77bd459a833578afa1e51ea2",
            "4d1fe88a7af749fdb980588aa4ab4777",
            "df08db2117e64a91bcf1570314c6aa22",
            "8f1b74a491bb4210855cc9722d543b76",
            "6dbb32e4af834536af2a84276240a9d9",
            "3d92f5991582473c82f3a5e99b47017f"
          ]
        },
        "outputId": "b6010445-032f-4303-8504-aafec6de82d2"
      },
      "source": [
        "cell_line = \"K562\"\n",
        "genome_assembly = \"hg38\"\n",
        "window_size = 256\n",
        "\n",
        "promoters_epigenomes, promoters_labels = load_epigenomes(\n",
        "    cell_line = cell_line,\n",
        "    dataset = \"fantom\",\n",
        "    region = \"promoters\",\n",
        "    window_size = window_size,\n",
        "    root = \"datasets\"\n",
        ")\n",
        "\n",
        "enhancers_epigenomes, enhancers_labels = load_epigenomes(\n",
        "    cell_line = cell_line,\n",
        "    dataset = \"fantom\",\n",
        "    region = \"enhancers\",\n",
        "    window_size = window_size,\n",
        "    root = \"datasets\"\n",
        ")"
      ],
      "execution_count": 3,
      "outputs": [
        {
          "output_type": "display_data",
          "data": {
            "application/vnd.jupyter.widget-view+json": {
              "model_id": "ce398c40da684bd580afc2090867eec3",
              "version_minor": 0,
              "version_major": 2
            },
            "text/plain": [
              "HBox(children=(FloatProgress(value=0.0, description='Downloading to datasets/fantom/...oters/K562.csv.xz', lay…"
            ]
          },
          "metadata": {
            "tags": []
          }
        },
        {
          "output_type": "stream",
          "text": [
            "\r"
          ],
          "name": "stdout"
        },
        {
          "output_type": "display_data",
          "data": {
            "application/vnd.jupyter.widget-view+json": {
              "model_id": "221be032a7fb43f5a00ac092fc65c79c",
              "version_minor": 0,
              "version_major": 2
            },
            "text/plain": [
              "HBox(children=(FloatProgress(value=0.0, description='Downloading to datasets/fantom/.../promoters.bed.xz', lay…"
            ]
          },
          "metadata": {
            "tags": []
          }
        },
        {
          "output_type": "stream",
          "text": [
            "\r"
          ],
          "name": "stdout"
        },
        {
          "output_type": "display_data",
          "data": {
            "application/vnd.jupyter.widget-view+json": {
              "model_id": "5b86b368e623407fafdcf7b171a48ca4",
              "version_minor": 0,
              "version_major": 2
            },
            "text/plain": [
              "HBox(children=(FloatProgress(value=0.0, description='Downloading to datasets/fantom/...ncers/K562.csv.xz', lay…"
            ]
          },
          "metadata": {
            "tags": []
          }
        },
        {
          "output_type": "stream",
          "text": [
            "\r"
          ],
          "name": "stdout"
        },
        {
          "output_type": "display_data",
          "data": {
            "application/vnd.jupyter.widget-view+json": {
              "model_id": "45263e7eb80e4810a49ec3e19bcf5ced",
              "version_minor": 0,
              "version_major": 2
            },
            "text/plain": [
              "HBox(children=(FloatProgress(value=0.0, description='Downloading to datasets/fantom/.../enhancers.bed.xz', lay…"
            ]
          },
          "metadata": {
            "tags": []
          }
        },
        {
          "output_type": "stream",
          "text": [
            "\r"
          ],
          "name": "stdout"
        }
      ]
    },
    {
      "cell_type": "code",
      "metadata": {
        "id": "9vDJ3AoYVeeT"
      },
      "source": [
        "def describe_dataset(\n",
        "    X: pd.DataFrame,\n",
        "    y: pd.DataFrame\n",
        "):\n",
        "    \"\"\"Performe a quick report for some relevant information in the dataset.\n",
        "\n",
        "    Parameters\n",
        "    ---------- \n",
        "    X: pd.DataFrame\n",
        "        The dataframe to describe.\n",
        "    y: pd.DataFrame\n",
        "        The labels to describe.\n",
        "    \"\"\"\n",
        "    print(X.describe())\n",
        "    print(X[:5])\n",
        "    print(y.describe())\n",
        "    print(y[:5])\n",
        "    print(\"=\"*30, \"Feature Sample ration\", \"=\"*30)\n",
        "    print(f\"Features/Samples ratio is: {X.shape[0] / X.shape[1]}\")\n",
        "    print(\"=\"*30, \"NaN count\", \"=\"*30)\n",
        "    print(f\"Total NaN values: {X.isna().values.sum()}/{X.values.size}\")\n",
        "    print(f\"Max NaN in a row: {X.isna().sum(axis=1).max()}/{X.shape[1]}\")\n",
        "    print(f\"Max NaN in a feature: {X.isna().sum().max()}/{X.shape[0]}\")   "
      ],
      "execution_count": 32,
      "outputs": []
    },
    {
      "cell_type": "code",
      "metadata": {
        "colab": {
          "base_uri": "https://localhost:8080/"
        },
        "id": "bQD0hZtuVwLI",
        "outputId": "9c52a390-4332-4cc4-d77b-739b56d2c14e"
      },
      "source": [
        "describe_dataset(promoters_epigenomes, promoters_labels)"
      ],
      "execution_count": 33,
      "outputs": [
        {
          "output_type": "stream",
          "text": [
            "chrom         SMAD5         NCOA2  ...         NCOA1          KLF1\n",
            "count  99881.000000  99881.000000  ...  99881.000000  99881.000000\n",
            "mean       2.238571      0.657735  ...      0.699335      1.298927\n",
            "std        2.650387      0.930009  ...      0.462811      1.111308\n",
            "min        0.000000      0.000000  ...      0.000000      0.000000\n",
            "25%        0.620000      0.410000  ...      0.370000      0.660000\n",
            "50%        1.100000      0.600000  ...      0.650000      1.040000\n",
            "75%        3.070000      0.800000  ...      0.970000      1.620000\n",
            "max       55.770000     38.470000  ...     11.170000     46.240000\n",
            "\n",
            "[8 rows x 429 columns]\n",
            "chrom                             SMAD5  NCOA2  ZNF23  ...  NCOR1  NCOA1  KLF1\n",
            "chrom chromStart chromEnd strand                       ...                    \n",
            "chr1  628964     629220   +        0.14   1.00   0.19  ...   1.40   1.74  1.59\n",
            "      629013     629269   +        0.14   0.97   0.20  ...   1.42   1.63  1.21\n",
            "      629642     629898   +        0.00   0.11   0.11  ...   0.00   0.16  0.09\n",
            "      629847     630103   +        0.12   1.07   0.91  ...   0.40   0.60  0.88\n",
            "      629905     630161   +        0.49   1.37   1.02  ...   0.54   0.61  1.15\n",
            "\n",
            "[5 rows x 429 columns]\n",
            "               K562\n",
            "count  99881.000000\n",
            "mean       8.372412\n",
            "std       97.990822\n",
            "min        0.000000\n",
            "25%        0.000000\n",
            "50%        0.000000\n",
            "75%        0.588911\n",
            "max    15463.916574\n",
            "                                      K562\n",
            "chrom chromStart chromEnd strand          \n",
            "chr1  628964     629220   +       0.588911\n",
            "      629013     629269   +       0.294455\n",
            "      629642     629898   +       0.588911\n",
            "      629847     630103   +       0.000000\n",
            "      629905     630161   +       2.061188\n",
            "============================== Feature Sample ration ==============================\n",
            "Features/Samples ratio is: 232.82284382284382\n",
            "============================== NaN count ==============================\n",
            "Total NaN values: 496/42848949\n",
            "Max NaN in a row: 20/429\n",
            "Max NaN in a feature: 250/99881\n"
          ],
          "name": "stdout"
        }
      ]
    },
    {
      "cell_type": "code",
      "metadata": {
        "colab": {
          "base_uri": "https://localhost:8080/"
        },
        "id": "HFwG_ivfV4bM",
        "outputId": "7ff5c499-0402-4711-d95f-80f094c27d40"
      },
      "source": [
        "describe_dataset(enhancers_epigenomes, enhancers_labels)"
      ],
      "execution_count": 34,
      "outputs": [
        {
          "output_type": "stream",
          "text": [
            "chrom         SMAD5         NCOA2  ...         NCOA1          KLF1\n",
            "count  63285.000000  63285.000000  ...  63285.000000  63285.000000\n",
            "mean       0.854204      0.743733  ...      0.808300      0.942412\n",
            "std        0.878816      0.334574  ...      0.520243      0.563087\n",
            "min        0.000000      0.000000  ...      0.000000      0.000000\n",
            "25%        0.460000      0.520000  ...      0.480000      0.610000\n",
            "50%        0.720000      0.720000  ...      0.770000      0.870000\n",
            "75%        1.030000      0.930000  ...      1.080000      1.170000\n",
            "max       35.750000      6.470000  ...     37.360000     34.320000\n",
            "\n",
            "[8 rows x 429 columns]\n",
            "chrom                              SMAD5  NCOA2  ZNF23  ...  NCOR1  NCOA1  KLF1\n",
            "chrom chromStart chromEnd  strand                       ...                    \n",
            "chr10 100006381  100006637 .        0.90   0.90   1.37  ...   2.38   0.82  0.69\n",
            "      100008146  100008402 .        0.73   1.06   0.74  ...   3.11   0.49  1.05\n",
            "      100014418  100014674 .        0.77   0.33   0.53  ...   0.61   0.97  0.96\n",
            "      100020216  100020472 .        0.87   0.80   0.83  ...   0.57   0.03  1.07\n",
            "      100043528  100043784 .        0.64   0.53   0.03  ...   1.26   1.73  0.33\n",
            "\n",
            "[5 rows x 429 columns]\n",
            "               K562\n",
            "count  63285.000000\n",
            "mean       0.050866\n",
            "std        0.591588\n",
            "min        0.000000\n",
            "25%        0.000000\n",
            "50%        0.000000\n",
            "75%        0.000000\n",
            "max       61.711105\n",
            "                                   K562\n",
            "chrom chromStart chromEnd  strand      \n",
            "chr10 100006381  100006637 .        0.0\n",
            "      100008146  100008402 .        0.0\n",
            "      100014418  100014674 .        0.0\n",
            "      100020216  100020472 .        0.0\n",
            "      100043528  100043784 .        0.0\n",
            "============================== Feature Sample ration ==============================\n",
            "Features/Samples ratio is: 147.5174825174825\n",
            "============================== NaN count ==============================\n",
            "Total NaN values: 102/27149265\n",
            "Max NaN in a row: 7/429\n",
            "Max NaN in a feature: 93/63285\n"
          ],
          "name": "stdout"
        }
      ]
    },
    {
      "cell_type": "code",
      "metadata": {
        "id": "97YNjanmbL00"
      },
      "source": [
        "def drop_constant_features(X: pd.DataFrame) -> (pd.DataFrame, bool):\n",
        "    \"\"\"Return a DataFrame without constant features in in.\n",
        "\n",
        "    Parameters\n",
        "    ----------------\n",
        "    X: pd.DataFrame\n",
        "        The dataframe to process.\n",
        "\n",
        "    Returns\n",
        "    ----------------\n",
        "    A tuple with the new DataFrame and a boolean value to point out if the\n",
        "    new DataFrame is distinct from the input one.\n",
        "    \"\"\"\n",
        "    new_X = X.loc[:, (df != df.iloc[0]).any()]\n",
        "    return (new_X, new_X != X)"
      ],
      "execution_count": null,
      "outputs": []
    },
    {
      "cell_type": "code",
      "metadata": {
        "id": "ukroQ8F9TbG_"
      },
      "source": [
        "def impute_with_median(X: pd.DataFrame) -> pd.DataFrame:\n",
        "    return df.fillna(df.median())"
      ],
      "execution_count": 35,
      "outputs": []
    },
    {
      "cell_type": "code",
      "metadata": {
        "id": "VaMyMJH4aquS"
      },
      "source": [
        "from sklearn.preprocessing import RobustScaler\n",
        "\n",
        "def robust_scaler(X: pd.DataFrame) -> pd.DataFrame:\n",
        "    return pd.DataFrame(\n",
        "        RobustScaler().fit_transform(X.values),\n",
        "        columns=X.columns,\n",
        "        index=X.index\n",
        "    )"
      ],
      "execution_count": 36,
      "outputs": []
    },
    {
      "cell_type": "code",
      "metadata": {
        "id": "O_CRxQ7FbHui"
      },
      "source": [
        ""
      ],
      "execution_count": null,
      "outputs": []
    }
  ]
}